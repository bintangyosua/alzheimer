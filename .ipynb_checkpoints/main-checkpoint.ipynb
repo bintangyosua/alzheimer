{
 "cells": [
  {
   "cell_type": "code",
   "execution_count": null,
   "id": "bkHC",
   "metadata": {},
   "outputs": [],
   "source": [
    "import numpy as np\n",
    "import pandas as pd\n",
    "import matplotlib.pyplot as plt\n",
    "import seaborn as sns\n",
    "import altair as alt\n",
    "\n",
    "from sklearn.preprocessing import LabelEncoder, StandardScaler\n",
    "from sklearn.model_selection import train_test_split\n",
    "from sklearn.metrics import accuracy_score, classification_report\n",
    "from sklearn.neighbors import KNeighborsClassifier, NearestNeighbors\n",
    "from sklearn.svm import SVC\n",
    "from sklearn.ensemble import RandomForestClassifier, GradientBoostingClassifier, ExtraTreesClassifier\n",
    "from sklearn.metrics import confusion_matrix, ConfusionMatrixDisplay, classification_report\n",
    "from sklearn.decomposition import PCA, KernelPCA\n",
    "from sklearn.manifold import TSNE, LocallyLinearEmbedding, MDS\n",
    "\n",
    "from umap import UMAP\n",
    "\n",
    "import xgboost as xgb"
   ]
  },
  {
   "cell_type": "code",
   "execution_count": null,
   "id": "dNNg",
   "metadata": {},
   "outputs": [],
   "source": [
    "# def dimensional_reduction(model, X_scaled):\n",
    "#     X_scaled = model.fit_transform(X_scaled)\n",
    "\n",
    "#     return X_scaled"
   ]
  },
  {
   "cell_type": "code",
   "execution_count": null,
   "id": "yCnT",
   "metadata": {},
   "outputs": [],
   "source": [
    "# def decision_boundary(model, X_scaled, y, model_name, ax):\n",
    "#     \"\"\"\n",
    "#     Function to plot the decision boundary of a given model using 2D data.\n",
    "\n",
    "#     Parameters:\n",
    "#     model: The classifier (e.g., XGBoost, KNN).\n",
    "#     X_train_2d: 2D transformed training data (from any dimensionality reduction technique).\n",
    "#     X_test_2d: 2D transformed testing data (from any dimensionality reduction technique).\n",
    "#     y_train: Training labels.\n",
    "#     y_test: Testing labels.\n",
    "#     model_name: Name of the model (e.g., 'XGBoost', 'KNN').\n",
    "#     ax: The axis object for plotting.\n",
    "\n",
    "#     Returns:\n",
    "#     ax: The updated axis with the decision boundary plot.\n",
    "#     \"\"\"\n",
    "#     # Fit the model\n",
    "#     model.fit(X_scaled, y)\n",
    "\n",
    "#     # Set up the mesh grid for plotting decision boundaries\n",
    "#     x_min, x_max = X_scaled[:, 0].min() - 1, X_scaled[:, 0].max() + 1\n",
    "#     y_min, y_max = X_scaled[:, 1].min() - 1, X_scaled[:, 1].max() + 1\n",
    "#     xx, yy = np.meshgrid(np.arange(x_min, x_max, 0.1),\n",
    "#                          np.arange(y_min, y_max, 0.1))\n",
    "\n",
    "#     # Predict the label for each point on the mesh grid\n",
    "#     Z = model.predict(np.c_[xx.ravel(), yy.ravel()])\n",
    "#     Z = Z.reshape(xx.shape)\n",
    "\n",
    "#     # Plot decision boundary on the provided axis\n",
    "#     contour = ax.contourf(xx, yy, Z, alpha=0.3, cmap='coolwarm')\n",
    "#     scatter_test = sns.scatterplot(x=X_scaled[:, 0], y=X_scaled[:, 1], hue=y, ax=ax, palette=\"coolwarm\")\n",
    "\n",
    "#     # Add labels and title\n",
    "#     ax.set_xlabel('Component 1')\n",
    "#     ax.set_ylabel('Component 2')\n",
    "#     ax.set_title(f'Decision Boundary of {model_name} with {model_name}')\n",
    "#     ax.legend(title='Survived', loc='upper right')\n",
    "\n",
    "#     return ax  # Return the updated axis"
   ]
  },
  {
   "cell_type": "code",
   "execution_count": null,
   "id": "wlCL",
   "metadata": {},
   "outputs": [],
   "source": [
    "# X_scaled = np.vstack((X_train_scaled, X_test_scaled))\n",
    "\n",
    "# pca_model = PCA(n_components=2)\n",
    "# manifold_models = {\n",
    "#     # 'pca': PCA(n_components=2),\n",
    "#     # 'lle': LocallyLinearEmbedding(n_components=2),\n",
    "#     # 'kernel_pca': KernelPCA(n_components=2),\n",
    "#     # 'mds-auto': MDS(n_components=2, normalized_stress='auto'),\n",
    "#     # 'mds-false': MDS(n_components=2, normalized_stress=False),\n",
    "#     'tsne': TSNE(n_components=2),\n",
    "#     'umap': UMAP(n_components=2)\n",
    "# }"
   ]
  },
  {
   "cell_type": "code",
   "execution_count": null,
   "id": "kqZH",
   "metadata": {},
   "outputs": [],
   "source": [
    "# X_2d = {}\n",
    "# for dimred_name, dimred_model in manifold_models.items():\n",
    "#     X_2d[dimred_name] = dimensional_reduction(dimred_model, X_scaled)"
   ]
  },
  {
   "cell_type": "code",
   "execution_count": null,
   "id": "wAgl",
   "metadata": {},
   "outputs": [],
   "source": [
    "# decision_boundary_models = {\n",
    "#     'XGBoost': xgb.XGBClassifier(),\n",
    "#     'knn': KNeighborsClassifier(n_neighbors=77)\n",
    "# }"
   ]
  },
  {
   "cell_type": "code",
   "execution_count": null,
   "id": "rEll",
   "metadata": {},
   "outputs": [],
   "source": [
    "# fig, axes = plt.subplots(nrows=2, ncols=len(manifold_models), figsize=(15, 10))\n",
    "\n",
    "# # Flatten the axes array for easy indexing\n",
    "# axes = axes.flatten()\n",
    "\n",
    "# for i, (model_name_dr, model_dr) in enumerate(decision_boundary_models.items()):\n",
    "#     for j, (dimred_name_dr, dimred_model_dr) in enumerate(manifold_models.items()):\n",
    "#         X_2d_dr = X_2d[dimred_name_dr]\n",
    "#         ax = axes[i * len(manifold_models) + j]\n",
    "#         decision_boundary(model_dr, X_2d_dr, y, model_name_dr, ax)\n",
    "\n",
    "#         ax.set_title(f'{model_name_dr} with {dimred_name_dr}')\n",
    "\n",
    "# plt.tight_layout()\n",
    "# plt.show()"
   ]
  },
  {
   "cell_type": "code",
   "execution_count": null,
   "id": "dGlV",
   "metadata": {},
   "outputs": [],
   "source": [
    "# df['Diagnosis'].value_counts()"
   ]
  },
  {
   "cell_type": "code",
   "execution_count": null,
   "id": "SdmI",
   "metadata": {},
   "outputs": [],
   "source": [
    "# xg_boost_scatter_bar_chart = (\n",
    "#     alt.Chart(\n",
    "#         pd.DataFrame(\n",
    "#             np.column_stack(\n",
    "#                 (X_2d['tsne'], y)\n",
    "#             ),\n",
    "#             columns=['Component 1', 'Component 2', 'Diagnosis']\n",
    "#         )\n",
    "#     )\n",
    "#     .mark_point()\n",
    "#     .encode(\n",
    "#         x='Component 1',\n",
    "#         y='Component 2',\n",
    "#         color='Diagnosis'\n",
    "#     )\n",
    "# )\n",
    "\n",
    "# mo.ui.altair_chart(xg_boost_scatter_bar_chart)"
   ]
  },
  {
   "cell_type": "markdown",
   "id": "SFPL",
   "metadata": {},
   "source": [
    "### Statistical Summary\n",
    "\n",
    "Information and summary statistics for each column are provided, along with a count of each unique diagnosis in the Diagnosis column."
   ]
  },
  {
   "cell_type": "markdown",
   "id": "Vxnm",
   "metadata": {},
   "source": [
    "### Heatmap Correlation\n",
    "\n",
    "The correlation matrix between variables is displayed as a heatmap. This visual helps in identifying highly correlated features."
   ]
  },
  {
   "cell_type": "markdown",
   "id": "mWxS",
   "metadata": {},
   "source": [
    "### Model Report and Metrics\n",
    "\n",
    "Each model�s accuracy and classification report are printed for further analysis."
   ]
  },
  {
   "cell_type": "markdown",
   "id": "ecfG",
   "metadata": {},
   "source": [
    "### Data Preprocessing\n",
    "\n",
    "#### Split the Dataset\n",
    "\n",
    "The dataset is split into input features `X` and target variable `y`, and further divided into training and testing sets."
   ]
  },
  {
   "cell_type": "markdown",
   "id": "emfo",
   "metadata": {},
   "source": [
    "### Correlation Analysis\n",
    "\n",
    "Allows you to select continuous variables to generate scatter plots. This helps visualize the relationships between variables in the dataset."
   ]
  },
  {
   "cell_type": "markdown",
   "id": "AjVT",
   "metadata": {},
   "source": [
    "## 2. Model Construction"
   ]
  },
  {
   "cell_type": "markdown",
   "id": "TXez",
   "metadata": {},
   "source": [
    "<!-- ### Decision Boundary Visualization -->"
   ]
  },
  {
   "cell_type": "markdown",
   "id": "zlud",
   "metadata": {},
   "source": [
    "### Interactive Barplot of XGBoost and KNN accuracies"
   ]
  },
  {
   "cell_type": "markdown",
   "id": "RGSE",
   "metadata": {},
   "source": [
    "### Number of Diagnoses for Each Label"
   ]
  },
  {
   "cell_type": "code",
   "execution_count": null,
   "id": "NCOB",
   "metadata": {},
   "outputs": [],
   "source": [
    "neighbors = mo.ui.slider(3, 99, 2, 59)\n",
    "mo.md(f\"\"\"\n",
    "    Enter number of neighbors for KNN (neighbors value): {neighbors}\n",
    "\"\"\")"
   ]
  },
  {
   "cell_type": "markdown",
   "id": "qnkX",
   "metadata": {},
   "source": [
    "### Make Your Own Visualization"
   ]
  },
  {
   "cell_type": "markdown",
   "id": "lgWD",
   "metadata": {},
   "source": [
    "## 3. Model Evaluation"
   ]
  },
  {
   "cell_type": "markdown",
   "id": "pHFh",
   "metadata": {},
   "source": [
    "### Make Model\n",
    "\n",
    "The project includes two classification models: `XGBoost` and `KNN`. A slider allows the user to select the number of neighbors for `KNN`."
   ]
  },
  {
   "cell_type": "markdown",
   "id": "PKri",
   "metadata": {},
   "source": [
    "### Read the dataset\n",
    "\n",
    "The dataset is read in and initially cleaned by dropping unnecessary columns (DoctorInCharge and PatientID). Key characteristics of the data are:\n",
    "\n",
    "- Primary Key: `PatientID`\n",
    "- Categorical Columns: `Gender`, `Ethnicity`, `EducationLevel`, etc.\n",
    "- Continuous Columns: `Age`, `BMI`, `AlcoholConsumption`"
   ]
  },
  {
   "cell_type": "markdown",
   "id": "lEQa",
   "metadata": {},
   "source": [
    "## 1. Exploratory Data Analysis"
   ]
  },
  {
   "cell_type": "markdown",
   "id": "yOPj",
   "metadata": {},
   "source": [
    "### Confusion Matrix\n",
    "\n",
    "Confusion matrices for both `XGBoost` and `KNN` are generated to provide insight into the true positives, false positives, true negatives, and false negatives."
   ]
  },
  {
   "cell_type": "markdown",
   "id": "MJUe",
   "metadata": {},
   "source": [
    "# Melakukan Klasifikasi Penyakit Alzeimer dengan Algoritma `Xgboost` dan `KNN`\n",
    "\n",
    "This project is a classification analysis of Alzheimer's disease using two machine learning algorithms: XGBoost and KNN. Below is a breakdown of the steps involved, organized by section.\n",
    "\n",
    "1. Panky Bintang Pradana Yosua (H1D022077)\n",
    "2. Sarah Shiba Huwaidah (H1D023044)\n",
    "3. Isma Fadhilatizzahra (H1D023107)"
   ]
  },
  {
   "cell_type": "markdown",
   "id": "vblA",
   "metadata": {},
   "source": [
    "## Import Libraries\n",
    "\n",
    "This section includes necessary Python libraries for data manipulation, visualization, and machine learning modeling:\n",
    "\n",
    "- Data Manipulation & Visualization: `numpy`, `pandas`, `matplotlib.pyplot`, `seaborn`, and `altair`\n",
    "- Preprocessing: `LabelEncoder`, `StandardScaler`\n",
    "- Model Selection & Evaluation: `train_test_split`, `accuracy_score`, `classification_report`, `confusion_matrix`, `ConfusionMatrixDisplay`\n",
    "- Machine Learning Models: `KNeighborsClassifier`, `SVC`, `RandomForestClassifier`, `GradientBoostingClassifier`, `ExtraTreesClassifier`, `XGBClassifier`\n",
    "- Dimensionality Reduction: `PCA`, `KernelPCA`, `TSNE`, `LocallyLinearEmbedding`, `MDS`, `UMAP`"
   ]
  },
  {
   "cell_type": "markdown",
   "id": "aLJB",
   "metadata": {},
   "source": [
    "### Normalized Dataset\n",
    "\n",
    "The data is scaled using `StandardScaler` to ensure consistent scales across features. This normalization step is critical for algorithms like `KNN`, which rely on distance-based calculations."
   ]
  },
  {
   "cell_type": "code",
   "execution_count": null,
   "id": "Xref",
   "metadata": {},
   "outputs": [],
   "source": [
    "df = pd.read_csv('alzheimers_disease_data.csv')\n",
    "df = df.drop(['DoctorInCharge', 'PatientID'], axis=1)\n",
    "df"
   ]
  },
  {
   "cell_type": "code",
   "execution_count": null,
   "id": "fwwy",
   "metadata": {},
   "outputs": [],
   "source": [
    "def display_confusion_matrix(y_test, y_pred, model):\n",
    "    cm = confusion_matrix(\n",
    "        y_test, y_pred, \n",
    "        labels=model.classes_\n",
    "    )\n",
    "    disp = ConfusionMatrixDisplay(confusion_matrix=cm,\n",
    "                              display_labels=model.classes_)\n",
    "    disp.plot()\n",
    "    plt.show()"
   ]
  },
  {
   "cell_type": "code",
   "execution_count": null,
   "id": "urSm",
   "metadata": {},
   "outputs": [],
   "source": [
    "def altair_confusion_matrix(y_test, y_pred, model_name):\n",
    "    cm = confusion_matrix(y_test, y_pred)\n",
    "    cm_df = pd.DataFrame(cm, index=['False', 'True'], columns=['False', 'True'])\n",
    "    cm_df = cm_df.reset_index().melt(id_vars='index', var_name='Predicted', value_name='Count')\n",
    "    cm_df.rename(columns={'index': 'Actual'}, inplace=True)\n",
    "\n",
    "    heatmap = alt.Chart(cm_df, height=400, width=400).mark_rect().encode(\n",
    "        x=alt.X('Predicted:N', title='Predicted Label', axis=alt.Axis(labelFontSize=14, titleFontSize=16, labelAngle=0)),\n",
    "        y=alt.Y('Actual:N', title='Actual Label', axis=alt.Axis(labelFontSize=14, titleFontSize=16)),\n",
    "        color=alt.Color('Count:Q', scale=alt.Scale(scheme='blues'), title='Count'),\n",
    "        tooltip=[alt.Tooltip('Actual:N'), alt.Tooltip('Predicted:N'), alt.Tooltip('Count:Q')]\n",
    "    ).properties(\n",
    "        title=f'Confusion Matrix Heatmap of {model_name} (True vs False)'\n",
    "    )\n",
    "\n",
    "    text_annotations = heatmap.mark_text(\n",
    "        align='center',\n",
    "        baseline='middle',\n",
    "        fontSize=20,\n",
    "    ).encode(\n",
    "        color=alt.value('black'),\n",
    "        text='Count:Q'\n",
    "    )\n",
    "\n",
    "    return heatmap + text_annotations"
   ]
  },
  {
   "cell_type": "code",
   "execution_count": null,
   "id": "CcZR",
   "metadata": {},
   "outputs": [],
   "source": [
    "def evaluate_model_report(y_test, y_pred, model_name):\n",
    "    with mo.redirect_stdout():\n",
    "        accuracy = \"{:.2f}%\".format(round(accuracy_score(y_test, y_pred) * 100, 2))\n",
    "        print(f'Accuracy score of {model_name}: {accuracy}')\n",
    "        print(classification_report(y_test, y_pred))"
   ]
  },
  {
   "cell_type": "code",
   "execution_count": null,
   "id": "aqbW",
   "metadata": {},
   "outputs": [],
   "source": [
    "mo.md(f\"Number of Neighbors: {neighbors.value}\")"
   ]
  },
  {
   "cell_type": "code",
   "execution_count": null,
   "id": "BYtC",
   "metadata": {},
   "outputs": [],
   "source": [
    "df.describe().reset_index()"
   ]
  },
  {
   "cell_type": "code",
   "execution_count": null,
   "id": "TqIu",
   "metadata": {},
   "outputs": [],
   "source": [
    "mo.ui.data_explorer(df)"
   ]
  },
  {
   "cell_type": "code",
   "execution_count": null,
   "id": "Hstk",
   "metadata": {},
   "outputs": [],
   "source": [
    "columns = df.columns\n",
    "continuous_columns = [\n",
    "    col for col in columns if (pd.api.types.is_numeric_dtype(df[col]) and df[col].nunique() > 10)\n",
    "]"
   ]
  },
  {
   "cell_type": "code",
   "execution_count": null,
   "id": "Pvdt",
   "metadata": {},
   "outputs": [],
   "source": [
    "X = df.drop('Diagnosis', axis=1)\n",
    "y = df['Diagnosis']"
   ]
  },
  {
   "cell_type": "code",
   "execution_count": null,
   "id": "Kclp",
   "metadata": {},
   "outputs": [],
   "source": [
    "grouped_diagnosis = df['Diagnosis'].value_counts().rename_axis('Diagnosis').reset_index(name='Count')\n",
    "diagnosis_bar = alt.Chart(grouped_diagnosis).mark_bar().encode(\n",
    "    x='Diagnosis:N',\n",
    "    y='Count:Q'\n",
    ")\n",
    "\n",
    "mo.ui.altair_chart(diagnosis_bar)"
   ]
  },
  {
   "cell_type": "code",
   "execution_count": null,
   "id": "DnEU",
   "metadata": {},
   "outputs": [],
   "source": [
    "correlation_matrix = df.corr()\n",
    "correlation_melted = correlation_matrix.reset_index().melt(id_vars='index')\n",
    "correlation_melted.columns = ['Variable1', 'Variable2', 'Correlation']"
   ]
  },
  {
   "cell_type": "code",
   "execution_count": null,
   "id": "nWHF",
   "metadata": {},
   "outputs": [],
   "source": [
    "x_scatter = mo.ui.dropdown(continuous_columns, value=continuous_columns[0])\n",
    "y_scatter = mo.ui.dropdown(continuous_columns, value=continuous_columns[1])"
   ]
  },
  {
   "cell_type": "code",
   "execution_count": null,
   "id": "ZBYS",
   "metadata": {},
   "outputs": [],
   "source": [
    "X_train, X_test, y_train, y_test = train_test_split(X, y, random_state=42, test_size=0.2)"
   ]
  },
  {
   "cell_type": "code",
   "execution_count": null,
   "id": "ulZA",
   "metadata": {},
   "outputs": [],
   "source": [
    "alt.Chart(correlation_melted).mark_rect().encode(\n",
    "    x='Variable1:O',\n",
    "    y='Variable2:O',\n",
    "    color='Correlation:Q',\n",
    "    tooltip=['Variable1', 'Variable2', 'Correlation']\n",
    ").properties(\n",
    "    width=420,\n",
    "    height=420,\n",
    "    title='Correlation Heatmap'\n",
    ").interactive()"
   ]
  },
  {
   "cell_type": "code",
   "execution_count": null,
   "id": "ZHCJ",
   "metadata": {},
   "outputs": [],
   "source": [
    "# brush = alt.selection_point(encodings=[\"x\"])\n",
    "\n",
    "scatter_bar_chart = (alt.Chart(df)\n",
    "                      .mark_point()\n",
    "                      .encode(\n",
    "                          x=x_scatter.value,\n",
    "                          y=y_scatter.value,\n",
    "                          color='Diagnosis')\n",
    "                      # .add_params(brush)\n",
    "                     )\n",
    "scatter_bar_chart = mo.ui.altair_chart(scatter_bar_chart)"
   ]
  },
  {
   "cell_type": "code",
   "execution_count": null,
   "id": "iLit",
   "metadata": {},
   "outputs": [],
   "source": [
    "mo.md(f\"\"\"\n",
    "#### Scatter Plot Continuous Variables\n",
    "\n",
    "Choosen variables to be in `scatterplot`\n",
    "\n",
    "x: {x_scatter} &nbsp;\n",
    "y: {y_scatter}\n",
    "\n",
    "\"\"\")"
   ]
  },
  {
   "cell_type": "code",
   "execution_count": null,
   "id": "nHfw",
   "metadata": {},
   "outputs": [],
   "source": [
    "scaler = StandardScaler()\n",
    "X_train_scaled = scaler.fit_transform(X_train)\n",
    "X_test_scaled = scaler.transform(X_test)"
   ]
  },
  {
   "cell_type": "code",
   "execution_count": null,
   "id": "ROlb",
   "metadata": {},
   "outputs": [],
   "source": [
    "mo.vstack([scatter_bar_chart, scatter_bar_chart.value.head()])"
   ]
  },
  {
   "cell_type": "code",
   "execution_count": null,
   "id": "TRpd",
   "metadata": {},
   "outputs": [],
   "source": [
    "models = {\n",
    "    \"XGBoost\": xgb.XGBClassifier(),\n",
    "    \"KNN\": KNeighborsClassifier(n_neighbors=neighbors.value),\n",
    "    # \"SVC\": SVC(),\n",
    "    # \"Random Forest\": RandomForestClassifier(),\n",
    "    # \"Gradient Boosting\": GradientBoostingClassifier(),\n",
    "    # \"Extra Tree\": ExtraTreesClassifier()\n",
    "}\n",
    "\n",
    "for model_name, model in models.items():\n",
    "    model.fit(X_train_scaled, y_train)"
   ]
  },
  {
   "cell_type": "code",
   "execution_count": null,
   "id": "xXTn",
   "metadata": {},
   "outputs": [],
   "source": [
    "print(X_train_scaled)"
   ]
  },
  {
   "cell_type": "code",
   "execution_count": null,
   "id": "LJZf",
   "metadata": {},
   "outputs": [],
   "source": [
    "y_pred = {}\n",
    "y_pred['XGBoost'] = models['XGBoost'].predict(X_test_scaled)\n",
    "y_pred['KNN'] = models['KNN'].predict(X_test_scaled)"
   ]
  },
  {
   "cell_type": "code",
   "execution_count": null,
   "id": "YWSi",
   "metadata": {},
   "outputs": [],
   "source": [
    "for key, value in models.items():\n",
    "    evaluate_model_report(y_test, y_pred[key], key)"
   ]
  },
  {
   "cell_type": "code",
   "execution_count": null,
   "id": "jxvo",
   "metadata": {},
   "outputs": [],
   "source": [
    "cm_xgb = altair_confusion_matrix(y_test, y_pred['XGBoost'], 'XGBoost')\n",
    "cm_knn = altair_confusion_matrix(y_test, y_pred['KNN'], 'KNN')\n",
    "\n",
    "mo.ui.altair_chart(alt.hconcat(cm_xgb, cm_knn))"
   ]
  },
  {
   "cell_type": "code",
   "execution_count": null,
   "id": "tZnO",
   "metadata": {},
   "outputs": [],
   "source": [
    "xgb_accuracy = \"{:.2f}\".format(round(accuracy_score(y_test, y_pred['XGBoost']) * 100, 2))\n",
    "knn_accuracy = \"{:.2f}\".format(round(accuracy_score(y_test, y_pred['KNN']) * 100, 2))\n",
    "\n",
    "results_df = pd.DataFrame(\n",
    "    {\n",
    "        'Model': ['XGBoost', 'KNN'],\n",
    "        'Accuracy': [float(xgb_accuracy), float(knn_accuracy)]\n",
    "    }\n",
    ")\n",
    "\n",
    "mo.ui.altair_chart(\n",
    "    alt.Chart(results_df, width=300)\n",
    "    .mark_bar(fill='#4c78a8')\n",
    "    .encode(\n",
    "        x=alt.X('Model:O', axis=alt.Axis(labelAngle=0)),\n",
    "        y='Accuracy'\n",
    "    )\n",
    ")"
   ]
  },
  {
   "cell_type": "code",
   "execution_count": null,
   "id": "xvXZ",
   "metadata": {},
   "outputs": [],
   "source": [
    "mo.md(\n",
    "    f\"\"\"\n",
    "    ## 5. Kesimpulan\n",
    "\n",
    "    Model dengan Xgboost mendapatkan akurasi hampir **95% ({xgb_accuracy})**, sedangkan KNN hanya memperoleh akurasi **{knn_accuracy}%**\n",
    "    \"\"\"\n",
    ")"
   ]
  }
 ],
 "metadata": {
  "kernelspec": {
   "display_name": "Python 3 (ipykernel)",
   "language": "python",
   "name": "python3"
  },
  "language_info": {
   "codemirror_mode": {
    "name": "ipython",
    "version": 3
   },
   "file_extension": ".py",
   "mimetype": "text/x-python",
   "name": "python",
   "nbconvert_exporter": "python",
   "pygments_lexer": "ipython3",
   "version": "3.11.4"
  }
 },
 "nbformat": 4,
 "nbformat_minor": 5
}
