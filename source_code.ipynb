{
  "nbformat": 4,
  "nbformat_minor": 0,
  "metadata": {
    "colab": {
      "provenance": []
    },
    "kernelspec": {
      "name": "python3",
      "display_name": "Python 3"
    },
    "language_info": {
      "name": "python"
    }
  },
  "cells": [
    {
      "cell_type": "markdown",
      "source": [
        "# Melakukan Klasifikasi Penyakit Alzeimer dengan Algoritma `Xgboost` dan `KNN`"
      ],
      "metadata": {
        "id": "rHuoqhk6kfHW"
      }
    },
    {
      "cell_type": "code",
      "source": [
        "!pip install xgboost imblearn"
      ],
      "metadata": {
        "colab": {
          "base_uri": "https://localhost:8080/"
        },
        "id": "hXWcwkIlkmx7",
        "outputId": "392ae265-252d-436f-8e08-ae89a91c1f7f"
      },
      "execution_count": 1,
      "outputs": [
        {
          "output_type": "stream",
          "name": "stdout",
          "text": [
            "Requirement already satisfied: xgboost in /usr/local/lib/python3.10/dist-packages (2.1.3)\n",
            "Collecting imblearn\n",
            "  Downloading imblearn-0.0-py2.py3-none-any.whl.metadata (355 bytes)\n",
            "Requirement already satisfied: numpy in /usr/local/lib/python3.10/dist-packages (from xgboost) (1.26.4)\n",
            "Requirement already satisfied: nvidia-nccl-cu12 in /usr/local/lib/python3.10/dist-packages (from xgboost) (2.23.4)\n",
            "Requirement already satisfied: scipy in /usr/local/lib/python3.10/dist-packages (from xgboost) (1.13.1)\n",
            "Requirement already satisfied: imbalanced-learn in /usr/local/lib/python3.10/dist-packages (from imblearn) (0.12.4)\n",
            "Requirement already satisfied: scikit-learn>=1.0.2 in /usr/local/lib/python3.10/dist-packages (from imbalanced-learn->imblearn) (1.5.2)\n",
            "Requirement already satisfied: joblib>=1.1.1 in /usr/local/lib/python3.10/dist-packages (from imbalanced-learn->imblearn) (1.4.2)\n",
            "Requirement already satisfied: threadpoolctl>=2.0.0 in /usr/local/lib/python3.10/dist-packages (from imbalanced-learn->imblearn) (3.5.0)\n",
            "Downloading imblearn-0.0-py2.py3-none-any.whl (1.9 kB)\n",
            "Installing collected packages: imblearn\n",
            "Successfully installed imblearn-0.0\n"
          ]
        }
      ]
    },
    {
      "cell_type": "code",
      "source": [
        "import numpy as np\n",
        "import pandas as pd\n",
        "import matplotlib.pyplot as plt\n",
        "import seaborn as sns\n",
        "import altair as alt\n",
        "\n",
        "from sklearn.preprocessing import LabelEncoder, StandardScaler\n",
        "from sklearn.model_selection import train_test_split\n",
        "from sklearn.metrics import accuracy_score, classification_report\n",
        "from sklearn.neighbors import KNeighborsClassifier, NearestNeighbors\n",
        "from sklearn.svm import SVC\n",
        "from sklearn.ensemble import RandomForestClassifier, GradientBoostingClassifier, ExtraTreesClassifier\n",
        "from sklearn.metrics import confusion_matrix, ConfusionMatrixDisplay, classification_report\n",
        "from sklearn.decomposition import PCA, KernelPCA\n",
        "from sklearn.manifold import TSNE, LocallyLinearEmbedding, MDS\n",
        "from sklearn.model_selection import GridSearchCV, RandomizedSearchCV\n",
        "from scipy.stats import uniform\n",
        "from imblearn.over_sampling import SMOTE\n",
        "\n",
        "import xgboost as xgb"
      ],
      "metadata": {
        "id": "P5iQCtE8kiH9"
      },
      "execution_count": 3,
      "outputs": []
    },
    {
      "cell_type": "markdown",
      "source": [
        "## 1. Data Exploration"
      ],
      "metadata": {
        "id": "S80CIQDdmOue"
      }
    },
    {
      "cell_type": "markdown",
      "source": [
        "### Read the dataset\n",
        "\n",
        "Data ini memiliki kolom primary key yaitu `PatientID`, memiliki kolom diskrit seperti `Gender`, `Ethnicity`, `EducationLevel`, `dll`, serta kolom continuous seperti `Age`, `BMI`, dan `AlchoholConsumption`"
      ],
      "metadata": {
        "id": "sssejWYBmQx9"
      }
    },
    {
      "cell_type": "code",
      "source": [
        "df = pd.read_csv('alzheimers_disease_data.csv')\n",
        "df = df.drop(['DoctorInCharge', 'PatientID'], axis=1)\n",
        "df.head()"
      ],
      "metadata": {
        "colab": {
          "base_uri": "https://localhost:8080/",
          "height": 256
        },
        "id": "ZTrBhR9JkifZ",
        "outputId": "9b03b21e-2509-4e09-89e6-450eedc9866f"
      },
      "execution_count": 5,
      "outputs": [
        {
          "output_type": "execute_result",
          "data": {
            "text/plain": [
              "   Age  Gender  Ethnicity  EducationLevel        BMI  Smoking  \\\n",
              "0   73       0          0               2  22.927749        0   \n",
              "1   89       0          0               0  26.827681        0   \n",
              "2   73       0          3               1  17.795882        0   \n",
              "3   74       1          0               1  33.800817        1   \n",
              "4   89       0          0               0  20.716974        0   \n",
              "\n",
              "   AlcoholConsumption  PhysicalActivity  DietQuality  SleepQuality  ...  \\\n",
              "0           13.297218          6.327112     1.347214      9.025679  ...   \n",
              "1            4.542524          7.619885     0.518767      7.151293  ...   \n",
              "2           19.555085          7.844988     1.826335      9.673574  ...   \n",
              "3           12.209266          8.428001     7.435604      8.392554  ...   \n",
              "4           18.454356          6.310461     0.795498      5.597238  ...   \n",
              "\n",
              "   FunctionalAssessment  MemoryComplaints  BehavioralProblems       ADL  \\\n",
              "0              6.518877                 0                   0  1.725883   \n",
              "1              7.118696                 0                   0  2.592424   \n",
              "2              5.895077                 0                   0  7.119548   \n",
              "3              8.965106                 0                   1  6.481226   \n",
              "4              6.045039                 0                   0  0.014691   \n",
              "\n",
              "   Confusion  Disorientation  PersonalityChanges  DifficultyCompletingTasks  \\\n",
              "0          0               0                   0                          1   \n",
              "1          0               0                   0                          0   \n",
              "2          0               1                   0                          1   \n",
              "3          0               0                   0                          0   \n",
              "4          0               0                   1                          1   \n",
              "\n",
              "   Forgetfulness  Diagnosis  \n",
              "0              0          0  \n",
              "1              1          0  \n",
              "2              0          0  \n",
              "3              0          0  \n",
              "4              0          0  \n",
              "\n",
              "[5 rows x 33 columns]"
            ],
            "text/html": [
              "\n",
              "  <div id=\"df-056db011-e17c-4df4-ba3f-085d7ca9e71c\" class=\"colab-df-container\">\n",
              "    <div>\n",
              "<style scoped>\n",
              "    .dataframe tbody tr th:only-of-type {\n",
              "        vertical-align: middle;\n",
              "    }\n",
              "\n",
              "    .dataframe tbody tr th {\n",
              "        vertical-align: top;\n",
              "    }\n",
              "\n",
              "    .dataframe thead th {\n",
              "        text-align: right;\n",
              "    }\n",
              "</style>\n",
              "<table border=\"1\" class=\"dataframe\">\n",
              "  <thead>\n",
              "    <tr style=\"text-align: right;\">\n",
              "      <th></th>\n",
              "      <th>Age</th>\n",
              "      <th>Gender</th>\n",
              "      <th>Ethnicity</th>\n",
              "      <th>EducationLevel</th>\n",
              "      <th>BMI</th>\n",
              "      <th>Smoking</th>\n",
              "      <th>AlcoholConsumption</th>\n",
              "      <th>PhysicalActivity</th>\n",
              "      <th>DietQuality</th>\n",
              "      <th>SleepQuality</th>\n",
              "      <th>...</th>\n",
              "      <th>FunctionalAssessment</th>\n",
              "      <th>MemoryComplaints</th>\n",
              "      <th>BehavioralProblems</th>\n",
              "      <th>ADL</th>\n",
              "      <th>Confusion</th>\n",
              "      <th>Disorientation</th>\n",
              "      <th>PersonalityChanges</th>\n",
              "      <th>DifficultyCompletingTasks</th>\n",
              "      <th>Forgetfulness</th>\n",
              "      <th>Diagnosis</th>\n",
              "    </tr>\n",
              "  </thead>\n",
              "  <tbody>\n",
              "    <tr>\n",
              "      <th>0</th>\n",
              "      <td>73</td>\n",
              "      <td>0</td>\n",
              "      <td>0</td>\n",
              "      <td>2</td>\n",
              "      <td>22.927749</td>\n",
              "      <td>0</td>\n",
              "      <td>13.297218</td>\n",
              "      <td>6.327112</td>\n",
              "      <td>1.347214</td>\n",
              "      <td>9.025679</td>\n",
              "      <td>...</td>\n",
              "      <td>6.518877</td>\n",
              "      <td>0</td>\n",
              "      <td>0</td>\n",
              "      <td>1.725883</td>\n",
              "      <td>0</td>\n",
              "      <td>0</td>\n",
              "      <td>0</td>\n",
              "      <td>1</td>\n",
              "      <td>0</td>\n",
              "      <td>0</td>\n",
              "    </tr>\n",
              "    <tr>\n",
              "      <th>1</th>\n",
              "      <td>89</td>\n",
              "      <td>0</td>\n",
              "      <td>0</td>\n",
              "      <td>0</td>\n",
              "      <td>26.827681</td>\n",
              "      <td>0</td>\n",
              "      <td>4.542524</td>\n",
              "      <td>7.619885</td>\n",
              "      <td>0.518767</td>\n",
              "      <td>7.151293</td>\n",
              "      <td>...</td>\n",
              "      <td>7.118696</td>\n",
              "      <td>0</td>\n",
              "      <td>0</td>\n",
              "      <td>2.592424</td>\n",
              "      <td>0</td>\n",
              "      <td>0</td>\n",
              "      <td>0</td>\n",
              "      <td>0</td>\n",
              "      <td>1</td>\n",
              "      <td>0</td>\n",
              "    </tr>\n",
              "    <tr>\n",
              "      <th>2</th>\n",
              "      <td>73</td>\n",
              "      <td>0</td>\n",
              "      <td>3</td>\n",
              "      <td>1</td>\n",
              "      <td>17.795882</td>\n",
              "      <td>0</td>\n",
              "      <td>19.555085</td>\n",
              "      <td>7.844988</td>\n",
              "      <td>1.826335</td>\n",
              "      <td>9.673574</td>\n",
              "      <td>...</td>\n",
              "      <td>5.895077</td>\n",
              "      <td>0</td>\n",
              "      <td>0</td>\n",
              "      <td>7.119548</td>\n",
              "      <td>0</td>\n",
              "      <td>1</td>\n",
              "      <td>0</td>\n",
              "      <td>1</td>\n",
              "      <td>0</td>\n",
              "      <td>0</td>\n",
              "    </tr>\n",
              "    <tr>\n",
              "      <th>3</th>\n",
              "      <td>74</td>\n",
              "      <td>1</td>\n",
              "      <td>0</td>\n",
              "      <td>1</td>\n",
              "      <td>33.800817</td>\n",
              "      <td>1</td>\n",
              "      <td>12.209266</td>\n",
              "      <td>8.428001</td>\n",
              "      <td>7.435604</td>\n",
              "      <td>8.392554</td>\n",
              "      <td>...</td>\n",
              "      <td>8.965106</td>\n",
              "      <td>0</td>\n",
              "      <td>1</td>\n",
              "      <td>6.481226</td>\n",
              "      <td>0</td>\n",
              "      <td>0</td>\n",
              "      <td>0</td>\n",
              "      <td>0</td>\n",
              "      <td>0</td>\n",
              "      <td>0</td>\n",
              "    </tr>\n",
              "    <tr>\n",
              "      <th>4</th>\n",
              "      <td>89</td>\n",
              "      <td>0</td>\n",
              "      <td>0</td>\n",
              "      <td>0</td>\n",
              "      <td>20.716974</td>\n",
              "      <td>0</td>\n",
              "      <td>18.454356</td>\n",
              "      <td>6.310461</td>\n",
              "      <td>0.795498</td>\n",
              "      <td>5.597238</td>\n",
              "      <td>...</td>\n",
              "      <td>6.045039</td>\n",
              "      <td>0</td>\n",
              "      <td>0</td>\n",
              "      <td>0.014691</td>\n",
              "      <td>0</td>\n",
              "      <td>0</td>\n",
              "      <td>1</td>\n",
              "      <td>1</td>\n",
              "      <td>0</td>\n",
              "      <td>0</td>\n",
              "    </tr>\n",
              "  </tbody>\n",
              "</table>\n",
              "<p>5 rows × 33 columns</p>\n",
              "</div>\n",
              "    <div class=\"colab-df-buttons\">\n",
              "\n",
              "  <div class=\"colab-df-container\">\n",
              "    <button class=\"colab-df-convert\" onclick=\"convertToInteractive('df-056db011-e17c-4df4-ba3f-085d7ca9e71c')\"\n",
              "            title=\"Convert this dataframe to an interactive table.\"\n",
              "            style=\"display:none;\">\n",
              "\n",
              "  <svg xmlns=\"http://www.w3.org/2000/svg\" height=\"24px\" viewBox=\"0 -960 960 960\">\n",
              "    <path d=\"M120-120v-720h720v720H120Zm60-500h600v-160H180v160Zm220 220h160v-160H400v160Zm0 220h160v-160H400v160ZM180-400h160v-160H180v160Zm440 0h160v-160H620v160ZM180-180h160v-160H180v160Zm440 0h160v-160H620v160Z\"/>\n",
              "  </svg>\n",
              "    </button>\n",
              "\n",
              "  <style>\n",
              "    .colab-df-container {\n",
              "      display:flex;\n",
              "      gap: 12px;\n",
              "    }\n",
              "\n",
              "    .colab-df-convert {\n",
              "      background-color: #E8F0FE;\n",
              "      border: none;\n",
              "      border-radius: 50%;\n",
              "      cursor: pointer;\n",
              "      display: none;\n",
              "      fill: #1967D2;\n",
              "      height: 32px;\n",
              "      padding: 0 0 0 0;\n",
              "      width: 32px;\n",
              "    }\n",
              "\n",
              "    .colab-df-convert:hover {\n",
              "      background-color: #E2EBFA;\n",
              "      box-shadow: 0px 1px 2px rgba(60, 64, 67, 0.3), 0px 1px 3px 1px rgba(60, 64, 67, 0.15);\n",
              "      fill: #174EA6;\n",
              "    }\n",
              "\n",
              "    .colab-df-buttons div {\n",
              "      margin-bottom: 4px;\n",
              "    }\n",
              "\n",
              "    [theme=dark] .colab-df-convert {\n",
              "      background-color: #3B4455;\n",
              "      fill: #D2E3FC;\n",
              "    }\n",
              "\n",
              "    [theme=dark] .colab-df-convert:hover {\n",
              "      background-color: #434B5C;\n",
              "      box-shadow: 0px 1px 3px 1px rgba(0, 0, 0, 0.15);\n",
              "      filter: drop-shadow(0px 1px 2px rgba(0, 0, 0, 0.3));\n",
              "      fill: #FFFFFF;\n",
              "    }\n",
              "  </style>\n",
              "\n",
              "    <script>\n",
              "      const buttonEl =\n",
              "        document.querySelector('#df-056db011-e17c-4df4-ba3f-085d7ca9e71c button.colab-df-convert');\n",
              "      buttonEl.style.display =\n",
              "        google.colab.kernel.accessAllowed ? 'block' : 'none';\n",
              "\n",
              "      async function convertToInteractive(key) {\n",
              "        const element = document.querySelector('#df-056db011-e17c-4df4-ba3f-085d7ca9e71c');\n",
              "        const dataTable =\n",
              "          await google.colab.kernel.invokeFunction('convertToInteractive',\n",
              "                                                    [key], {});\n",
              "        if (!dataTable) return;\n",
              "\n",
              "        const docLinkHtml = 'Like what you see? Visit the ' +\n",
              "          '<a target=\"_blank\" href=https://colab.research.google.com/notebooks/data_table.ipynb>data table notebook</a>'\n",
              "          + ' to learn more about interactive tables.';\n",
              "        element.innerHTML = '';\n",
              "        dataTable['output_type'] = 'display_data';\n",
              "        await google.colab.output.renderOutput(dataTable, element);\n",
              "        const docLink = document.createElement('div');\n",
              "        docLink.innerHTML = docLinkHtml;\n",
              "        element.appendChild(docLink);\n",
              "      }\n",
              "    </script>\n",
              "  </div>\n",
              "\n",
              "\n",
              "<div id=\"df-18bd4710-d99a-4915-863e-acb384e47fe7\">\n",
              "  <button class=\"colab-df-quickchart\" onclick=\"quickchart('df-18bd4710-d99a-4915-863e-acb384e47fe7')\"\n",
              "            title=\"Suggest charts\"\n",
              "            style=\"display:none;\">\n",
              "\n",
              "<svg xmlns=\"http://www.w3.org/2000/svg\" height=\"24px\"viewBox=\"0 0 24 24\"\n",
              "     width=\"24px\">\n",
              "    <g>\n",
              "        <path d=\"M19 3H5c-1.1 0-2 .9-2 2v14c0 1.1.9 2 2 2h14c1.1 0 2-.9 2-2V5c0-1.1-.9-2-2-2zM9 17H7v-7h2v7zm4 0h-2V7h2v10zm4 0h-2v-4h2v4z\"/>\n",
              "    </g>\n",
              "</svg>\n",
              "  </button>\n",
              "\n",
              "<style>\n",
              "  .colab-df-quickchart {\n",
              "      --bg-color: #E8F0FE;\n",
              "      --fill-color: #1967D2;\n",
              "      --hover-bg-color: #E2EBFA;\n",
              "      --hover-fill-color: #174EA6;\n",
              "      --disabled-fill-color: #AAA;\n",
              "      --disabled-bg-color: #DDD;\n",
              "  }\n",
              "\n",
              "  [theme=dark] .colab-df-quickchart {\n",
              "      --bg-color: #3B4455;\n",
              "      --fill-color: #D2E3FC;\n",
              "      --hover-bg-color: #434B5C;\n",
              "      --hover-fill-color: #FFFFFF;\n",
              "      --disabled-bg-color: #3B4455;\n",
              "      --disabled-fill-color: #666;\n",
              "  }\n",
              "\n",
              "  .colab-df-quickchart {\n",
              "    background-color: var(--bg-color);\n",
              "    border: none;\n",
              "    border-radius: 50%;\n",
              "    cursor: pointer;\n",
              "    display: none;\n",
              "    fill: var(--fill-color);\n",
              "    height: 32px;\n",
              "    padding: 0;\n",
              "    width: 32px;\n",
              "  }\n",
              "\n",
              "  .colab-df-quickchart:hover {\n",
              "    background-color: var(--hover-bg-color);\n",
              "    box-shadow: 0 1px 2px rgba(60, 64, 67, 0.3), 0 1px 3px 1px rgba(60, 64, 67, 0.15);\n",
              "    fill: var(--button-hover-fill-color);\n",
              "  }\n",
              "\n",
              "  .colab-df-quickchart-complete:disabled,\n",
              "  .colab-df-quickchart-complete:disabled:hover {\n",
              "    background-color: var(--disabled-bg-color);\n",
              "    fill: var(--disabled-fill-color);\n",
              "    box-shadow: none;\n",
              "  }\n",
              "\n",
              "  .colab-df-spinner {\n",
              "    border: 2px solid var(--fill-color);\n",
              "    border-color: transparent;\n",
              "    border-bottom-color: var(--fill-color);\n",
              "    animation:\n",
              "      spin 1s steps(1) infinite;\n",
              "  }\n",
              "\n",
              "  @keyframes spin {\n",
              "    0% {\n",
              "      border-color: transparent;\n",
              "      border-bottom-color: var(--fill-color);\n",
              "      border-left-color: var(--fill-color);\n",
              "    }\n",
              "    20% {\n",
              "      border-color: transparent;\n",
              "      border-left-color: var(--fill-color);\n",
              "      border-top-color: var(--fill-color);\n",
              "    }\n",
              "    30% {\n",
              "      border-color: transparent;\n",
              "      border-left-color: var(--fill-color);\n",
              "      border-top-color: var(--fill-color);\n",
              "      border-right-color: var(--fill-color);\n",
              "    }\n",
              "    40% {\n",
              "      border-color: transparent;\n",
              "      border-right-color: var(--fill-color);\n",
              "      border-top-color: var(--fill-color);\n",
              "    }\n",
              "    60% {\n",
              "      border-color: transparent;\n",
              "      border-right-color: var(--fill-color);\n",
              "    }\n",
              "    80% {\n",
              "      border-color: transparent;\n",
              "      border-right-color: var(--fill-color);\n",
              "      border-bottom-color: var(--fill-color);\n",
              "    }\n",
              "    90% {\n",
              "      border-color: transparent;\n",
              "      border-bottom-color: var(--fill-color);\n",
              "    }\n",
              "  }\n",
              "</style>\n",
              "\n",
              "  <script>\n",
              "    async function quickchart(key) {\n",
              "      const quickchartButtonEl =\n",
              "        document.querySelector('#' + key + ' button');\n",
              "      quickchartButtonEl.disabled = true;  // To prevent multiple clicks.\n",
              "      quickchartButtonEl.classList.add('colab-df-spinner');\n",
              "      try {\n",
              "        const charts = await google.colab.kernel.invokeFunction(\n",
              "            'suggestCharts', [key], {});\n",
              "      } catch (error) {\n",
              "        console.error('Error during call to suggestCharts:', error);\n",
              "      }\n",
              "      quickchartButtonEl.classList.remove('colab-df-spinner');\n",
              "      quickchartButtonEl.classList.add('colab-df-quickchart-complete');\n",
              "    }\n",
              "    (() => {\n",
              "      let quickchartButtonEl =\n",
              "        document.querySelector('#df-18bd4710-d99a-4915-863e-acb384e47fe7 button');\n",
              "      quickchartButtonEl.style.display =\n",
              "        google.colab.kernel.accessAllowed ? 'block' : 'none';\n",
              "    })();\n",
              "  </script>\n",
              "</div>\n",
              "\n",
              "    </div>\n",
              "  </div>\n"
            ],
            "application/vnd.google.colaboratory.intrinsic+json": {
              "type": "dataframe",
              "variable_name": "df"
            }
          },
          "metadata": {},
          "execution_count": 5
        }
      ]
    },
    {
      "cell_type": "markdown",
      "source": [
        "### Explore Kolom-Kolom\n",
        "\n",
        "Tidak ada kolom dengan value `null`. Semua kolom memiliki value."
      ],
      "metadata": {
        "id": "HavYduENmeYI"
      }
    },
    {
      "cell_type": "code",
      "source": [
        "df.info()"
      ],
      "metadata": {
        "id": "n0y1bnqhkvPI",
        "colab": {
          "base_uri": "https://localhost:8080/"
        },
        "outputId": "368b27d4-f80f-4793-fb78-a20c2753f3a1"
      },
      "execution_count": 6,
      "outputs": [
        {
          "output_type": "stream",
          "name": "stdout",
          "text": [
            "<class 'pandas.core.frame.DataFrame'>\n",
            "RangeIndex: 2149 entries, 0 to 2148\n",
            "Data columns (total 33 columns):\n",
            " #   Column                     Non-Null Count  Dtype  \n",
            "---  ------                     --------------  -----  \n",
            " 0   Age                        2149 non-null   int64  \n",
            " 1   Gender                     2149 non-null   int64  \n",
            " 2   Ethnicity                  2149 non-null   int64  \n",
            " 3   EducationLevel             2149 non-null   int64  \n",
            " 4   BMI                        2149 non-null   float64\n",
            " 5   Smoking                    2149 non-null   int64  \n",
            " 6   AlcoholConsumption         2149 non-null   float64\n",
            " 7   PhysicalActivity           2149 non-null   float64\n",
            " 8   DietQuality                2149 non-null   float64\n",
            " 9   SleepQuality               2149 non-null   float64\n",
            " 10  FamilyHistoryAlzheimers    2149 non-null   int64  \n",
            " 11  CardiovascularDisease      2149 non-null   int64  \n",
            " 12  Diabetes                   2149 non-null   int64  \n",
            " 13  Depression                 2149 non-null   int64  \n",
            " 14  HeadInjury                 2149 non-null   int64  \n",
            " 15  Hypertension               2149 non-null   int64  \n",
            " 16  SystolicBP                 2149 non-null   int64  \n",
            " 17  DiastolicBP                2149 non-null   int64  \n",
            " 18  CholesterolTotal           2149 non-null   float64\n",
            " 19  CholesterolLDL             2149 non-null   float64\n",
            " 20  CholesterolHDL             2149 non-null   float64\n",
            " 21  CholesterolTriglycerides   2149 non-null   float64\n",
            " 22  MMSE                       2149 non-null   float64\n",
            " 23  FunctionalAssessment       2149 non-null   float64\n",
            " 24  MemoryComplaints           2149 non-null   int64  \n",
            " 25  BehavioralProblems         2149 non-null   int64  \n",
            " 26  ADL                        2149 non-null   float64\n",
            " 27  Confusion                  2149 non-null   int64  \n",
            " 28  Disorientation             2149 non-null   int64  \n",
            " 29  PersonalityChanges         2149 non-null   int64  \n",
            " 30  DifficultyCompletingTasks  2149 non-null   int64  \n",
            " 31  Forgetfulness              2149 non-null   int64  \n",
            " 32  Diagnosis                  2149 non-null   int64  \n",
            "dtypes: float64(12), int64(21)\n",
            "memory usage: 554.2 KB\n"
          ]
        }
      ]
    },
    {
      "cell_type": "markdown",
      "source": [
        "### Statistical Summaries"
      ],
      "metadata": {
        "id": "0Rlf1aYKmjiB"
      }
    },
    {
      "cell_type": "code",
      "source": [
        "df.describe()"
      ],
      "metadata": {
        "id": "AvqzqqQFlEFu",
        "colab": {
          "base_uri": "https://localhost:8080/",
          "height": 350
        },
        "outputId": "c7459ebb-7cbd-40ef-eac4-71665d3f1302"
      },
      "execution_count": 7,
      "outputs": [
        {
          "output_type": "execute_result",
          "data": {
            "text/plain": [
              "               Age       Gender    Ethnicity  EducationLevel          BMI  \\\n",
              "count  2149.000000  2149.000000  2149.000000     2149.000000  2149.000000   \n",
              "mean     74.908795     0.506282     0.697534        1.286645    27.655697   \n",
              "std       8.990221     0.500077     0.996128        0.904527     7.217438   \n",
              "min      60.000000     0.000000     0.000000        0.000000    15.008851   \n",
              "25%      67.000000     0.000000     0.000000        1.000000    21.611408   \n",
              "50%      75.000000     1.000000     0.000000        1.000000    27.823924   \n",
              "75%      83.000000     1.000000     1.000000        2.000000    33.869778   \n",
              "max      90.000000     1.000000     3.000000        3.000000    39.992767   \n",
              "\n",
              "           Smoking  AlcoholConsumption  PhysicalActivity  DietQuality  \\\n",
              "count  2149.000000         2149.000000       2149.000000  2149.000000   \n",
              "mean      0.288506           10.039442          4.920202     4.993138   \n",
              "std       0.453173            5.757910          2.857191     2.909055   \n",
              "min       0.000000            0.002003          0.003616     0.009385   \n",
              "25%       0.000000            5.139810          2.570626     2.458455   \n",
              "50%       0.000000            9.934412          4.766424     5.076087   \n",
              "75%       1.000000           15.157931          7.427899     7.558625   \n",
              "max       1.000000           19.989293          9.987429     9.998346   \n",
              "\n",
              "       SleepQuality  ...  FunctionalAssessment  MemoryComplaints  \\\n",
              "count   2149.000000  ...           2149.000000       2149.000000   \n",
              "mean       7.051081  ...              5.080055          0.208004   \n",
              "std        1.763573  ...              2.892743          0.405974   \n",
              "min        4.002629  ...              0.000460          0.000000   \n",
              "25%        5.482997  ...              2.566281          0.000000   \n",
              "50%        7.115646  ...              5.094439          0.000000   \n",
              "75%        8.562521  ...              7.546981          0.000000   \n",
              "max        9.999840  ...              9.996467          1.000000   \n",
              "\n",
              "       BehavioralProblems          ADL    Confusion  Disorientation  \\\n",
              "count         2149.000000  2149.000000  2149.000000     2149.000000   \n",
              "mean             0.156817     4.982958     0.205212        0.158213   \n",
              "std              0.363713     2.949775     0.403950        0.365026   \n",
              "min              0.000000     0.001288     0.000000        0.000000   \n",
              "25%              0.000000     2.342836     0.000000        0.000000   \n",
              "50%              0.000000     5.038973     0.000000        0.000000   \n",
              "75%              0.000000     7.581490     0.000000        0.000000   \n",
              "max              1.000000     9.999747     1.000000        1.000000   \n",
              "\n",
              "       PersonalityChanges  DifficultyCompletingTasks  Forgetfulness  \\\n",
              "count         2149.000000                2149.000000    2149.000000   \n",
              "mean             0.150768                   0.158678       0.301536   \n",
              "std              0.357906                   0.365461       0.459032   \n",
              "min              0.000000                   0.000000       0.000000   \n",
              "25%              0.000000                   0.000000       0.000000   \n",
              "50%              0.000000                   0.000000       0.000000   \n",
              "75%              0.000000                   0.000000       1.000000   \n",
              "max              1.000000                   1.000000       1.000000   \n",
              "\n",
              "         Diagnosis  \n",
              "count  2149.000000  \n",
              "mean      0.353653  \n",
              "std       0.478214  \n",
              "min       0.000000  \n",
              "25%       0.000000  \n",
              "50%       0.000000  \n",
              "75%       1.000000  \n",
              "max       1.000000  \n",
              "\n",
              "[8 rows x 33 columns]"
            ],
            "text/html": [
              "\n",
              "  <div id=\"df-49104f80-da66-4bd9-9aa2-9b6b9eb87b46\" class=\"colab-df-container\">\n",
              "    <div>\n",
              "<style scoped>\n",
              "    .dataframe tbody tr th:only-of-type {\n",
              "        vertical-align: middle;\n",
              "    }\n",
              "\n",
              "    .dataframe tbody tr th {\n",
              "        vertical-align: top;\n",
              "    }\n",
              "\n",
              "    .dataframe thead th {\n",
              "        text-align: right;\n",
              "    }\n",
              "</style>\n",
              "<table border=\"1\" class=\"dataframe\">\n",
              "  <thead>\n",
              "    <tr style=\"text-align: right;\">\n",
              "      <th></th>\n",
              "      <th>Age</th>\n",
              "      <th>Gender</th>\n",
              "      <th>Ethnicity</th>\n",
              "      <th>EducationLevel</th>\n",
              "      <th>BMI</th>\n",
              "      <th>Smoking</th>\n",
              "      <th>AlcoholConsumption</th>\n",
              "      <th>PhysicalActivity</th>\n",
              "      <th>DietQuality</th>\n",
              "      <th>SleepQuality</th>\n",
              "      <th>...</th>\n",
              "      <th>FunctionalAssessment</th>\n",
              "      <th>MemoryComplaints</th>\n",
              "      <th>BehavioralProblems</th>\n",
              "      <th>ADL</th>\n",
              "      <th>Confusion</th>\n",
              "      <th>Disorientation</th>\n",
              "      <th>PersonalityChanges</th>\n",
              "      <th>DifficultyCompletingTasks</th>\n",
              "      <th>Forgetfulness</th>\n",
              "      <th>Diagnosis</th>\n",
              "    </tr>\n",
              "  </thead>\n",
              "  <tbody>\n",
              "    <tr>\n",
              "      <th>count</th>\n",
              "      <td>2149.000000</td>\n",
              "      <td>2149.000000</td>\n",
              "      <td>2149.000000</td>\n",
              "      <td>2149.000000</td>\n",
              "      <td>2149.000000</td>\n",
              "      <td>2149.000000</td>\n",
              "      <td>2149.000000</td>\n",
              "      <td>2149.000000</td>\n",
              "      <td>2149.000000</td>\n",
              "      <td>2149.000000</td>\n",
              "      <td>...</td>\n",
              "      <td>2149.000000</td>\n",
              "      <td>2149.000000</td>\n",
              "      <td>2149.000000</td>\n",
              "      <td>2149.000000</td>\n",
              "      <td>2149.000000</td>\n",
              "      <td>2149.000000</td>\n",
              "      <td>2149.000000</td>\n",
              "      <td>2149.000000</td>\n",
              "      <td>2149.000000</td>\n",
              "      <td>2149.000000</td>\n",
              "    </tr>\n",
              "    <tr>\n",
              "      <th>mean</th>\n",
              "      <td>74.908795</td>\n",
              "      <td>0.506282</td>\n",
              "      <td>0.697534</td>\n",
              "      <td>1.286645</td>\n",
              "      <td>27.655697</td>\n",
              "      <td>0.288506</td>\n",
              "      <td>10.039442</td>\n",
              "      <td>4.920202</td>\n",
              "      <td>4.993138</td>\n",
              "      <td>7.051081</td>\n",
              "      <td>...</td>\n",
              "      <td>5.080055</td>\n",
              "      <td>0.208004</td>\n",
              "      <td>0.156817</td>\n",
              "      <td>4.982958</td>\n",
              "      <td>0.205212</td>\n",
              "      <td>0.158213</td>\n",
              "      <td>0.150768</td>\n",
              "      <td>0.158678</td>\n",
              "      <td>0.301536</td>\n",
              "      <td>0.353653</td>\n",
              "    </tr>\n",
              "    <tr>\n",
              "      <th>std</th>\n",
              "      <td>8.990221</td>\n",
              "      <td>0.500077</td>\n",
              "      <td>0.996128</td>\n",
              "      <td>0.904527</td>\n",
              "      <td>7.217438</td>\n",
              "      <td>0.453173</td>\n",
              "      <td>5.757910</td>\n",
              "      <td>2.857191</td>\n",
              "      <td>2.909055</td>\n",
              "      <td>1.763573</td>\n",
              "      <td>...</td>\n",
              "      <td>2.892743</td>\n",
              "      <td>0.405974</td>\n",
              "      <td>0.363713</td>\n",
              "      <td>2.949775</td>\n",
              "      <td>0.403950</td>\n",
              "      <td>0.365026</td>\n",
              "      <td>0.357906</td>\n",
              "      <td>0.365461</td>\n",
              "      <td>0.459032</td>\n",
              "      <td>0.478214</td>\n",
              "    </tr>\n",
              "    <tr>\n",
              "      <th>min</th>\n",
              "      <td>60.000000</td>\n",
              "      <td>0.000000</td>\n",
              "      <td>0.000000</td>\n",
              "      <td>0.000000</td>\n",
              "      <td>15.008851</td>\n",
              "      <td>0.000000</td>\n",
              "      <td>0.002003</td>\n",
              "      <td>0.003616</td>\n",
              "      <td>0.009385</td>\n",
              "      <td>4.002629</td>\n",
              "      <td>...</td>\n",
              "      <td>0.000460</td>\n",
              "      <td>0.000000</td>\n",
              "      <td>0.000000</td>\n",
              "      <td>0.001288</td>\n",
              "      <td>0.000000</td>\n",
              "      <td>0.000000</td>\n",
              "      <td>0.000000</td>\n",
              "      <td>0.000000</td>\n",
              "      <td>0.000000</td>\n",
              "      <td>0.000000</td>\n",
              "    </tr>\n",
              "    <tr>\n",
              "      <th>25%</th>\n",
              "      <td>67.000000</td>\n",
              "      <td>0.000000</td>\n",
              "      <td>0.000000</td>\n",
              "      <td>1.000000</td>\n",
              "      <td>21.611408</td>\n",
              "      <td>0.000000</td>\n",
              "      <td>5.139810</td>\n",
              "      <td>2.570626</td>\n",
              "      <td>2.458455</td>\n",
              "      <td>5.482997</td>\n",
              "      <td>...</td>\n",
              "      <td>2.566281</td>\n",
              "      <td>0.000000</td>\n",
              "      <td>0.000000</td>\n",
              "      <td>2.342836</td>\n",
              "      <td>0.000000</td>\n",
              "      <td>0.000000</td>\n",
              "      <td>0.000000</td>\n",
              "      <td>0.000000</td>\n",
              "      <td>0.000000</td>\n",
              "      <td>0.000000</td>\n",
              "    </tr>\n",
              "    <tr>\n",
              "      <th>50%</th>\n",
              "      <td>75.000000</td>\n",
              "      <td>1.000000</td>\n",
              "      <td>0.000000</td>\n",
              "      <td>1.000000</td>\n",
              "      <td>27.823924</td>\n",
              "      <td>0.000000</td>\n",
              "      <td>9.934412</td>\n",
              "      <td>4.766424</td>\n",
              "      <td>5.076087</td>\n",
              "      <td>7.115646</td>\n",
              "      <td>...</td>\n",
              "      <td>5.094439</td>\n",
              "      <td>0.000000</td>\n",
              "      <td>0.000000</td>\n",
              "      <td>5.038973</td>\n",
              "      <td>0.000000</td>\n",
              "      <td>0.000000</td>\n",
              "      <td>0.000000</td>\n",
              "      <td>0.000000</td>\n",
              "      <td>0.000000</td>\n",
              "      <td>0.000000</td>\n",
              "    </tr>\n",
              "    <tr>\n",
              "      <th>75%</th>\n",
              "      <td>83.000000</td>\n",
              "      <td>1.000000</td>\n",
              "      <td>1.000000</td>\n",
              "      <td>2.000000</td>\n",
              "      <td>33.869778</td>\n",
              "      <td>1.000000</td>\n",
              "      <td>15.157931</td>\n",
              "      <td>7.427899</td>\n",
              "      <td>7.558625</td>\n",
              "      <td>8.562521</td>\n",
              "      <td>...</td>\n",
              "      <td>7.546981</td>\n",
              "      <td>0.000000</td>\n",
              "      <td>0.000000</td>\n",
              "      <td>7.581490</td>\n",
              "      <td>0.000000</td>\n",
              "      <td>0.000000</td>\n",
              "      <td>0.000000</td>\n",
              "      <td>0.000000</td>\n",
              "      <td>1.000000</td>\n",
              "      <td>1.000000</td>\n",
              "    </tr>\n",
              "    <tr>\n",
              "      <th>max</th>\n",
              "      <td>90.000000</td>\n",
              "      <td>1.000000</td>\n",
              "      <td>3.000000</td>\n",
              "      <td>3.000000</td>\n",
              "      <td>39.992767</td>\n",
              "      <td>1.000000</td>\n",
              "      <td>19.989293</td>\n",
              "      <td>9.987429</td>\n",
              "      <td>9.998346</td>\n",
              "      <td>9.999840</td>\n",
              "      <td>...</td>\n",
              "      <td>9.996467</td>\n",
              "      <td>1.000000</td>\n",
              "      <td>1.000000</td>\n",
              "      <td>9.999747</td>\n",
              "      <td>1.000000</td>\n",
              "      <td>1.000000</td>\n",
              "      <td>1.000000</td>\n",
              "      <td>1.000000</td>\n",
              "      <td>1.000000</td>\n",
              "      <td>1.000000</td>\n",
              "    </tr>\n",
              "  </tbody>\n",
              "</table>\n",
              "<p>8 rows × 33 columns</p>\n",
              "</div>\n",
              "    <div class=\"colab-df-buttons\">\n",
              "\n",
              "  <div class=\"colab-df-container\">\n",
              "    <button class=\"colab-df-convert\" onclick=\"convertToInteractive('df-49104f80-da66-4bd9-9aa2-9b6b9eb87b46')\"\n",
              "            title=\"Convert this dataframe to an interactive table.\"\n",
              "            style=\"display:none;\">\n",
              "\n",
              "  <svg xmlns=\"http://www.w3.org/2000/svg\" height=\"24px\" viewBox=\"0 -960 960 960\">\n",
              "    <path d=\"M120-120v-720h720v720H120Zm60-500h600v-160H180v160Zm220 220h160v-160H400v160Zm0 220h160v-160H400v160ZM180-400h160v-160H180v160Zm440 0h160v-160H620v160ZM180-180h160v-160H180v160Zm440 0h160v-160H620v160Z\"/>\n",
              "  </svg>\n",
              "    </button>\n",
              "\n",
              "  <style>\n",
              "    .colab-df-container {\n",
              "      display:flex;\n",
              "      gap: 12px;\n",
              "    }\n",
              "\n",
              "    .colab-df-convert {\n",
              "      background-color: #E8F0FE;\n",
              "      border: none;\n",
              "      border-radius: 50%;\n",
              "      cursor: pointer;\n",
              "      display: none;\n",
              "      fill: #1967D2;\n",
              "      height: 32px;\n",
              "      padding: 0 0 0 0;\n",
              "      width: 32px;\n",
              "    }\n",
              "\n",
              "    .colab-df-convert:hover {\n",
              "      background-color: #E2EBFA;\n",
              "      box-shadow: 0px 1px 2px rgba(60, 64, 67, 0.3), 0px 1px 3px 1px rgba(60, 64, 67, 0.15);\n",
              "      fill: #174EA6;\n",
              "    }\n",
              "\n",
              "    .colab-df-buttons div {\n",
              "      margin-bottom: 4px;\n",
              "    }\n",
              "\n",
              "    [theme=dark] .colab-df-convert {\n",
              "      background-color: #3B4455;\n",
              "      fill: #D2E3FC;\n",
              "    }\n",
              "\n",
              "    [theme=dark] .colab-df-convert:hover {\n",
              "      background-color: #434B5C;\n",
              "      box-shadow: 0px 1px 3px 1px rgba(0, 0, 0, 0.15);\n",
              "      filter: drop-shadow(0px 1px 2px rgba(0, 0, 0, 0.3));\n",
              "      fill: #FFFFFF;\n",
              "    }\n",
              "  </style>\n",
              "\n",
              "    <script>\n",
              "      const buttonEl =\n",
              "        document.querySelector('#df-49104f80-da66-4bd9-9aa2-9b6b9eb87b46 button.colab-df-convert');\n",
              "      buttonEl.style.display =\n",
              "        google.colab.kernel.accessAllowed ? 'block' : 'none';\n",
              "\n",
              "      async function convertToInteractive(key) {\n",
              "        const element = document.querySelector('#df-49104f80-da66-4bd9-9aa2-9b6b9eb87b46');\n",
              "        const dataTable =\n",
              "          await google.colab.kernel.invokeFunction('convertToInteractive',\n",
              "                                                    [key], {});\n",
              "        if (!dataTable) return;\n",
              "\n",
              "        const docLinkHtml = 'Like what you see? Visit the ' +\n",
              "          '<a target=\"_blank\" href=https://colab.research.google.com/notebooks/data_table.ipynb>data table notebook</a>'\n",
              "          + ' to learn more about interactive tables.';\n",
              "        element.innerHTML = '';\n",
              "        dataTable['output_type'] = 'display_data';\n",
              "        await google.colab.output.renderOutput(dataTable, element);\n",
              "        const docLink = document.createElement('div');\n",
              "        docLink.innerHTML = docLinkHtml;\n",
              "        element.appendChild(docLink);\n",
              "      }\n",
              "    </script>\n",
              "  </div>\n",
              "\n",
              "\n",
              "<div id=\"df-8857418b-39de-45ea-a89a-3f17eb2126cb\">\n",
              "  <button class=\"colab-df-quickchart\" onclick=\"quickchart('df-8857418b-39de-45ea-a89a-3f17eb2126cb')\"\n",
              "            title=\"Suggest charts\"\n",
              "            style=\"display:none;\">\n",
              "\n",
              "<svg xmlns=\"http://www.w3.org/2000/svg\" height=\"24px\"viewBox=\"0 0 24 24\"\n",
              "     width=\"24px\">\n",
              "    <g>\n",
              "        <path d=\"M19 3H5c-1.1 0-2 .9-2 2v14c0 1.1.9 2 2 2h14c1.1 0 2-.9 2-2V5c0-1.1-.9-2-2-2zM9 17H7v-7h2v7zm4 0h-2V7h2v10zm4 0h-2v-4h2v4z\"/>\n",
              "    </g>\n",
              "</svg>\n",
              "  </button>\n",
              "\n",
              "<style>\n",
              "  .colab-df-quickchart {\n",
              "      --bg-color: #E8F0FE;\n",
              "      --fill-color: #1967D2;\n",
              "      --hover-bg-color: #E2EBFA;\n",
              "      --hover-fill-color: #174EA6;\n",
              "      --disabled-fill-color: #AAA;\n",
              "      --disabled-bg-color: #DDD;\n",
              "  }\n",
              "\n",
              "  [theme=dark] .colab-df-quickchart {\n",
              "      --bg-color: #3B4455;\n",
              "      --fill-color: #D2E3FC;\n",
              "      --hover-bg-color: #434B5C;\n",
              "      --hover-fill-color: #FFFFFF;\n",
              "      --disabled-bg-color: #3B4455;\n",
              "      --disabled-fill-color: #666;\n",
              "  }\n",
              "\n",
              "  .colab-df-quickchart {\n",
              "    background-color: var(--bg-color);\n",
              "    border: none;\n",
              "    border-radius: 50%;\n",
              "    cursor: pointer;\n",
              "    display: none;\n",
              "    fill: var(--fill-color);\n",
              "    height: 32px;\n",
              "    padding: 0;\n",
              "    width: 32px;\n",
              "  }\n",
              "\n",
              "  .colab-df-quickchart:hover {\n",
              "    background-color: var(--hover-bg-color);\n",
              "    box-shadow: 0 1px 2px rgba(60, 64, 67, 0.3), 0 1px 3px 1px rgba(60, 64, 67, 0.15);\n",
              "    fill: var(--button-hover-fill-color);\n",
              "  }\n",
              "\n",
              "  .colab-df-quickchart-complete:disabled,\n",
              "  .colab-df-quickchart-complete:disabled:hover {\n",
              "    background-color: var(--disabled-bg-color);\n",
              "    fill: var(--disabled-fill-color);\n",
              "    box-shadow: none;\n",
              "  }\n",
              "\n",
              "  .colab-df-spinner {\n",
              "    border: 2px solid var(--fill-color);\n",
              "    border-color: transparent;\n",
              "    border-bottom-color: var(--fill-color);\n",
              "    animation:\n",
              "      spin 1s steps(1) infinite;\n",
              "  }\n",
              "\n",
              "  @keyframes spin {\n",
              "    0% {\n",
              "      border-color: transparent;\n",
              "      border-bottom-color: var(--fill-color);\n",
              "      border-left-color: var(--fill-color);\n",
              "    }\n",
              "    20% {\n",
              "      border-color: transparent;\n",
              "      border-left-color: var(--fill-color);\n",
              "      border-top-color: var(--fill-color);\n",
              "    }\n",
              "    30% {\n",
              "      border-color: transparent;\n",
              "      border-left-color: var(--fill-color);\n",
              "      border-top-color: var(--fill-color);\n",
              "      border-right-color: var(--fill-color);\n",
              "    }\n",
              "    40% {\n",
              "      border-color: transparent;\n",
              "      border-right-color: var(--fill-color);\n",
              "      border-top-color: var(--fill-color);\n",
              "    }\n",
              "    60% {\n",
              "      border-color: transparent;\n",
              "      border-right-color: var(--fill-color);\n",
              "    }\n",
              "    80% {\n",
              "      border-color: transparent;\n",
              "      border-right-color: var(--fill-color);\n",
              "      border-bottom-color: var(--fill-color);\n",
              "    }\n",
              "    90% {\n",
              "      border-color: transparent;\n",
              "      border-bottom-color: var(--fill-color);\n",
              "    }\n",
              "  }\n",
              "</style>\n",
              "\n",
              "  <script>\n",
              "    async function quickchart(key) {\n",
              "      const quickchartButtonEl =\n",
              "        document.querySelector('#' + key + ' button');\n",
              "      quickchartButtonEl.disabled = true;  // To prevent multiple clicks.\n",
              "      quickchartButtonEl.classList.add('colab-df-spinner');\n",
              "      try {\n",
              "        const charts = await google.colab.kernel.invokeFunction(\n",
              "            'suggestCharts', [key], {});\n",
              "      } catch (error) {\n",
              "        console.error('Error during call to suggestCharts:', error);\n",
              "      }\n",
              "      quickchartButtonEl.classList.remove('colab-df-spinner');\n",
              "      quickchartButtonEl.classList.add('colab-df-quickchart-complete');\n",
              "    }\n",
              "    (() => {\n",
              "      let quickchartButtonEl =\n",
              "        document.querySelector('#df-8857418b-39de-45ea-a89a-3f17eb2126cb button');\n",
              "      quickchartButtonEl.style.display =\n",
              "        google.colab.kernel.accessAllowed ? 'block' : 'none';\n",
              "    })();\n",
              "  </script>\n",
              "</div>\n",
              "\n",
              "    </div>\n",
              "  </div>\n"
            ],
            "application/vnd.google.colaboratory.intrinsic+json": {
              "type": "dataframe"
            }
          },
          "metadata": {},
          "execution_count": 7
        }
      ]
    },
    {
      "cell_type": "markdown",
      "source": [
        "Membagi dataset Menjadi `X` dan `y`, serta membaginya juga menjadi dataset `training` dan dataset `testing`"
      ],
      "metadata": {
        "id": "zVK_weTFlRTw"
      }
    },
    {
      "cell_type": "code",
      "source": [
        "grouped_diagnosis = df['Diagnosis'].value_counts().rename_axis('Diagnosis').reset_index(name='Count')\n",
        "\n",
        "sns.barplot(x='Diagnosis', y='Count', data=grouped_diagnosis)\n",
        "plt.xlabel('Diagnosis')\n",
        "plt.ylabel('Count')\n",
        "plt.title('Distribution of Diagnosis')\n",
        "plt.show()"
      ],
      "metadata": {
        "colab": {
          "base_uri": "https://localhost:8080/",
          "height": 472
        },
        "id": "54ZUmZhrtniH",
        "outputId": "70281172-84b2-4b8c-a724-e8fac40ed285"
      },
      "execution_count": 9,
      "outputs": [
        {
          "output_type": "display_data",
          "data": {
            "text/plain": [
              "<Figure size 640x480 with 1 Axes>"
            ],
            "image/png": "[encoded data removed]"
          },
          "metadata": {}
        }
      ]
    },
    {
      "cell_type": "code",
      "source": [
        "correlation_matrix = df.corr()\n",
        "correlation_melted = correlation_matrix.reset_index().melt(id_vars='index')\n",
        "correlation_melted.columns = ['Variable1', 'Variable2', 'Correlation']\n",
        "\n",
        "alt.Chart(correlation_melted).mark_rect().encode(\n",
        "    x='Variable1:O',\n",
        "    y='Variable2:O',\n",
        "    color='Correlation:Q',\n",
        "    tooltip=['Variable1', 'Variable2', 'Correlation']\n",
        ").properties(\n",
        "    width=420,\n",
        "    height=420,\n",
        "    title='Correlation Heatmap'\n",
        ").interactive()"
      ],
      "metadata": {
        "colab": {
          "base_uri": "https://localhost:8080/",
          "height": 604
        },
        "id": "mXPV86Jstwpk",
        "outputId": "d6b68599-0ecc-4710-e0c9-fdba52aa9159"
      },
      "execution_count": 10,
      "outputs": [
        {
          "output_type": "execute_result",
          "data": {
            "text/html": [
              "\n",
              "<style>\n",
              "  #altair-viz-c79775dd60474804ab556889f1d3dcfe.vega-embed {\n",
              "    width: 100%;\n",
              "    display: flex;\n",
              "  }\n",
              "\n",
              "  #altair-viz-c79775dd60474804ab556889f1d3dcfe.vega-embed details,\n",
              "  #altair-viz-c79775dd60474804ab556889f1d3dcfe.vega-embed details summary {\n",
              "    position: relative;\n",
              "  }\n",
              "</style>\n",
              "<div id=\"altair-viz-c79775dd60474804ab556889f1d3dcfe\"></div>\n",
              "<script type=\"text/javascript\">\n",
              "  var VEGA_DEBUG = (typeof VEGA_DEBUG == \"undefined\") ? {} : VEGA_DEBUG;\n",
              "  (function(spec, embedOpt){\n",
              "    let outputDiv = document.currentScript.previousElementSibling;\n",
              "    if (outputDiv.id !== \"altair-viz-c79775dd60474804ab556889f1d3dcfe\") {\n",
              "      outputDiv = document.getElementById(\"altair-viz-c79775dd60474804ab556889f1d3dcfe\");\n",
              "    }\n",
              "\n",
              "    const paths = {\n",
              "      \"vega\": \"https://cdn.jsdelivr.net/npm/vega@5?noext\",\n",
              "      \"vega-lib\": \"https://cdn.jsdelivr.net/npm/vega-lib?noext\",\n",
              "      \"vega-lite\": \"https://cdn.jsdelivr.net/npm/vega-lite@5.20.1?noext\",\n",
              "      \"vega-embed\": \"https://cdn.jsdelivr.net/npm/vega-embed@6?noext\",\n",
              "    };\n",
              "\n",
              "    function maybeLoadScript(lib, version) {\n",
              "      var key = `${lib.replace(\"-\", \"\")}_version`;\n",
              "      return (VEGA_DEBUG[key] == version) ?\n",
              "        Promise.resolve(paths[lib]) :\n",
              "        new Promise(function(resolve, reject) {\n",
              "          var s = document.createElement('script');\n",
              "          document.getElementsByTagName(\"head\")[0].appendChild(s);\n",
              "          s.async = true;\n",
              "          s.onload = () => {\n",
              "            VEGA_DEBUG[key] = version;\n",
              "            return resolve(paths[lib]);\n",
              "          };\n",
              "          s.onerror = () => reject(`Error loading script: ${paths[lib]}`);\n",
              "          s.src = paths[lib];\n",
              "        });\n",
              "    }\n",
              "\n",
              "    function showError(err) {\n",
              "      outputDiv.innerHTML = `<div class=\"error\" style=\"color:red;\">${err}</div>`;\n",
              "      throw err;\n",
              "    }\n",
              "\n",
              "    function displayChart(vegaEmbed) {\n",
              "      vegaEmbed(outputDiv, spec, embedOpt)\n",
              "        .catch(err => showError(`Javascript Error: ${err.message}<br>This usually means there's a typo in your chart specification. See the javascript console for the full traceback.`));\n",
              "    }\n",
              "\n",
              "    if(typeof define === \"function\" && define.amd) {\n",
              "      requirejs.config({paths});\n",
              "      let deps = [\"vega-embed\"];\n",
              "      require(deps, displayChart, err => showError(`Error loading script: ${err.message}`));\n",
              "    } else {\n",
              "      maybeLoadScript(\"vega\", \"5\")\n",
              "        .then(() => maybeLoadScript(\"vega-lite\", \"5.20.1\"))\n",
              "        .then(() => maybeLoadScript(\"vega-embed\", \"6\"))\n",
              "        .catch(showError)\n",
              "        .then(() => displayChart(vegaEmbed));\n",
              "    }\n",
              "  })({\"config\": {\"view\": {\"continuousWidth\": 300, \"continuousHeight\": 300}}, \"data\": {\"name\": \"data-ce8e22436405c28f2235dfda791d3a47\"}, \"mark\": {\"type\": \"rect\"}, \"encoding\": {\"color\": {\"field\": \"Correlation\", \"type\": \"quantitative\"}, \"tooltip\": [{\"field\": \"Variable1\", \"type\": \"nominal\"}, {\"field\": \"Variable2\", \"type\": \"nominal\"}, {\"field\": \"Correlation\", \"type\": \"quantitative\"}], \"x\": {\"field\": \"Variable1\", \"type\": \"ordinal\"}, \"y\": {\"field\": \"Variable2\", \"type\": \"ordinal\"}}, \"height\": 420, \"params\": [{\"name\": \"param_1\", \"select\": {\"type\": \"interval\", \"encodings\": [\"x\", \"y\"]}, \"bind\": \"scales\"}], \"title\": \"Correlation Heatmap\", \"width\": 420, \"$schema\": \"https://vega.github.io/schema/vega-lite/v5.20.1.json\", \"datasets\": {\"data-ce8e22436405c28f2235dfda791d3a47\": [{\"Variable1\": \"Age\", \"Variable2\": \"Age\", \"Correlation\": 1.0}, {\"Variable1\": \"Gender\", \"Variable2\": \"Age\", \"Correlation\": 0.028707856044158417}, {\"Variable1\": \"Ethnicity\", \"Variable2\": \"Age\", \"Correlation\": 0.02774540250900815}, {\"Variable1\": \"EducationLevel\", \"Variable2\": \"Age\", \"Correlation\": -0.06055983030512356}, {\"Variable1\": \"BMI\", \"Variable2\": \"Age\", \"Correlation\": -0.015677039314309887}, {\"Variable1\": \"Smoking\", \"Variable2\": \"Age\", \"Correlation\": 0.020059729902532714}, {\"Variable1\": \"AlcoholConsumption\", \"Variable2\": \"Age\", \"Correlation\": 0.0073226967487274525}, {\"Variable1\": \"PhysicalActivity\", \"Variable2\": \"Age\", \"Correlation\": -0.010249230046452597}, {\"Variable1\": \"DietQuality\", \"Variable2\": \"Age\", \"Correlation\": -0.023386338237608266}, {\"Variable1\": \"SleepQuality\", \"Variable2\": \"Age\", \"Correlation\": 0.04913918035407803}, {\"Variable1\": \"FamilyHistoryAlzheimers\", \"Variable2\": \"Age\", \"Correlation\": -0.01878398572769399}, {\"Variable1\": \"CardiovascularDisease\", \"Variable2\": \"Age\", \"Correlation\": -0.01528439358634789}, {\"Variable1\": \"Diabetes\", \"Variable2\": \"Age\", \"Correlation\": -0.00570779508999404}, {\"Variable1\": \"Depression\", \"Variable2\": \"Age\", \"Correlation\": -0.008752024735822107}, {\"Variable1\": \"HeadInjury\", \"Variable2\": \"Age\", \"Correlation\": -0.0403373393323831}, {\"Variable1\": \"Hypertension\", \"Variable2\": \"Age\", \"Correlation\": 0.0039535646724524936}, {\"Variable1\": \"SystolicBP\", \"Variable2\": \"Age\", \"Correlation\": -0.0053244114799310144}, {\"Variable1\": \"DiastolicBP\", \"Variable2\": \"Age\", \"Correlation\": -0.004461867618130596}, {\"Variable1\": \"CholesterolTotal\", \"Variable2\": \"Age\", \"Correlation\": 0.00039191335825303377}, {\"Variable1\": \"CholesterolLDL\", \"Variable2\": \"Age\", \"Correlation\": 0.0035878880985002774}, {\"Variable1\": \"CholesterolHDL\", \"Variable2\": \"Age\", \"Correlation\": 0.006802863611082922}, {\"Variable1\": \"CholesterolTriglycerides\", \"Variable2\": \"Age\", \"Correlation\": -0.0030619937854480966}, {\"Variable1\": \"MMSE\", \"Variable2\": \"Age\", \"Correlation\": -0.004234771200121256}, {\"Variable1\": \"FunctionalAssessment\", \"Variable2\": \"Age\", \"Correlation\": 0.005507818902558747}, {\"Variable1\": \"MemoryComplaints\", \"Variable2\": \"Age\", \"Correlation\": 0.012343325585083248}, {\"Variable1\": \"BehavioralProblems\", \"Variable2\": \"Age\", \"Correlation\": 0.03897344552198197}, {\"Variable1\": \"ADL\", \"Variable2\": \"Age\", \"Correlation\": -0.038657555208668606}, {\"Variable1\": \"Confusion\", \"Variable2\": \"Age\", \"Correlation\": 0.009001969737011395}, {\"Variable1\": \"Disorientation\", \"Variable2\": \"Age\", \"Correlation\": 0.027522985902951456}, {\"Variable1\": \"PersonalityChanges\", \"Variable2\": \"Age\", \"Correlation\": -0.009469633122223426}, {\"Variable1\": \"DifficultyCompletingTasks\", \"Variable2\": \"Age\", \"Correlation\": 0.01390041016334703}, {\"Variable1\": \"Forgetfulness\", \"Variable2\": \"Age\", \"Correlation\": -0.019279351203730224}, {\"Variable1\": \"Diagnosis\", \"Variable2\": \"Age\", \"Correlation\": -0.005488377592358493}, {\"Variable1\": \"Age\", \"Variable2\": \"Gender\", \"Correlation\": 0.028707856044158417}, {\"Variable1\": \"Gender\", \"Variable2\": \"Gender\", \"Correlation\": 1.0}, {\"Variable1\": \"Ethnicity\", \"Variable2\": \"Gender\", \"Correlation\": -0.0036604528066656195}, {\"Variable1\": \"EducationLevel\", \"Variable2\": \"Gender\", \"Correlation\": -0.007070427298798927}, {\"Variable1\": \"BMI\", \"Variable2\": \"Gender\", \"Correlation\": 0.005927618714076629}, {\"Variable1\": \"Smoking\", \"Variable2\": \"Gender\", \"Correlation\": 0.016650472380676237}, {\"Variable1\": \"AlcoholConsumption\", \"Variable2\": \"Gender\", \"Correlation\": 0.004329761092295626}, {\"Variable1\": \"PhysicalActivity\", \"Variable2\": \"Gender\", \"Correlation\": -0.03579474725913434}, {\"Variable1\": \"DietQuality\", \"Variable2\": \"Gender\", \"Correlation\": 0.010942411879647135}, {\"Variable1\": \"SleepQuality\", \"Variable2\": \"Gender\", \"Correlation\": 0.007309769673100767}, {\"Variable1\": \"FamilyHistoryAlzheimers\", \"Variable2\": \"Gender\", \"Correlation\": 0.018420893301969173}, {\"Variable1\": \"CardiovascularDisease\", \"Variable2\": \"Gender\", \"Correlation\": 0.03457713570581173}, {\"Variable1\": \"Diabetes\", \"Variable2\": \"Gender\", \"Correlation\": -0.018299827160895094}, {\"Variable1\": \"Depression\", \"Variable2\": \"Gender\", \"Correlation\": 0.018112930987732593}, {\"Variable1\": \"HeadInjury\", \"Variable2\": \"Gender\", \"Correlation\": 0.004013192803696461}, {\"Variable1\": \"Hypertension\", \"Variable2\": \"Gender\", \"Correlation\": -0.0026412276915817423}, {\"Variable1\": \"SystolicBP\", \"Variable2\": \"Gender\", \"Correlation\": 0.011656985840053622}, {\"Variable1\": \"DiastolicBP\", \"Variable2\": \"Gender\", \"Correlation\": -0.026059128730775545}, {\"Variable1\": \"CholesterolTotal\", \"Variable2\": \"Gender\", \"Correlation\": -0.00956775522420565}, {\"Variable1\": \"CholesterolLDL\", \"Variable2\": \"Gender\", \"Correlation\": 0.01627144498543466}, {\"Variable1\": \"CholesterolHDL\", \"Variable2\": \"Gender\", \"Correlation\": -0.005846198728444937}, {\"Variable1\": \"CholesterolTriglycerides\", \"Variable2\": \"Gender\", \"Correlation\": -0.0124267753867129}, {\"Variable1\": \"MMSE\", \"Variable2\": \"Gender\", \"Correlation\": 0.025329890311331562}, {\"Variable1\": \"FunctionalAssessment\", \"Variable2\": \"Gender\", \"Correlation\": 0.03332432172461723}, {\"Variable1\": \"MemoryComplaints\", \"Variable2\": \"Gender\", \"Correlation\": 0.003879879123415987}, {\"Variable1\": \"BehavioralProblems\", \"Variable2\": \"Gender\", \"Correlation\": 0.006099420696923671}, {\"Variable1\": \"ADL\", \"Variable2\": \"Gender\", \"Correlation\": 0.0038651258588455356}, {\"Variable1\": \"Confusion\", \"Variable2\": \"Gender\", \"Correlation\": -0.03058325438699525}, {\"Variable1\": \"Disorientation\", \"Variable2\": \"Gender\", \"Correlation\": 0.017506147422747573}, {\"Variable1\": \"PersonalityChanges\", \"Variable2\": \"Gender\", \"Correlation\": 0.02591920754172938}, {\"Variable1\": \"DifficultyCompletingTasks\", \"Variable2\": \"Gender\", \"Correlation\": -0.0016358012819473787}, {\"Variable1\": \"Forgetfulness\", \"Variable2\": \"Gender\", \"Correlation\": -0.02853665560666138}, {\"Variable1\": \"Diagnosis\", \"Variable2\": \"Gender\", \"Correlation\": -0.02097471026094928}, {\"Variable1\": \"Age\", \"Variable2\": \"Ethnicity\", \"Correlation\": 0.02774540250900815}, {\"Variable1\": \"Gender\", \"Variable2\": \"Ethnicity\", \"Correlation\": -0.0036604528066656195}, {\"Variable1\": \"Ethnicity\", \"Variable2\": \"Ethnicity\", \"Correlation\": 1.0}, {\"Variable1\": \"EducationLevel\", \"Variable2\": \"Ethnicity\", \"Correlation\": 0.02651607586194397}, {\"Variable1\": \"BMI\", \"Variable2\": \"Ethnicity\", \"Correlation\": -0.00317640522336168}, {\"Variable1\": \"Smoking\", \"Variable2\": \"Ethnicity\", \"Correlation\": 0.031484747612971556}, {\"Variable1\": \"AlcoholConsumption\", \"Variable2\": \"Ethnicity\", \"Correlation\": 0.008362854411432268}, {\"Variable1\": \"PhysicalActivity\", \"Variable2\": \"Ethnicity\", \"Correlation\": 0.020498302408154083}, {\"Variable1\": \"DietQuality\", \"Variable2\": \"Ethnicity\", \"Correlation\": -0.018183554930771062}, {\"Variable1\": \"SleepQuality\", \"Variable2\": \"Ethnicity\", \"Correlation\": 0.029303695186202704}, {\"Variable1\": \"FamilyHistoryAlzheimers\", \"Variable2\": \"Ethnicity\", \"Correlation\": 0.022526151175088938}, {\"Variable1\": \"CardiovascularDisease\", \"Variable2\": \"Ethnicity\", \"Correlation\": 0.002346638769808763}, {\"Variable1\": \"Diabetes\", \"Variable2\": \"Ethnicity\", \"Correlation\": -0.019588460454057304}, {\"Variable1\": \"Depression\", \"Variable2\": \"Ethnicity\", \"Correlation\": -0.005410989767239207}, {\"Variable1\": \"HeadInjury\", \"Variable2\": \"Ethnicity\", \"Correlation\": -0.009363959799060592}, {\"Variable1\": \"Hypertension\", \"Variable2\": \"Ethnicity\", \"Correlation\": 0.012848475167266525}, {\"Variable1\": \"SystolicBP\", \"Variable2\": \"Ethnicity\", \"Correlation\": -0.027085831962057248}, {\"Variable1\": \"DiastolicBP\", \"Variable2\": \"Ethnicity\", \"Correlation\": 0.01031002295372162}, {\"Variable1\": \"CholesterolTotal\", \"Variable2\": \"Ethnicity\", \"Correlation\": -0.0117572070092587}, {\"Variable1\": \"CholesterolLDL\", \"Variable2\": \"Ethnicity\", \"Correlation\": 0.007907114221931634}, {\"Variable1\": \"CholesterolHDL\", \"Variable2\": \"Ethnicity\", \"Correlation\": -0.021828079604873346}, {\"Variable1\": \"CholesterolTriglycerides\", \"Variable2\": \"Ethnicity\", \"Correlation\": -0.007173437712651524}, {\"Variable1\": \"MMSE\", \"Variable2\": \"Ethnicity\", \"Correlation\": -0.012503896664434466}, {\"Variable1\": \"FunctionalAssessment\", \"Variable2\": \"Ethnicity\", \"Correlation\": -0.00470378807226815}, {\"Variable1\": \"MemoryComplaints\", \"Variable2\": \"Ethnicity\", \"Correlation\": 0.0036866401901921447}, {\"Variable1\": \"BehavioralProblems\", \"Variable2\": \"Ethnicity\", \"Correlation\": -0.019363000521973192}, {\"Variable1\": \"ADL\", \"Variable2\": \"Ethnicity\", \"Correlation\": 0.010474968765271262}, {\"Variable1\": \"Confusion\", \"Variable2\": \"Ethnicity\", \"Correlation\": 0.02243093408025774}, {\"Variable1\": \"Disorientation\", \"Variable2\": \"Ethnicity\", \"Correlation\": -0.018131579915501524}, {\"Variable1\": \"PersonalityChanges\", \"Variable2\": \"Ethnicity\", \"Correlation\": -0.030034991214554635}, {\"Variable1\": \"DifficultyCompletingTasks\", \"Variable2\": \"Ethnicity\", \"Correlation\": 0.019362617965243238}, {\"Variable1\": \"Forgetfulness\", \"Variable2\": \"Ethnicity\", \"Correlation\": -0.03461871016165004}, {\"Variable1\": \"Diagnosis\", \"Variable2\": \"Ethnicity\", \"Correlation\": -0.01478229536935003}, {\"Variable1\": \"Age\", \"Variable2\": \"EducationLevel\", \"Correlation\": -0.06055983030512356}, {\"Variable1\": \"Gender\", \"Variable2\": \"EducationLevel\", \"Correlation\": -0.007070427298798927}, {\"Variable1\": \"Ethnicity\", \"Variable2\": \"EducationLevel\", \"Correlation\": 0.02651607586194397}, {\"Variable1\": \"EducationLevel\", \"Variable2\": \"EducationLevel\", \"Correlation\": 1.0}, {\"Variable1\": \"BMI\", \"Variable2\": \"EducationLevel\", \"Correlation\": -0.02351401133098179}, {\"Variable1\": \"Smoking\", \"Variable2\": \"EducationLevel\", \"Correlation\": -0.009903529615885896}, {\"Variable1\": \"AlcoholConsumption\", \"Variable2\": \"EducationLevel\", \"Correlation\": -0.012645710015018574}, {\"Variable1\": \"PhysicalActivity\", \"Variable2\": \"EducationLevel\", \"Correlation\": -0.01670316906841914}, {\"Variable1\": \"DietQuality\", \"Variable2\": \"EducationLevel\", \"Correlation\": 0.017411941320727473}, {\"Variable1\": \"SleepQuality\", \"Variable2\": \"EducationLevel\", \"Correlation\": 0.02024783593126665}, {\"Variable1\": \"FamilyHistoryAlzheimers\", \"Variable2\": \"EducationLevel\", \"Correlation\": 0.032748053100479825}, {\"Variable1\": \"CardiovascularDisease\", \"Variable2\": \"EducationLevel\", \"Correlation\": 0.007527946227701943}, {\"Variable1\": \"Diabetes\", \"Variable2\": \"EducationLevel\", \"Correlation\": 0.0030587956415339622}, {\"Variable1\": \"Depression\", \"Variable2\": \"EducationLevel\", \"Correlation\": 0.027572660252922383}, {\"Variable1\": \"HeadInjury\", \"Variable2\": \"EducationLevel\", \"Correlation\": -0.00895093355733689}, {\"Variable1\": \"Hypertension\", \"Variable2\": \"EducationLevel\", \"Correlation\": -0.01694969468996422}, {\"Variable1\": \"SystolicBP\", \"Variable2\": \"EducationLevel\", \"Correlation\": -0.016781853583301237}, {\"Variable1\": \"DiastolicBP\", \"Variable2\": \"EducationLevel\", \"Correlation\": -0.002553097103323166}, {\"Variable1\": \"CholesterolTotal\", \"Variable2\": \"EducationLevel\", \"Correlation\": -0.04159791140703231}, {\"Variable1\": \"CholesterolLDL\", \"Variable2\": \"EducationLevel\", \"Correlation\": 0.050503673750811114}, {\"Variable1\": \"CholesterolHDL\", \"Variable2\": \"EducationLevel\", \"Correlation\": -0.00812529103148051}, {\"Variable1\": \"CholesterolTriglycerides\", \"Variable2\": \"EducationLevel\", \"Correlation\": -0.02576330744879212}, {\"Variable1\": \"MMSE\", \"Variable2\": \"EducationLevel\", \"Correlation\": 0.02608992924664157}, {\"Variable1\": \"FunctionalAssessment\", \"Variable2\": \"EducationLevel\", \"Correlation\": 0.02026900161943213}, {\"Variable1\": \"MemoryComplaints\", \"Variable2\": \"EducationLevel\", \"Correlation\": -0.00016518388371831725}, {\"Variable1\": \"BehavioralProblems\", \"Variable2\": \"EducationLevel\", \"Correlation\": 0.010472623748453513}, {\"Variable1\": \"ADL\", \"Variable2\": \"EducationLevel\", \"Correlation\": 0.03193434578483828}, {\"Variable1\": \"Confusion\", \"Variable2\": \"EducationLevel\", \"Correlation\": -0.008167762239294527}, {\"Variable1\": \"Disorientation\", \"Variable2\": \"EducationLevel\", \"Correlation\": -0.01756766003353075}, {\"Variable1\": \"PersonalityChanges\", \"Variable2\": \"EducationLevel\", \"Correlation\": -0.019950092859560686}, {\"Variable1\": \"DifficultyCompletingTasks\", \"Variable2\": \"EducationLevel\", \"Correlation\": 0.013032749626857926}, {\"Variable1\": \"Forgetfulness\", \"Variable2\": \"EducationLevel\", \"Correlation\": -0.008685107976809058}, {\"Variable1\": \"Diagnosis\", \"Variable2\": \"EducationLevel\", \"Correlation\": -0.04396584958332178}, {\"Variable1\": \"Age\", \"Variable2\": \"BMI\", \"Correlation\": -0.015677039314309887}, {\"Variable1\": \"Gender\", \"Variable2\": \"BMI\", \"Correlation\": 0.005927618714076629}, {\"Variable1\": \"Ethnicity\", \"Variable2\": \"BMI\", \"Correlation\": -0.00317640522336168}, {\"Variable1\": \"EducationLevel\", \"Variable2\": \"BMI\", \"Correlation\": -0.02351401133098179}, {\"Variable1\": \"BMI\", \"Variable2\": \"BMI\", \"Correlation\": 1.0}, {\"Variable1\": \"Smoking\", \"Variable2\": \"BMI\", \"Correlation\": 0.020437334548446404}, {\"Variable1\": \"AlcoholConsumption\", \"Variable2\": \"BMI\", \"Correlation\": -0.008996534094327855}, {\"Variable1\": \"PhysicalActivity\", \"Variable2\": \"BMI\", \"Correlation\": 0.000742418877651115}, {\"Variable1\": \"DietQuality\", \"Variable2\": \"BMI\", \"Correlation\": 0.01992202425588507}, {\"Variable1\": \"SleepQuality\", \"Variable2\": \"BMI\", \"Correlation\": -0.0059753710910981405}, {\"Variable1\": \"FamilyHistoryAlzheimers\", \"Variable2\": \"BMI\", \"Correlation\": 0.006445508061393239}, {\"Variable1\": \"CardiovascularDisease\", \"Variable2\": \"BMI\", \"Correlation\": -0.005466748717341565}, {\"Variable1\": \"Diabetes\", \"Variable2\": \"BMI\", \"Correlation\": -0.008979687305950189}, {\"Variable1\": \"Depression\", \"Variable2\": \"BMI\", \"Correlation\": -0.012506971187697908}, {\"Variable1\": \"HeadInjury\", \"Variable2\": \"BMI\", \"Correlation\": 0.01628782595445891}, {\"Variable1\": \"Hypertension\", \"Variable2\": \"BMI\", \"Correlation\": 0.004928478712898635}, {\"Variable1\": \"SystolicBP\", \"Variable2\": \"BMI\", \"Correlation\": -0.019274792971325158}, {\"Variable1\": \"DiastolicBP\", \"Variable2\": \"BMI\", \"Correlation\": -0.0025236817890122464}, {\"Variable1\": \"CholesterolTotal\", \"Variable2\": \"BMI\", \"Correlation\": 0.0010823138968188233}, {\"Variable1\": \"CholesterolLDL\", \"Variable2\": \"BMI\", \"Correlation\": 0.023684073949687502}, {\"Variable1\": \"CholesterolHDL\", \"Variable2\": \"BMI\", \"Correlation\": 0.03860469916091654}, {\"Variable1\": \"CholesterolTriglycerides\", \"Variable2\": \"BMI\", \"Correlation\": -0.018000598504786396}, {\"Variable1\": \"MMSE\", \"Variable2\": \"BMI\", \"Correlation\": -0.0034767068601193425}, {\"Variable1\": \"FunctionalAssessment\", \"Variable2\": \"BMI\", \"Correlation\": -0.030500565926246913}, {\"Variable1\": \"MemoryComplaints\", \"Variable2\": \"BMI\", \"Correlation\": 0.0292928999820944}, {\"Variable1\": \"BehavioralProblems\", \"Variable2\": \"BMI\", \"Correlation\": 0.03527588105277423}, {\"Variable1\": \"ADL\", \"Variable2\": \"BMI\", \"Correlation\": -0.009788457116494202}, {\"Variable1\": \"Confusion\", \"Variable2\": \"BMI\", \"Correlation\": -0.01585909614957977}, {\"Variable1\": \"Disorientation\", \"Variable2\": \"BMI\", \"Correlation\": -0.031840142898545504}, {\"Variable1\": \"PersonalityChanges\", \"Variable2\": \"BMI\", \"Correlation\": -0.015900976327826572}, {\"Variable1\": \"DifficultyCompletingTasks\", \"Variable2\": \"BMI\", \"Correlation\": -0.03939961904561917}, {\"Variable1\": \"Forgetfulness\", \"Variable2\": \"BMI\", \"Correlation\": 0.07113117355945427}, {\"Variable1\": \"Diagnosis\", \"Variable2\": \"BMI\", \"Correlation\": 0.02634281302888019}, {\"Variable1\": \"Age\", \"Variable2\": \"Smoking\", \"Correlation\": 0.020059729902532714}, {\"Variable1\": \"Gender\", \"Variable2\": \"Smoking\", \"Correlation\": 0.016650472380676237}, {\"Variable1\": \"Ethnicity\", \"Variable2\": \"Smoking\", \"Correlation\": 0.031484747612971556}, {\"Variable1\": \"EducationLevel\", \"Variable2\": \"Smoking\", \"Correlation\": -0.009903529615885896}, {\"Variable1\": \"BMI\", \"Variable2\": \"Smoking\", \"Correlation\": 0.020437334548446404}, {\"Variable1\": \"Smoking\", \"Variable2\": \"Smoking\", \"Correlation\": 1.0}, {\"Variable1\": \"AlcoholConsumption\", \"Variable2\": \"Smoking\", \"Correlation\": 0.008363417513695355}, {\"Variable1\": \"PhysicalActivity\", \"Variable2\": \"Smoking\", \"Correlation\": 0.010760319995253268}, {\"Variable1\": \"DietQuality\", \"Variable2\": \"Smoking\", \"Correlation\": -0.002048057772095428}, {\"Variable1\": \"SleepQuality\", \"Variable2\": \"Smoking\", \"Correlation\": -0.00114485003945006}, {\"Variable1\": \"FamilyHistoryAlzheimers\", \"Variable2\": \"Smoking\", \"Correlation\": -0.04581080716498753}, {\"Variable1\": \"CardiovascularDisease\", \"Variable2\": \"Smoking\", \"Correlation\": 0.027955139272676753}, {\"Variable1\": \"Diabetes\", \"Variable2\": \"Smoking\", \"Correlation\": -0.035810425859805595}, {\"Variable1\": \"Depression\", \"Variable2\": \"Smoking\", \"Correlation\": -0.039362953792956686}, {\"Variable1\": \"HeadInjury\", \"Variable2\": \"Smoking\", \"Correlation\": -0.019178337725611064}, {\"Variable1\": \"Hypertension\", \"Variable2\": \"Smoking\", \"Correlation\": -0.02112444550055341}, {\"Variable1\": \"SystolicBP\", \"Variable2\": \"Smoking\", \"Correlation\": -0.024116062113718858}, {\"Variable1\": \"DiastolicBP\", \"Variable2\": \"Smoking\", \"Correlation\": -0.014111591420584713}, {\"Variable1\": \"CholesterolTotal\", \"Variable2\": \"Smoking\", \"Correlation\": -0.010907471713295326}, {\"Variable1\": \"CholesterolLDL\", \"Variable2\": \"Smoking\", \"Correlation\": -0.0073928627249534445}, {\"Variable1\": \"CholesterolHDL\", \"Variable2\": \"Smoking\", \"Correlation\": -0.02556685506900308}, {\"Variable1\": \"CholesterolTriglycerides\", \"Variable2\": \"Smoking\", \"Correlation\": -0.021058150353882102}, {\"Variable1\": \"MMSE\", \"Variable2\": \"Smoking\", \"Correlation\": 0.0021388907930637705}, {\"Variable1\": \"FunctionalAssessment\", \"Variable2\": \"Smoking\", \"Correlation\": -0.03187873623104468}, {\"Variable1\": \"MemoryComplaints\", \"Variable2\": \"Smoking\", \"Correlation\": 0.02033923649542662}, {\"Variable1\": \"BehavioralProblems\", \"Variable2\": \"Smoking\", \"Correlation\": -0.014762620658280833}, {\"Variable1\": \"ADL\", \"Variable2\": \"Smoking\", \"Correlation\": -0.029232601017613744}, {\"Variable1\": \"Confusion\", \"Variable2\": \"Smoking\", \"Correlation\": 0.004498161605034091}, {\"Variable1\": \"Disorientation\", \"Variable2\": \"Smoking\", \"Correlation\": -0.02840280127293289}, {\"Variable1\": \"PersonalityChanges\", \"Variable2\": \"Smoking\", \"Correlation\": -0.0099773929048804}, {\"Variable1\": \"DifficultyCompletingTasks\", \"Variable2\": \"Smoking\", \"Correlation\": 0.0017410132063869184}, {\"Variable1\": \"Forgetfulness\", \"Variable2\": \"Smoking\", \"Correlation\": 0.01801121995206261}, {\"Variable1\": \"Diagnosis\", \"Variable2\": \"Smoking\", \"Correlation\": -0.004865235195237045}, {\"Variable1\": \"Age\", \"Variable2\": \"AlcoholConsumption\", \"Correlation\": 0.0073226967487274525}, {\"Variable1\": \"Gender\", \"Variable2\": \"AlcoholConsumption\", \"Correlation\": 0.004329761092295626}, {\"Variable1\": \"Ethnicity\", \"Variable2\": \"AlcoholConsumption\", \"Correlation\": 0.008362854411432268}, {\"Variable1\": \"EducationLevel\", \"Variable2\": \"AlcoholConsumption\", \"Correlation\": -0.012645710015018574}, {\"Variable1\": \"BMI\", \"Variable2\": \"AlcoholConsumption\", \"Correlation\": -0.008996534094327855}, {\"Variable1\": \"Smoking\", \"Variable2\": \"AlcoholConsumption\", \"Correlation\": 0.008363417513695355}, {\"Variable1\": \"AlcoholConsumption\", \"Variable2\": \"AlcoholConsumption\", \"Correlation\": 1.0}, {\"Variable1\": \"PhysicalActivity\", \"Variable2\": \"AlcoholConsumption\", \"Correlation\": 0.021695552268988654}, {\"Variable1\": \"DietQuality\", \"Variable2\": \"AlcoholConsumption\", \"Correlation\": 0.0201166132166429}, {\"Variable1\": \"SleepQuality\", \"Variable2\": \"AlcoholConsumption\", \"Correlation\": -0.0038726113799583614}, {\"Variable1\": \"FamilyHistoryAlzheimers\", \"Variable2\": \"AlcoholConsumption\", \"Correlation\": -0.003707292732340272}, {\"Variable1\": \"CardiovascularDisease\", \"Variable2\": \"AlcoholConsumption\", \"Correlation\": -0.023632199503964658}, {\"Variable1\": \"Diabetes\", \"Variable2\": \"AlcoholConsumption\", \"Correlation\": 7.252043182168044e-05}, {\"Variable1\": \"Depression\", \"Variable2\": \"AlcoholConsumption\", \"Correlation\": 0.00886739484538978}, {\"Variable1\": \"HeadInjury\", \"Variable2\": \"AlcoholConsumption\", \"Correlation\": -0.008301136173437059}, {\"Variable1\": \"Hypertension\", \"Variable2\": \"AlcoholConsumption\", \"Correlation\": -0.0060099697169182925}, {\"Variable1\": \"SystolicBP\", \"Variable2\": \"AlcoholConsumption\", \"Correlation\": -0.03007011144765684}, {\"Variable1\": \"DiastolicBP\", \"Variable2\": \"AlcoholConsumption\", \"Correlation\": -0.008909370837366296}, {\"Variable1\": \"CholesterolTotal\", \"Variable2\": \"AlcoholConsumption\", \"Correlation\": -0.033944440875368576}, {\"Variable1\": \"CholesterolLDL\", \"Variable2\": \"AlcoholConsumption\", \"Correlation\": -0.01704233205234264}, {\"Variable1\": \"CholesterolHDL\", \"Variable2\": \"AlcoholConsumption\", \"Correlation\": -0.0019250445968104575}, {\"Variable1\": \"CholesterolTriglycerides\", \"Variable2\": \"AlcoholConsumption\", \"Correlation\": 0.023362286146895863}, {\"Variable1\": \"MMSE\", \"Variable2\": \"AlcoholConsumption\", \"Correlation\": -0.011423989598521101}, {\"Variable1\": \"FunctionalAssessment\", \"Variable2\": \"AlcoholConsumption\", \"Correlation\": -0.016482803631539634}, {\"Variable1\": \"MemoryComplaints\", \"Variable2\": \"AlcoholConsumption\", \"Correlation\": -0.029418495321847857}, {\"Variable1\": \"BehavioralProblems\", \"Variable2\": \"AlcoholConsumption\", \"Correlation\": 0.013656963004512142}, {\"Variable1\": \"ADL\", \"Variable2\": \"AlcoholConsumption\", \"Correlation\": -0.008250355341974491}, {\"Variable1\": \"Confusion\", \"Variable2\": \"AlcoholConsumption\", \"Correlation\": -0.03279816124249221}, {\"Variable1\": \"Disorientation\", \"Variable2\": \"AlcoholConsumption\", \"Correlation\": 0.015521374576489335}, {\"Variable1\": \"PersonalityChanges\", \"Variable2\": \"AlcoholConsumption\", \"Correlation\": 0.01911683852474033}, {\"Variable1\": \"DifficultyCompletingTasks\", \"Variable2\": \"AlcoholConsumption\", \"Correlation\": -0.002712048905445025}, {\"Variable1\": \"Forgetfulness\", \"Variable2\": \"AlcoholConsumption\", \"Correlation\": -0.024121131364977386}, {\"Variable1\": \"Diagnosis\", \"Variable2\": \"AlcoholConsumption\", \"Correlation\": -0.007617968445114058}, {\"Variable1\": \"Age\", \"Variable2\": \"PhysicalActivity\", \"Correlation\": -0.010249230046452597}, {\"Variable1\": \"Gender\", \"Variable2\": \"PhysicalActivity\", \"Correlation\": -0.03579474725913434}, {\"Variable1\": \"Ethnicity\", \"Variable2\": \"PhysicalActivity\", \"Correlation\": 0.020498302408154083}, {\"Variable1\": \"EducationLevel\", \"Variable2\": \"PhysicalActivity\", \"Correlation\": -0.01670316906841914}, {\"Variable1\": \"BMI\", \"Variable2\": \"PhysicalActivity\", \"Correlation\": 0.000742418877651115}, {\"Variable1\": \"Smoking\", \"Variable2\": \"PhysicalActivity\", \"Correlation\": 0.010760319995253268}, {\"Variable1\": \"AlcoholConsumption\", \"Variable2\": \"PhysicalActivity\", \"Correlation\": 0.021695552268988654}, {\"Variable1\": \"PhysicalActivity\", \"Variable2\": \"PhysicalActivity\", \"Correlation\": 1.0}, {\"Variable1\": \"DietQuality\", \"Variable2\": \"PhysicalActivity\", \"Correlation\": 0.011084688438905588}, {\"Variable1\": \"SleepQuality\", \"Variable2\": \"PhysicalActivity\", \"Correlation\": -0.0018226884730858173}, {\"Variable1\": \"FamilyHistoryAlzheimers\", \"Variable2\": \"PhysicalActivity\", \"Correlation\": -0.014105973451041632}, {\"Variable1\": \"CardiovascularDisease\", \"Variable2\": \"PhysicalActivity\", \"Correlation\": 0.003975630125999665}, {\"Variable1\": \"Diabetes\", \"Variable2\": \"PhysicalActivity\", \"Correlation\": 0.029879504235844026}, {\"Variable1\": \"Depression\", \"Variable2\": \"PhysicalActivity\", \"Correlation\": -0.013533091086599414}, {\"Variable1\": \"HeadInjury\", \"Variable2\": \"PhysicalActivity\", \"Correlation\": 0.02578014931682676}, {\"Variable1\": \"Hypertension\", \"Variable2\": \"PhysicalActivity\", \"Correlation\": 0.02208080818816513}, {\"Variable1\": \"SystolicBP\", \"Variable2\": \"PhysicalActivity\", \"Correlation\": -0.004811294361500049}, {\"Variable1\": \"DiastolicBP\", \"Variable2\": \"PhysicalActivity\", \"Correlation\": -0.010554925146355637}, {\"Variable1\": \"CholesterolTotal\", \"Variable2\": \"PhysicalActivity\", \"Correlation\": 0.014334705136947349}, {\"Variable1\": \"CholesterolLDL\", \"Variable2\": \"PhysicalActivity\", \"Correlation\": 0.017788794403875725}, {\"Variable1\": \"CholesterolHDL\", \"Variable2\": \"PhysicalActivity\", \"Correlation\": -0.001993015885279753}, {\"Variable1\": \"CholesterolTriglycerides\", \"Variable2\": \"PhysicalActivity\", \"Correlation\": 0.027416040579506504}, {\"Variable1\": \"MMSE\", \"Variable2\": \"PhysicalActivity\", \"Correlation\": -0.008342257095075214}, {\"Variable1\": \"FunctionalAssessment\", \"Variable2\": \"PhysicalActivity\", \"Correlation\": -0.0024194984495427983}, {\"Variable1\": \"MemoryComplaints\", \"Variable2\": \"PhysicalActivity\", \"Correlation\": 0.008709341401174785}, {\"Variable1\": \"BehavioralProblems\", \"Variable2\": \"PhysicalActivity\", \"Correlation\": -0.01425322143141797}, {\"Variable1\": \"ADL\", \"Variable2\": \"PhysicalActivity\", \"Correlation\": -0.013323550722680733}, {\"Variable1\": \"Confusion\", \"Variable2\": \"PhysicalActivity\", \"Correlation\": -0.009397329696061168}, {\"Variable1\": \"Disorientation\", \"Variable2\": \"PhysicalActivity\", \"Correlation\": -0.020407449506840078}, {\"Variable1\": \"PersonalityChanges\", \"Variable2\": \"PhysicalActivity\", \"Correlation\": -0.013629408453667315}, {\"Variable1\": \"DifficultyCompletingTasks\", \"Variable2\": \"PhysicalActivity\", \"Correlation\": 0.03116908901528341}, {\"Variable1\": \"Forgetfulness\", \"Variable2\": \"PhysicalActivity\", \"Correlation\": 0.009836798627184142}, {\"Variable1\": \"Diagnosis\", \"Variable2\": \"PhysicalActivity\", \"Correlation\": 0.0059450424530866205}, {\"Variable1\": \"Age\", \"Variable2\": \"DietQuality\", \"Correlation\": -0.023386338237608266}, {\"Variable1\": \"Gender\", \"Variable2\": \"DietQuality\", \"Correlation\": 0.010942411879647135}, {\"Variable1\": \"Ethnicity\", \"Variable2\": \"DietQuality\", \"Correlation\": -0.018183554930771062}, {\"Variable1\": \"EducationLevel\", \"Variable2\": \"DietQuality\", \"Correlation\": 0.017411941320727473}, {\"Variable1\": \"BMI\", \"Variable2\": \"DietQuality\", \"Correlation\": 0.01992202425588507}, {\"Variable1\": \"Smoking\", \"Variable2\": \"DietQuality\", \"Correlation\": -0.002048057772095428}, {\"Variable1\": \"AlcoholConsumption\", \"Variable2\": \"DietQuality\", \"Correlation\": 0.0201166132166429}, {\"Variable1\": \"PhysicalActivity\", \"Variable2\": \"DietQuality\", \"Correlation\": 0.011084688438905588}, {\"Variable1\": \"DietQuality\", \"Variable2\": \"DietQuality\", \"Correlation\": 1.0}, {\"Variable1\": \"SleepQuality\", \"Variable2\": \"DietQuality\", \"Correlation\": 0.05129523345739094}, {\"Variable1\": \"FamilyHistoryAlzheimers\", \"Variable2\": \"DietQuality\", \"Correlation\": -0.011260908459046993}, {\"Variable1\": \"CardiovascularDisease\", \"Variable2\": \"DietQuality\", \"Correlation\": -0.015219625396799642}, {\"Variable1\": \"Diabetes\", \"Variable2\": \"DietQuality\", \"Correlation\": 0.009191941455964409}, {\"Variable1\": \"Depression\", \"Variable2\": \"DietQuality\", \"Correlation\": -0.0025158946301829864}, {\"Variable1\": \"HeadInjury\", \"Variable2\": \"DietQuality\", \"Correlation\": -0.008163014662319846}, {\"Variable1\": \"Hypertension\", \"Variable2\": \"DietQuality\", \"Correlation\": -0.04362754736610677}, {\"Variable1\": \"SystolicBP\", \"Variable2\": \"DietQuality\", \"Correlation\": 0.00603088527059284}, {\"Variable1\": \"DiastolicBP\", \"Variable2\": \"DietQuality\", \"Correlation\": 0.009539388306427579}, {\"Variable1\": \"CholesterolTotal\", \"Variable2\": \"DietQuality\", \"Correlation\": -0.016790419605758947}, {\"Variable1\": \"CholesterolLDL\", \"Variable2\": \"DietQuality\", \"Correlation\": -0.02369752162310436}, {\"Variable1\": \"CholesterolHDL\", \"Variable2\": \"DietQuality\", \"Correlation\": -0.008659141691885053}, {\"Variable1\": \"CholesterolTriglycerides\", \"Variable2\": \"DietQuality\", \"Correlation\": 0.034733874682347794}, {\"Variable1\": \"MMSE\", \"Variable2\": \"DietQuality\", \"Correlation\": 0.0216364080598454}, {\"Variable1\": \"FunctionalAssessment\", \"Variable2\": \"DietQuality\", \"Correlation\": -0.009699872679285657}, {\"Variable1\": \"MemoryComplaints\", \"Variable2\": \"DietQuality\", \"Correlation\": 0.012537455703595947}, {\"Variable1\": \"BehavioralProblems\", \"Variable2\": \"DietQuality\", \"Correlation\": -0.014032506301086732}, {\"Variable1\": \"ADL\", \"Variable2\": \"DietQuality\", \"Correlation\": -0.007888480119055281}, {\"Variable1\": \"Confusion\", \"Variable2\": \"DietQuality\", \"Correlation\": 0.0026283029692712005}, {\"Variable1\": \"Disorientation\", \"Variable2\": \"DietQuality\", \"Correlation\": -0.026271271442435684}, {\"Variable1\": \"PersonalityChanges\", \"Variable2\": \"DietQuality\", \"Correlation\": 0.029086947356865653}, {\"Variable1\": \"DifficultyCompletingTasks\", \"Variable2\": \"DietQuality\", \"Correlation\": 0.04573671660474048}, {\"Variable1\": \"Forgetfulness\", \"Variable2\": \"DietQuality\", \"Correlation\": 0.00617526692870697}, {\"Variable1\": \"Diagnosis\", \"Variable2\": \"DietQuality\", \"Correlation\": 0.00850577133339512}, {\"Variable1\": \"Age\", \"Variable2\": \"SleepQuality\", \"Correlation\": 0.04913918035407803}, {\"Variable1\": \"Gender\", \"Variable2\": \"SleepQuality\", \"Correlation\": 0.007309769673100767}, {\"Variable1\": \"Ethnicity\", \"Variable2\": \"SleepQuality\", \"Correlation\": 0.029303695186202704}, {\"Variable1\": \"EducationLevel\", \"Variable2\": \"SleepQuality\", \"Correlation\": 0.02024783593126665}, {\"Variable1\": \"BMI\", \"Variable2\": \"SleepQuality\", \"Correlation\": -0.0059753710910981405}, {\"Variable1\": \"Smoking\", \"Variable2\": \"SleepQuality\", \"Correlation\": -0.00114485003945006}, {\"Variable1\": \"AlcoholConsumption\", \"Variable2\": \"SleepQuality\", \"Correlation\": -0.0038726113799583614}, {\"Variable1\": \"PhysicalActivity\", \"Variable2\": \"SleepQuality\", \"Correlation\": -0.0018226884730858173}, {\"Variable1\": \"DietQuality\", \"Variable2\": \"SleepQuality\", \"Correlation\": 0.05129523345739094}, {\"Variable1\": \"SleepQuality\", \"Variable2\": \"SleepQuality\", \"Correlation\": 1.0}, {\"Variable1\": \"FamilyHistoryAlzheimers\", \"Variable2\": \"SleepQuality\", \"Correlation\": 0.014801364363702475}, {\"Variable1\": \"CardiovascularDisease\", \"Variable2\": \"SleepQuality\", \"Correlation\": 0.0021115055599045546}, {\"Variable1\": \"Diabetes\", \"Variable2\": \"SleepQuality\", \"Correlation\": 0.023986669643072788}, {\"Variable1\": \"Depression\", \"Variable2\": \"SleepQuality\", \"Correlation\": -0.022995892206937468}, {\"Variable1\": \"HeadInjury\", \"Variable2\": \"SleepQuality\", \"Correlation\": -0.004546393144071326}, {\"Variable1\": \"Hypertension\", \"Variable2\": \"SleepQuality\", \"Correlation\": 0.03866770612990951}, {\"Variable1\": \"SystolicBP\", \"Variable2\": \"SleepQuality\", \"Correlation\": -0.027886973782131484}, {\"Variable1\": \"DiastolicBP\", \"Variable2\": \"SleepQuality\", \"Correlation\": 0.01079723562075617}, {\"Variable1\": \"CholesterolTotal\", \"Variable2\": \"SleepQuality\", \"Correlation\": 0.0068794155682043185}, {\"Variable1\": \"CholesterolLDL\", \"Variable2\": \"SleepQuality\", \"Correlation\": 0.006750975574533201}, {\"Variable1\": \"CholesterolHDL\", \"Variable2\": \"SleepQuality\", \"Correlation\": 0.01545314994760347}, {\"Variable1\": \"CholesterolTriglycerides\", \"Variable2\": \"SleepQuality\", \"Correlation\": 0.024004193837721736}, {\"Variable1\": \"MMSE\", \"Variable2\": \"SleepQuality\", \"Correlation\": 0.01250613530184643}, {\"Variable1\": \"FunctionalAssessment\", \"Variable2\": \"SleepQuality\", \"Correlation\": 0.02958866260080411}, {\"Variable1\": \"MemoryComplaints\", \"Variable2\": \"SleepQuality\", \"Correlation\": -0.016806812160640044}, {\"Variable1\": \"BehavioralProblems\", \"Variable2\": \"SleepQuality\", \"Correlation\": -0.019899327289595023}, {\"Variable1\": \"ADL\", \"Variable2\": \"SleepQuality\", \"Correlation\": 0.01453468571030375}, {\"Variable1\": \"Confusion\", \"Variable2\": \"SleepQuality\", \"Correlation\": 0.013508295449324092}, {\"Variable1\": \"Disorientation\", \"Variable2\": \"SleepQuality\", \"Correlation\": 0.019466528800466044}, {\"Variable1\": \"PersonalityChanges\", \"Variable2\": \"SleepQuality\", \"Correlation\": -0.01689240305338289}, {\"Variable1\": \"DifficultyCompletingTasks\", \"Variable2\": \"SleepQuality\", \"Correlation\": 0.011237088857220103}, {\"Variable1\": \"Forgetfulness\", \"Variable2\": \"SleepQuality\", \"Correlation\": 0.0029295249606487088}, {\"Variable1\": \"Diagnosis\", \"Variable2\": \"SleepQuality\", \"Correlation\": -0.056548086007109054}, {\"Variable1\": \"Age\", \"Variable2\": \"FamilyHistoryAlzheimers\", \"Correlation\": -0.01878398572769399}, {\"Variable1\": \"Gender\", \"Variable2\": \"FamilyHistoryAlzheimers\", \"Correlation\": 0.018420893301969173}, {\"Variable1\": \"Ethnicity\", \"Variable2\": \"FamilyHistoryAlzheimers\", \"Correlation\": 0.022526151175088938}, {\"Variable1\": \"EducationLevel\", \"Variable2\": \"FamilyHistoryAlzheimers\", \"Correlation\": 0.032748053100479825}, {\"Variable1\": \"BMI\", \"Variable2\": \"FamilyHistoryAlzheimers\", \"Correlation\": 0.006445508061393239}, {\"Variable1\": \"Smoking\", \"Variable2\": \"FamilyHistoryAlzheimers\", \"Correlation\": -0.04581080716498753}, {\"Variable1\": \"AlcoholConsumption\", \"Variable2\": \"FamilyHistoryAlzheimers\", \"Correlation\": -0.003707292732340272}, {\"Variable1\": \"PhysicalActivity\", \"Variable2\": \"FamilyHistoryAlzheimers\", \"Correlation\": -0.014105973451041632}, {\"Variable1\": \"DietQuality\", \"Variable2\": \"FamilyHistoryAlzheimers\", \"Correlation\": -0.011260908459046993}, {\"Variable1\": \"SleepQuality\", \"Variable2\": \"FamilyHistoryAlzheimers\", \"Correlation\": 0.014801364363702475}, {\"Variable1\": \"FamilyHistoryAlzheimers\", \"Variable2\": \"FamilyHistoryAlzheimers\", \"Correlation\": 1.0}, {\"Variable1\": \"CardiovascularDisease\", \"Variable2\": \"FamilyHistoryAlzheimers\", \"Correlation\": 0.02078308830251368}, {\"Variable1\": \"Diabetes\", \"Variable2\": \"FamilyHistoryAlzheimers\", \"Correlation\": -0.02310603302091065}, {\"Variable1\": \"Depression\", \"Variable2\": \"FamilyHistoryAlzheimers\", \"Correlation\": 0.0007956884640614577}, {\"Variable1\": \"HeadInjury\", \"Variable2\": \"FamilyHistoryAlzheimers\", \"Correlation\": -0.019184049072001837}, {\"Variable1\": \"Hypertension\", \"Variable2\": \"FamilyHistoryAlzheimers\", \"Correlation\": 0.012920429517752536}, {\"Variable1\": \"SystolicBP\", \"Variable2\": \"FamilyHistoryAlzheimers\", \"Correlation\": 0.006463384658793618}, {\"Variable1\": \"DiastolicBP\", \"Variable2\": \"FamilyHistoryAlzheimers\", \"Correlation\": 0.006059967127693769}, {\"Variable1\": \"CholesterolTotal\", \"Variable2\": \"FamilyHistoryAlzheimers\", \"Correlation\": 0.007054485513640053}, {\"Variable1\": \"CholesterolLDL\", \"Variable2\": \"FamilyHistoryAlzheimers\", \"Correlation\": -0.011682279296331704}, {\"Variable1\": \"CholesterolHDL\", \"Variable2\": \"FamilyHistoryAlzheimers\", \"Correlation\": -0.013580937576114522}, {\"Variable1\": \"CholesterolTriglycerides\", \"Variable2\": \"FamilyHistoryAlzheimers\", \"Correlation\": 0.0010461910999012684}, {\"Variable1\": \"MMSE\", \"Variable2\": \"FamilyHistoryAlzheimers\", \"Correlation\": 0.015574666836845507}, {\"Variable1\": \"FunctionalAssessment\", \"Variable2\": \"FamilyHistoryAlzheimers\", \"Correlation\": -0.004650068428926303}, {\"Variable1\": \"MemoryComplaints\", \"Variable2\": \"FamilyHistoryAlzheimers\", \"Correlation\": -0.028347803207418042}, {\"Variable1\": \"BehavioralProblems\", \"Variable2\": \"FamilyHistoryAlzheimers\", \"Correlation\": -0.0235584552024697}, {\"Variable1\": \"ADL\", \"Variable2\": \"FamilyHistoryAlzheimers\", \"Correlation\": 0.01404142570885478}, {\"Variable1\": \"Confusion\", \"Variable2\": \"FamilyHistoryAlzheimers\", \"Correlation\": 0.017975896770663156}, {\"Variable1\": \"Disorientation\", \"Variable2\": \"FamilyHistoryAlzheimers\", \"Correlation\": 0.03596272244340196}, {\"Variable1\": \"PersonalityChanges\", \"Variable2\": \"FamilyHistoryAlzheimers\", \"Correlation\": 0.0068390067583300905}, {\"Variable1\": \"DifficultyCompletingTasks\", \"Variable2\": \"FamilyHistoryAlzheimers\", \"Correlation\": 0.00878687485028826}, {\"Variable1\": \"Forgetfulness\", \"Variable2\": \"FamilyHistoryAlzheimers\", \"Correlation\": 0.022338746633336647}, {\"Variable1\": \"Diagnosis\", \"Variable2\": \"FamilyHistoryAlzheimers\", \"Correlation\": -0.03289974752274733}, {\"Variable1\": \"Age\", \"Variable2\": \"CardiovascularDisease\", \"Correlation\": -0.01528439358634789}, {\"Variable1\": \"Gender\", \"Variable2\": \"CardiovascularDisease\", \"Correlation\": 0.03457713570581173}, {\"Variable1\": \"Ethnicity\", \"Variable2\": \"CardiovascularDisease\", \"Correlation\": 0.002346638769808763}, {\"Variable1\": \"EducationLevel\", \"Variable2\": \"CardiovascularDisease\", \"Correlation\": 0.007527946227701943}, {\"Variable1\": \"BMI\", \"Variable2\": \"CardiovascularDisease\", \"Correlation\": -0.005466748717341565}, {\"Variable1\": \"Smoking\", \"Variable2\": \"CardiovascularDisease\", \"Correlation\": 0.027955139272676753}, {\"Variable1\": \"AlcoholConsumption\", \"Variable2\": \"CardiovascularDisease\", \"Correlation\": -0.023632199503964658}, {\"Variable1\": \"PhysicalActivity\", \"Variable2\": \"CardiovascularDisease\", \"Correlation\": 0.003975630125999665}, {\"Variable1\": \"DietQuality\", \"Variable2\": \"CardiovascularDisease\", \"Correlation\": -0.015219625396799642}, {\"Variable1\": \"SleepQuality\", \"Variable2\": \"CardiovascularDisease\", \"Correlation\": 0.0021115055599045546}, {\"Variable1\": \"FamilyHistoryAlzheimers\", \"Variable2\": \"CardiovascularDisease\", \"Correlation\": 0.02078308830251368}, {\"Variable1\": \"CardiovascularDisease\", \"Variable2\": \"CardiovascularDisease\", \"Correlation\": 1.0}, {\"Variable1\": \"Diabetes\", \"Variable2\": \"CardiovascularDisease\", \"Correlation\": -0.010134375995638637}, {\"Variable1\": \"Depression\", \"Variable2\": \"CardiovascularDisease\", \"Correlation\": 0.006042662925261773}, {\"Variable1\": \"HeadInjury\", \"Variable2\": \"CardiovascularDisease\", \"Correlation\": 0.0013415714387315192}, {\"Variable1\": \"Hypertension\", \"Variable2\": \"CardiovascularDisease\", \"Correlation\": -0.011760020022227095}, {\"Variable1\": \"SystolicBP\", \"Variable2\": \"CardiovascularDisease\", \"Correlation\": 0.013575435789445279}, {\"Variable1\": \"DiastolicBP\", \"Variable2\": \"CardiovascularDisease\", \"Correlation\": -0.04366183571275978}, {\"Variable1\": \"CholesterolTotal\", \"Variable2\": \"CardiovascularDisease\", \"Correlation\": -0.007961295222544195}, {\"Variable1\": \"CholesterolLDL\", \"Variable2\": \"CardiovascularDisease\", \"Correlation\": 0.03860713247710385}, {\"Variable1\": \"CholesterolHDL\", \"Variable2\": \"CardiovascularDisease\", \"Correlation\": -0.017681057516958053}, {\"Variable1\": \"CholesterolTriglycerides\", \"Variable2\": \"CardiovascularDisease\", \"Correlation\": -0.0012640986614260294}, {\"Variable1\": \"MMSE\", \"Variable2\": \"CardiovascularDisease\", \"Correlation\": 0.02535063082001626}, {\"Variable1\": \"FunctionalAssessment\", \"Variable2\": \"CardiovascularDisease\", \"Correlation\": -0.041270195405801936}, {\"Variable1\": \"MemoryComplaints\", \"Variable2\": \"CardiovascularDisease\", \"Correlation\": 0.03106100217692672}, {\"Variable1\": \"BehavioralProblems\", \"Variable2\": \"CardiovascularDisease\", \"Correlation\": -0.016802857950516056}, {\"Variable1\": \"ADL\", \"Variable2\": \"CardiovascularDisease\", \"Correlation\": -0.012918216196968662}, {\"Variable1\": \"Confusion\", \"Variable2\": \"CardiovascularDisease\", \"Correlation\": 0.01765777400446748}, {\"Variable1\": \"Disorientation\", \"Variable2\": \"CardiovascularDisease\", \"Correlation\": 0.025236923159800834}, {\"Variable1\": \"PersonalityChanges\", \"Variable2\": \"CardiovascularDisease\", \"Correlation\": -0.032342507213817345}, {\"Variable1\": \"DifficultyCompletingTasks\", \"Variable2\": \"CardiovascularDisease\", \"Correlation\": 0.024683965832621373}, {\"Variable1\": \"Forgetfulness\", \"Variable2\": \"CardiovascularDisease\", \"Correlation\": 0.010169940129395047}, {\"Variable1\": \"Diagnosis\", \"Variable2\": \"CardiovascularDisease\", \"Correlation\": 0.03149024640849238}, {\"Variable1\": \"Age\", \"Variable2\": \"Diabetes\", \"Correlation\": -0.00570779508999404}, {\"Variable1\": \"Gender\", \"Variable2\": \"Diabetes\", \"Correlation\": -0.018299827160895094}, {\"Variable1\": \"Ethnicity\", \"Variable2\": \"Diabetes\", \"Correlation\": -0.019588460454057304}, {\"Variable1\": \"EducationLevel\", \"Variable2\": \"Diabetes\", \"Correlation\": 0.0030587956415339622}, {\"Variable1\": \"BMI\", \"Variable2\": \"Diabetes\", \"Correlation\": -0.008979687305950189}, {\"Variable1\": \"Smoking\", \"Variable2\": \"Diabetes\", \"Correlation\": -0.035810425859805595}, {\"Variable1\": \"AlcoholConsumption\", \"Variable2\": \"Diabetes\", \"Correlation\": 7.252043182168044e-05}, {\"Variable1\": \"PhysicalActivity\", \"Variable2\": \"Diabetes\", \"Correlation\": 0.029879504235844026}, {\"Variable1\": \"DietQuality\", \"Variable2\": \"Diabetes\", \"Correlation\": 0.009191941455964409}, {\"Variable1\": \"SleepQuality\", \"Variable2\": \"Diabetes\", \"Correlation\": 0.023986669643072788}, {\"Variable1\": \"FamilyHistoryAlzheimers\", \"Variable2\": \"Diabetes\", \"Correlation\": -0.02310603302091065}, {\"Variable1\": \"CardiovascularDisease\", \"Variable2\": \"Diabetes\", \"Correlation\": -0.010134375995638637}, {\"Variable1\": \"Diabetes\", \"Variable2\": \"Diabetes\", \"Correlation\": 1.0}, {\"Variable1\": \"Depression\", \"Variable2\": \"Diabetes\", \"Correlation\": 0.0033097101400225517}, {\"Variable1\": \"HeadInjury\", \"Variable2\": \"Diabetes\", \"Correlation\": -1.2525742142922301e-05}, {\"Variable1\": \"Hypertension\", \"Variable2\": \"Diabetes\", \"Correlation\": -0.0008975282791548913}, {\"Variable1\": \"SystolicBP\", \"Variable2\": \"Diabetes\", \"Correlation\": -0.011518497557564608}, {\"Variable1\": \"DiastolicBP\", \"Variable2\": \"Diabetes\", \"Correlation\": 0.003423424020525818}, {\"Variable1\": \"CholesterolTotal\", \"Variable2\": \"Diabetes\", \"Correlation\": 0.04876683097144767}, {\"Variable1\": \"CholesterolLDL\", \"Variable2\": \"Diabetes\", \"Correlation\": 0.014743718062126232}, {\"Variable1\": \"CholesterolHDL\", \"Variable2\": \"Diabetes\", \"Correlation\": 0.03853164991989017}, {\"Variable1\": \"CholesterolTriglycerides\", \"Variable2\": \"Diabetes\", \"Correlation\": -0.0449059878085971}, {\"Variable1\": \"MMSE\", \"Variable2\": \"Diabetes\", \"Correlation\": -0.008905215493983822}, {\"Variable1\": \"FunctionalAssessment\", \"Variable2\": \"Diabetes\", \"Correlation\": 0.043548441576230806}, {\"Variable1\": \"MemoryComplaints\", \"Variable2\": \"Diabetes\", \"Correlation\": -0.017280088286547007}, {\"Variable1\": \"BehavioralProblems\", \"Variable2\": \"Diabetes\", \"Correlation\": -0.027926714861164947}, {\"Variable1\": \"ADL\", \"Variable2\": \"Diabetes\", \"Correlation\": 0.02223490250236085}, {\"Variable1\": \"Confusion\", \"Variable2\": \"Diabetes\", \"Correlation\": -0.004793437539158655}, {\"Variable1\": \"Disorientation\", \"Variable2\": \"Diabetes\", \"Correlation\": -0.004493726218964731}, {\"Variable1\": \"PersonalityChanges\", \"Variable2\": \"Diabetes\", \"Correlation\": 0.0041840013529511255}, {\"Variable1\": \"DifficultyCompletingTasks\", \"Variable2\": \"Diabetes\", \"Correlation\": -0.0014657602120706364}, {\"Variable1\": \"Forgetfulness\", \"Variable2\": \"Diabetes\", \"Correlation\": -0.0076440146692056165}, {\"Variable1\": \"Diagnosis\", \"Variable2\": \"Diabetes\", \"Correlation\": -0.0315076041564909}, {\"Variable1\": \"Age\", \"Variable2\": \"Depression\", \"Correlation\": -0.008752024735822107}, {\"Variable1\": \"Gender\", \"Variable2\": \"Depression\", \"Correlation\": 0.018112930987732593}, {\"Variable1\": \"Ethnicity\", \"Variable2\": \"Depression\", \"Correlation\": -0.005410989767239207}, {\"Variable1\": \"EducationLevel\", \"Variable2\": \"Depression\", \"Correlation\": 0.027572660252922383}, {\"Variable1\": \"BMI\", \"Variable2\": \"Depression\", \"Correlation\": -0.012506971187697908}, {\"Variable1\": \"Smoking\", \"Variable2\": \"Depression\", \"Correlation\": -0.039362953792956686}, {\"Variable1\": \"AlcoholConsumption\", \"Variable2\": \"Depression\", \"Correlation\": 0.00886739484538978}, {\"Variable1\": \"PhysicalActivity\", \"Variable2\": \"Depression\", \"Correlation\": -0.013533091086599414}, {\"Variable1\": \"DietQuality\", \"Variable2\": \"Depression\", \"Correlation\": -0.0025158946301829864}, {\"Variable1\": \"SleepQuality\", \"Variable2\": \"Depression\", \"Correlation\": -0.022995892206937468}, {\"Variable1\": \"FamilyHistoryAlzheimers\", \"Variable2\": \"Depression\", \"Correlation\": 0.0007956884640614577}, {\"Variable1\": \"CardiovascularDisease\", \"Variable2\": \"Depression\", \"Correlation\": 0.006042662925261773}, {\"Variable1\": \"Diabetes\", \"Variable2\": \"Depression\", \"Correlation\": 0.0033097101400225517}, {\"Variable1\": \"Depression\", \"Variable2\": \"Depression\", \"Correlation\": 1.0}, {\"Variable1\": \"HeadInjury\", \"Variable2\": \"Depression\", \"Correlation\": -0.007661797053126835}, {\"Variable1\": \"Hypertension\", \"Variable2\": \"Depression\", \"Correlation\": 0.03206076472397228}, {\"Variable1\": \"SystolicBP\", \"Variable2\": \"Depression\", \"Correlation\": -0.018863742569359663}, {\"Variable1\": \"DiastolicBP\", \"Variable2\": \"Depression\", \"Correlation\": -0.02302094928646844}, {\"Variable1\": \"CholesterolTotal\", \"Variable2\": \"Depression\", \"Correlation\": -0.010086747363861557}, {\"Variable1\": \"CholesterolLDL\", \"Variable2\": \"Depression\", \"Correlation\": -0.004795539470276187}, {\"Variable1\": \"CholesterolHDL\", \"Variable2\": \"Depression\", \"Correlation\": -0.008256393467913858}, {\"Variable1\": \"CholesterolTriglycerides\", \"Variable2\": \"Depression\", \"Correlation\": 0.04318563076290848}, {\"Variable1\": \"MMSE\", \"Variable2\": \"Depression\", \"Correlation\": 0.014020468431138517}, {\"Variable1\": \"FunctionalAssessment\", \"Variable2\": \"Depression\", \"Correlation\": 0.019733268349414666}, {\"Variable1\": \"MemoryComplaints\", \"Variable2\": \"Depression\", \"Correlation\": -0.019039190290674315}, {\"Variable1\": \"BehavioralProblems\", \"Variable2\": \"Depression\", \"Correlation\": 0.0013161306672381087}, {\"Variable1\": \"ADL\", \"Variable2\": \"Depression\", \"Correlation\": 0.006195310558744558}, {\"Variable1\": \"Confusion\", \"Variable2\": \"Depression\", \"Correlation\": 0.0015934319414602925}, {\"Variable1\": \"Disorientation\", \"Variable2\": \"Depression\", \"Correlation\": 0.005764221282078414}, {\"Variable1\": \"PersonalityChanges\", \"Variable2\": \"Depression\", \"Correlation\": 0.026043942850688968}, {\"Variable1\": \"DifficultyCompletingTasks\", \"Variable2\": \"Depression\", \"Correlation\": -0.01714478058399669}, {\"Variable1\": \"Forgetfulness\", \"Variable2\": \"Depression\", \"Correlation\": 0.017822446488998805}, {\"Variable1\": \"Diagnosis\", \"Variable2\": \"Depression\", \"Correlation\": -0.005892907030010054}, {\"Variable1\": \"Age\", \"Variable2\": \"HeadInjury\", \"Correlation\": -0.0403373393323831}, {\"Variable1\": \"Gender\", \"Variable2\": \"HeadInjury\", \"Correlation\": 0.004013192803696461}, {\"Variable1\": \"Ethnicity\", \"Variable2\": \"HeadInjury\", \"Correlation\": -0.009363959799060592}, {\"Variable1\": \"EducationLevel\", \"Variable2\": \"HeadInjury\", \"Correlation\": -0.00895093355733689}, {\"Variable1\": \"BMI\", \"Variable2\": \"HeadInjury\", \"Correlation\": 0.01628782595445891}, {\"Variable1\": \"Smoking\", \"Variable2\": \"HeadInjury\", \"Correlation\": -0.019178337725611064}, {\"Variable1\": \"AlcoholConsumption\", \"Variable2\": \"HeadInjury\", \"Correlation\": -0.008301136173437059}, {\"Variable1\": \"PhysicalActivity\", \"Variable2\": \"HeadInjury\", \"Correlation\": 0.02578014931682676}, {\"Variable1\": \"DietQuality\", \"Variable2\": \"HeadInjury\", \"Correlation\": -0.008163014662319846}, {\"Variable1\": \"SleepQuality\", \"Variable2\": \"HeadInjury\", \"Correlation\": -0.004546393144071326}, {\"Variable1\": \"FamilyHistoryAlzheimers\", \"Variable2\": \"HeadInjury\", \"Correlation\": -0.019184049072001837}, {\"Variable1\": \"CardiovascularDisease\", \"Variable2\": \"HeadInjury\", \"Correlation\": 0.0013415714387315192}, {\"Variable1\": \"Diabetes\", \"Variable2\": \"HeadInjury\", \"Correlation\": -1.2525742142922301e-05}, {\"Variable1\": \"Depression\", \"Variable2\": \"HeadInjury\", \"Correlation\": -0.007661797053126835}, {\"Variable1\": \"HeadInjury\", \"Variable2\": \"HeadInjury\", \"Correlation\": 1.0}, {\"Variable1\": \"Hypertension\", \"Variable2\": \"HeadInjury\", \"Correlation\": -0.01637958375778219}, {\"Variable1\": \"SystolicBP\", \"Variable2\": \"HeadInjury\", \"Correlation\": 8.105367113062598e-05}, {\"Variable1\": \"DiastolicBP\", \"Variable2\": \"HeadInjury\", \"Correlation\": 0.010430430999519066}, {\"Variable1\": \"CholesterolTotal\", \"Variable2\": \"HeadInjury\", \"Correlation\": -0.021733752460078092}, {\"Variable1\": \"CholesterolLDL\", \"Variable2\": \"HeadInjury\", \"Correlation\": 0.026806328384386777}, {\"Variable1\": \"CholesterolHDL\", \"Variable2\": \"HeadInjury\", \"Correlation\": 0.0006846416444545966}, {\"Variable1\": \"CholesterolTriglycerides\", \"Variable2\": \"HeadInjury\", \"Correlation\": 0.016844847598574762}, {\"Variable1\": \"MMSE\", \"Variable2\": \"HeadInjury\", \"Correlation\": 0.006063236146772235}, {\"Variable1\": \"FunctionalAssessment\", \"Variable2\": \"HeadInjury\", \"Correlation\": 0.03465476217673443}, {\"Variable1\": \"MemoryComplaints\", \"Variable2\": \"HeadInjury\", \"Correlation\": -0.021328905965830473}, {\"Variable1\": \"BehavioralProblems\", \"Variable2\": \"HeadInjury\", \"Correlation\": 0.04764929571194906}, {\"Variable1\": \"ADL\", \"Variable2\": \"HeadInjury\", \"Correlation\": -0.01666884679628031}, {\"Variable1\": \"Confusion\", \"Variable2\": \"HeadInjury\", \"Correlation\": -0.031152047130002674}, {\"Variable1\": \"Disorientation\", \"Variable2\": \"HeadInjury\", \"Correlation\": 0.03305954189683301}, {\"Variable1\": \"PersonalityChanges\", \"Variable2\": \"HeadInjury\", \"Correlation\": -0.03141664891824186}, {\"Variable1\": \"DifficultyCompletingTasks\", \"Variable2\": \"HeadInjury\", \"Correlation\": 0.010645531055471181}, {\"Variable1\": \"Forgetfulness\", \"Variable2\": \"HeadInjury\", \"Correlation\": -1.9532577363135835e-05}, {\"Variable1\": \"Diagnosis\", \"Variable2\": \"HeadInjury\", \"Correlation\": -0.021411425744208398}, {\"Variable1\": \"Age\", \"Variable2\": \"Hypertension\", \"Correlation\": 0.0039535646724524936}, {\"Variable1\": \"Gender\", \"Variable2\": \"Hypertension\", \"Correlation\": -0.0026412276915817423}, {\"Variable1\": \"Ethnicity\", \"Variable2\": \"Hypertension\", \"Correlation\": 0.012848475167266525}, {\"Variable1\": \"EducationLevel\", \"Variable2\": \"Hypertension\", \"Correlation\": -0.01694969468996422}, {\"Variable1\": \"BMI\", \"Variable2\": \"Hypertension\", \"Correlation\": 0.004928478712898635}, {\"Variable1\": \"Smoking\", \"Variable2\": \"Hypertension\", \"Correlation\": -0.02112444550055341}, {\"Variable1\": \"AlcoholConsumption\", \"Variable2\": \"Hypertension\", \"Correlation\": -0.0060099697169182925}, {\"Variable1\": \"PhysicalActivity\", \"Variable2\": \"Hypertension\", \"Correlation\": 0.02208080818816513}, {\"Variable1\": \"DietQuality\", \"Variable2\": \"Hypertension\", \"Correlation\": -0.04362754736610677}, {\"Variable1\": \"SleepQuality\", \"Variable2\": \"Hypertension\", \"Correlation\": 0.03866770612990951}, {\"Variable1\": \"FamilyHistoryAlzheimers\", \"Variable2\": \"Hypertension\", \"Correlation\": 0.012920429517752536}, {\"Variable1\": \"CardiovascularDisease\", \"Variable2\": \"Hypertension\", \"Correlation\": -0.011760020022227095}, {\"Variable1\": \"Diabetes\", \"Variable2\": \"Hypertension\", \"Correlation\": -0.0008975282791548913}, {\"Variable1\": \"Depression\", \"Variable2\": \"Hypertension\", \"Correlation\": 0.03206076472397228}, {\"Variable1\": \"HeadInjury\", \"Variable2\": \"Hypertension\", \"Correlation\": -0.01637958375778219}, {\"Variable1\": \"Hypertension\", \"Variable2\": \"Hypertension\", \"Correlation\": 1.0}, {\"Variable1\": \"SystolicBP\", \"Variable2\": \"Hypertension\", \"Correlation\": -0.0008428126118546026}, {\"Variable1\": \"DiastolicBP\", \"Variable2\": \"Hypertension\", \"Correlation\": -0.04342434587221483}, {\"Variable1\": \"CholesterolTotal\", \"Variable2\": \"Hypertension\", \"Correlation\": -0.024492587243836607}, {\"Variable1\": \"CholesterolLDL\", \"Variable2\": \"Hypertension\", \"Correlation\": 0.0138918217916531}, {\"Variable1\": \"CholesterolHDL\", \"Variable2\": \"Hypertension\", \"Correlation\": -0.0042048328152812725}, {\"Variable1\": \"CholesterolTriglycerides\", \"Variable2\": \"Hypertension\", \"Correlation\": -0.01150380841443518}, {\"Variable1\": \"MMSE\", \"Variable2\": \"Hypertension\", \"Correlation\": 0.012078796062040612}, {\"Variable1\": \"FunctionalAssessment\", \"Variable2\": \"Hypertension\", \"Correlation\": -0.028331911421030694}, {\"Variable1\": \"MemoryComplaints\", \"Variable2\": \"Hypertension\", \"Correlation\": -0.02113020601332044}, {\"Variable1\": \"BehavioralProblems\", \"Variable2\": \"Hypertension\", \"Correlation\": 0.03169977959370146}, {\"Variable1\": \"ADL\", \"Variable2\": \"Hypertension\", \"Correlation\": -0.018601748595304876}, {\"Variable1\": \"Confusion\", \"Variable2\": \"Hypertension\", \"Correlation\": -0.008634493600611194}, {\"Variable1\": \"Disorientation\", \"Variable2\": \"Hypertension\", \"Correlation\": 0.03356749109437207}, {\"Variable1\": \"PersonalityChanges\", \"Variable2\": \"Hypertension\", \"Correlation\": -0.011856552551336344}, {\"Variable1\": \"DifficultyCompletingTasks\", \"Variable2\": \"Hypertension\", \"Correlation\": -0.0027800859741645284}, {\"Variable1\": \"Forgetfulness\", \"Variable2\": \"Hypertension\", \"Correlation\": 0.029931049389626062}, {\"Variable1\": \"Diagnosis\", \"Variable2\": \"Hypertension\", \"Correlation\": 0.03508003438192649}, {\"Variable1\": \"Age\", \"Variable2\": \"SystolicBP\", \"Correlation\": -0.0053244114799310144}, {\"Variable1\": \"Gender\", \"Variable2\": \"SystolicBP\", \"Correlation\": 0.011656985840053622}, {\"Variable1\": \"Ethnicity\", \"Variable2\": \"SystolicBP\", \"Correlation\": -0.027085831962057248}, {\"Variable1\": \"EducationLevel\", \"Variable2\": \"SystolicBP\", \"Correlation\": -0.016781853583301237}, {\"Variable1\": \"BMI\", \"Variable2\": \"SystolicBP\", \"Correlation\": -0.019274792971325158}, {\"Variable1\": \"Smoking\", \"Variable2\": \"SystolicBP\", \"Correlation\": -0.024116062113718858}, {\"Variable1\": \"AlcoholConsumption\", \"Variable2\": \"SystolicBP\", \"Correlation\": -0.03007011144765684}, {\"Variable1\": \"PhysicalActivity\", \"Variable2\": \"SystolicBP\", \"Correlation\": -0.004811294361500049}, {\"Variable1\": \"DietQuality\", \"Variable2\": \"SystolicBP\", \"Correlation\": 0.00603088527059284}, {\"Variable1\": \"SleepQuality\", \"Variable2\": \"SystolicBP\", \"Correlation\": -0.027886973782131484}, {\"Variable1\": \"FamilyHistoryAlzheimers\", \"Variable2\": \"SystolicBP\", \"Correlation\": 0.006463384658793618}, {\"Variable1\": \"CardiovascularDisease\", \"Variable2\": \"SystolicBP\", \"Correlation\": 0.013575435789445279}, {\"Variable1\": \"Diabetes\", \"Variable2\": \"SystolicBP\", \"Correlation\": -0.011518497557564608}, {\"Variable1\": \"Depression\", \"Variable2\": \"SystolicBP\", \"Correlation\": -0.018863742569359663}, {\"Variable1\": \"HeadInjury\", \"Variable2\": \"SystolicBP\", \"Correlation\": 8.105367113062598e-05}, {\"Variable1\": \"Hypertension\", \"Variable2\": \"SystolicBP\", \"Correlation\": -0.0008428126118546026}, {\"Variable1\": \"SystolicBP\", \"Variable2\": \"SystolicBP\", \"Correlation\": 1.0}, {\"Variable1\": \"DiastolicBP\", \"Variable2\": \"SystolicBP\", \"Correlation\": 0.0025898454087075183}, {\"Variable1\": \"CholesterolTotal\", \"Variable2\": \"SystolicBP\", \"Correlation\": 0.018536870010430303}, {\"Variable1\": \"CholesterolLDL\", \"Variable2\": \"SystolicBP\", \"Correlation\": -0.0072953829101750686}, {\"Variable1\": \"CholesterolHDL\", \"Variable2\": \"SystolicBP\", \"Correlation\": 0.0029469640009890286}, {\"Variable1\": \"CholesterolTriglycerides\", \"Variable2\": \"SystolicBP\", \"Correlation\": -0.03482444077026181}, {\"Variable1\": \"MMSE\", \"Variable2\": \"SystolicBP\", \"Correlation\": -0.0035483319786235607}, {\"Variable1\": \"FunctionalAssessment\", \"Variable2\": \"SystolicBP\", \"Correlation\": 0.013161004081827908}, {\"Variable1\": \"MemoryComplaints\", \"Variable2\": \"SystolicBP\", \"Correlation\": -0.009516871203886593}, {\"Variable1\": \"BehavioralProblems\", \"Variable2\": \"SystolicBP\", \"Correlation\": -0.012786862443957414}, {\"Variable1\": \"ADL\", \"Variable2\": \"SystolicBP\", \"Correlation\": 0.015447232813962328}, {\"Variable1\": \"Confusion\", \"Variable2\": \"SystolicBP\", \"Correlation\": 0.00840449654125659}, {\"Variable1\": \"Disorientation\", \"Variable2\": \"SystolicBP\", \"Correlation\": 0.03749964036697985}, {\"Variable1\": \"PersonalityChanges\", \"Variable2\": \"SystolicBP\", \"Correlation\": -0.012170146902387552}, {\"Variable1\": \"DifficultyCompletingTasks\", \"Variable2\": \"SystolicBP\", \"Correlation\": -0.0035977523072230773}, {\"Variable1\": \"Forgetfulness\", \"Variable2\": \"SystolicBP\", \"Correlation\": -0.011356724412601788}, {\"Variable1\": \"Diagnosis\", \"Variable2\": \"SystolicBP\", \"Correlation\": -0.015615231331618039}, {\"Variable1\": \"Age\", \"Variable2\": \"DiastolicBP\", \"Correlation\": -0.004461867618130596}, {\"Variable1\": \"Gender\", \"Variable2\": \"DiastolicBP\", \"Correlation\": -0.026059128730775545}, {\"Variable1\": \"Ethnicity\", \"Variable2\": \"DiastolicBP\", \"Correlation\": 0.01031002295372162}, {\"Variable1\": \"EducationLevel\", \"Variable2\": \"DiastolicBP\", \"Correlation\": -0.002553097103323166}, {\"Variable1\": \"BMI\", \"Variable2\": \"DiastolicBP\", \"Correlation\": -0.0025236817890122464}, {\"Variable1\": \"Smoking\", \"Variable2\": \"DiastolicBP\", \"Correlation\": -0.014111591420584713}, {\"Variable1\": \"AlcoholConsumption\", \"Variable2\": \"DiastolicBP\", \"Correlation\": -0.008909370837366296}, {\"Variable1\": \"PhysicalActivity\", \"Variable2\": \"DiastolicBP\", \"Correlation\": -0.010554925146355637}, {\"Variable1\": \"DietQuality\", \"Variable2\": \"DiastolicBP\", \"Correlation\": 0.009539388306427579}, {\"Variable1\": \"SleepQuality\", \"Variable2\": \"DiastolicBP\", \"Correlation\": 0.01079723562075617}, {\"Variable1\": \"FamilyHistoryAlzheimers\", \"Variable2\": \"DiastolicBP\", \"Correlation\": 0.006059967127693769}, {\"Variable1\": \"CardiovascularDisease\", \"Variable2\": \"DiastolicBP\", \"Correlation\": -0.04366183571275978}, {\"Variable1\": \"Diabetes\", \"Variable2\": \"DiastolicBP\", \"Correlation\": 0.003423424020525818}, {\"Variable1\": \"Depression\", \"Variable2\": \"DiastolicBP\", \"Correlation\": -0.02302094928646844}, {\"Variable1\": \"HeadInjury\", \"Variable2\": \"DiastolicBP\", \"Correlation\": 0.010430430999519066}, {\"Variable1\": \"Hypertension\", \"Variable2\": \"DiastolicBP\", \"Correlation\": -0.04342434587221483}, {\"Variable1\": \"SystolicBP\", \"Variable2\": \"DiastolicBP\", \"Correlation\": 0.0025898454087075183}, {\"Variable1\": \"DiastolicBP\", \"Variable2\": \"DiastolicBP\", \"Correlation\": 1.0}, {\"Variable1\": \"CholesterolTotal\", \"Variable2\": \"DiastolicBP\", \"Correlation\": 0.015249257671123567}, {\"Variable1\": \"CholesterolLDL\", \"Variable2\": \"DiastolicBP\", \"Correlation\": -0.01554219807006015}, {\"Variable1\": \"CholesterolHDL\", \"Variable2\": \"DiastolicBP\", \"Correlation\": 0.008180442869847749}, {\"Variable1\": \"CholesterolTriglycerides\", \"Variable2\": \"DiastolicBP\", \"Correlation\": -0.007928213451802179}, {\"Variable1\": \"MMSE\", \"Variable2\": \"DiastolicBP\", \"Correlation\": -0.028585990234308377}, {\"Variable1\": \"FunctionalAssessment\", \"Variable2\": \"DiastolicBP\", \"Correlation\": 0.031484539719414985}, {\"Variable1\": \"MemoryComplaints\", \"Variable2\": \"DiastolicBP\", \"Correlation\": -0.006126160395222681}, {\"Variable1\": \"BehavioralProblems\", \"Variable2\": \"DiastolicBP\", \"Correlation\": 0.016681850046074743}, {\"Variable1\": \"ADL\", \"Variable2\": \"DiastolicBP\", \"Correlation\": -0.004835912057959467}, {\"Variable1\": \"Confusion\", \"Variable2\": \"DiastolicBP\", \"Correlation\": -0.01656730748346296}, {\"Variable1\": \"Disorientation\", \"Variable2\": \"DiastolicBP\", \"Correlation\": -0.015098357722410133}, {\"Variable1\": \"PersonalityChanges\", \"Variable2\": \"DiastolicBP\", \"Correlation\": 0.0015010273237804938}, {\"Variable1\": \"DifficultyCompletingTasks\", \"Variable2\": \"DiastolicBP\", \"Correlation\": -0.026220459109564036}, {\"Variable1\": \"Forgetfulness\", \"Variable2\": \"DiastolicBP\", \"Correlation\": 0.005857315420006538}, {\"Variable1\": \"Diagnosis\", \"Variable2\": \"DiastolicBP\", \"Correlation\": 0.0052926798025988995}, {\"Variable1\": \"Age\", \"Variable2\": \"CholesterolTotal\", \"Correlation\": 0.00039191335825303377}, {\"Variable1\": \"Gender\", \"Variable2\": \"CholesterolTotal\", \"Correlation\": -0.00956775522420565}, {\"Variable1\": \"Ethnicity\", \"Variable2\": \"CholesterolTotal\", \"Correlation\": -0.0117572070092587}, {\"Variable1\": \"EducationLevel\", \"Variable2\": \"CholesterolTotal\", \"Correlation\": -0.04159791140703231}, {\"Variable1\": \"BMI\", \"Variable2\": \"CholesterolTotal\", \"Correlation\": 0.0010823138968188233}, {\"Variable1\": \"Smoking\", \"Variable2\": \"CholesterolTotal\", \"Correlation\": -0.010907471713295326}, {\"Variable1\": \"AlcoholConsumption\", \"Variable2\": \"CholesterolTotal\", \"Correlation\": -0.033944440875368576}, {\"Variable1\": \"PhysicalActivity\", \"Variable2\": \"CholesterolTotal\", \"Correlation\": 0.014334705136947349}, {\"Variable1\": \"DietQuality\", \"Variable2\": \"CholesterolTotal\", \"Correlation\": -0.016790419605758947}, {\"Variable1\": \"SleepQuality\", \"Variable2\": \"CholesterolTotal\", \"Correlation\": 0.0068794155682043185}, {\"Variable1\": \"FamilyHistoryAlzheimers\", \"Variable2\": \"CholesterolTotal\", \"Correlation\": 0.007054485513640053}, {\"Variable1\": \"CardiovascularDisease\", \"Variable2\": \"CholesterolTotal\", \"Correlation\": -0.007961295222544195}, {\"Variable1\": \"Diabetes\", \"Variable2\": \"CholesterolTotal\", \"Correlation\": 0.04876683097144767}, {\"Variable1\": \"Depression\", \"Variable2\": \"CholesterolTotal\", \"Correlation\": -0.010086747363861557}, {\"Variable1\": \"HeadInjury\", \"Variable2\": \"CholesterolTotal\", \"Correlation\": -0.021733752460078092}, {\"Variable1\": \"Hypertension\", \"Variable2\": \"CholesterolTotal\", \"Correlation\": -0.024492587243836607}, {\"Variable1\": \"SystolicBP\", \"Variable2\": \"CholesterolTotal\", \"Correlation\": 0.018536870010430303}, {\"Variable1\": \"DiastolicBP\", \"Variable2\": \"CholesterolTotal\", \"Correlation\": 0.015249257671123567}, {\"Variable1\": \"CholesterolTotal\", \"Variable2\": \"CholesterolTotal\", \"Correlation\": 1.0}, {\"Variable1\": \"CholesterolLDL\", \"Variable2\": \"CholesterolTotal\", \"Correlation\": 0.010335685794038079}, {\"Variable1\": \"CholesterolHDL\", \"Variable2\": \"CholesterolTotal\", \"Correlation\": 0.010116205934782452}, {\"Variable1\": \"CholesterolTriglycerides\", \"Variable2\": \"CholesterolTotal\", \"Correlation\": -0.001959256284419611}, {\"Variable1\": \"MMSE\", \"Variable2\": \"CholesterolTotal\", \"Correlation\": -0.013638029765721326}, {\"Variable1\": \"FunctionalAssessment\", \"Variable2\": \"CholesterolTotal\", \"Correlation\": -0.0053454594104813645}, {\"Variable1\": \"MemoryComplaints\", \"Variable2\": \"CholesterolTotal\", \"Correlation\": 0.013821202113878911}, {\"Variable1\": \"BehavioralProblems\", \"Variable2\": \"CholesterolTotal\", \"Correlation\": -0.006505421649848864}, {\"Variable1\": \"ADL\", \"Variable2\": \"CholesterolTotal\", \"Correlation\": 0.0007754817733604585}, {\"Variable1\": \"Confusion\", \"Variable2\": \"CholesterolTotal\", \"Correlation\": 0.03739044067560419}, {\"Variable1\": \"Disorientation\", \"Variable2\": \"CholesterolTotal\", \"Correlation\": 0.02531308327357053}, {\"Variable1\": \"PersonalityChanges\", \"Variable2\": \"CholesterolTotal\", \"Correlation\": -0.0174689842073185}, {\"Variable1\": \"DifficultyCompletingTasks\", \"Variable2\": \"CholesterolTotal\", \"Correlation\": -0.017936081270071853}, {\"Variable1\": \"Forgetfulness\", \"Variable2\": \"CholesterolTotal\", \"Correlation\": -0.02532610985624098}, {\"Variable1\": \"Diagnosis\", \"Variable2\": \"CholesterolTotal\", \"Correlation\": 0.00639446298384668}, {\"Variable1\": \"Age\", \"Variable2\": \"CholesterolLDL\", \"Correlation\": 0.0035878880985002774}, {\"Variable1\": \"Gender\", \"Variable2\": \"CholesterolLDL\", \"Correlation\": 0.01627144498543466}, {\"Variable1\": \"Ethnicity\", \"Variable2\": \"CholesterolLDL\", \"Correlation\": 0.007907114221931634}, {\"Variable1\": \"EducationLevel\", \"Variable2\": \"CholesterolLDL\", \"Correlation\": 0.050503673750811114}, {\"Variable1\": \"BMI\", \"Variable2\": \"CholesterolLDL\", \"Correlation\": 0.023684073949687502}, {\"Variable1\": \"Smoking\", \"Variable2\": \"CholesterolLDL\", \"Correlation\": -0.0073928627249534445}, {\"Variable1\": \"AlcoholConsumption\", \"Variable2\": \"CholesterolLDL\", \"Correlation\": -0.01704233205234264}, {\"Variable1\": \"PhysicalActivity\", \"Variable2\": \"CholesterolLDL\", \"Correlation\": 0.017788794403875725}, {\"Variable1\": \"DietQuality\", \"Variable2\": \"CholesterolLDL\", \"Correlation\": -0.02369752162310436}, {\"Variable1\": \"SleepQuality\", \"Variable2\": \"CholesterolLDL\", \"Correlation\": 0.006750975574533201}, {\"Variable1\": \"FamilyHistoryAlzheimers\", \"Variable2\": \"CholesterolLDL\", \"Correlation\": -0.011682279296331704}, {\"Variable1\": \"CardiovascularDisease\", \"Variable2\": \"CholesterolLDL\", \"Correlation\": 0.03860713247710385}, {\"Variable1\": \"Diabetes\", \"Variable2\": \"CholesterolLDL\", \"Correlation\": 0.014743718062126232}, {\"Variable1\": \"Depression\", \"Variable2\": \"CholesterolLDL\", \"Correlation\": -0.004795539470276187}, {\"Variable1\": \"HeadInjury\", \"Variable2\": \"CholesterolLDL\", \"Correlation\": 0.026806328384386777}, {\"Variable1\": \"Hypertension\", \"Variable2\": \"CholesterolLDL\", \"Correlation\": 0.0138918217916531}, {\"Variable1\": \"SystolicBP\", \"Variable2\": \"CholesterolLDL\", \"Correlation\": -0.0072953829101750686}, {\"Variable1\": \"DiastolicBP\", \"Variable2\": \"CholesterolLDL\", \"Correlation\": -0.01554219807006015}, {\"Variable1\": \"CholesterolTotal\", \"Variable2\": \"CholesterolLDL\", \"Correlation\": 0.010335685794038079}, {\"Variable1\": \"CholesterolLDL\", \"Variable2\": \"CholesterolLDL\", \"Correlation\": 1.0}, {\"Variable1\": \"CholesterolHDL\", \"Variable2\": \"CholesterolLDL\", \"Correlation\": -0.037148129412442374}, {\"Variable1\": \"CholesterolTriglycerides\", \"Variable2\": \"CholesterolLDL\", \"Correlation\": -0.005582057992223371}, {\"Variable1\": \"MMSE\", \"Variable2\": \"CholesterolLDL\", \"Correlation\": 0.025382646980814452}, {\"Variable1\": \"FunctionalAssessment\", \"Variable2\": \"CholesterolLDL\", \"Correlation\": -0.016214855175563387}, {\"Variable1\": \"MemoryComplaints\", \"Variable2\": \"CholesterolLDL\", \"Correlation\": -0.005737167675984051}, {\"Variable1\": \"BehavioralProblems\", \"Variable2\": \"CholesterolLDL\", \"Correlation\": -0.0029261246659766063}, {\"Variable1\": \"ADL\", \"Variable2\": \"CholesterolLDL\", \"Correlation\": -0.01937975926259946}, {\"Variable1\": \"Confusion\", \"Variable2\": \"CholesterolLDL\", \"Correlation\": 0.020628959691532476}, {\"Variable1\": \"Disorientation\", \"Variable2\": \"CholesterolLDL\", \"Correlation\": 0.027334695751482847}, {\"Variable1\": \"PersonalityChanges\", \"Variable2\": \"CholesterolLDL\", \"Correlation\": 0.016120032051683643}, {\"Variable1\": \"DifficultyCompletingTasks\", \"Variable2\": \"CholesterolLDL\", \"Correlation\": -0.011551994262783626}, {\"Variable1\": \"Forgetfulness\", \"Variable2\": \"CholesterolLDL\", \"Correlation\": -0.0005881425465522759}, {\"Variable1\": \"Diagnosis\", \"Variable2\": \"CholesterolLDL\", \"Correlation\": -0.03197582594293156}, {\"Variable1\": \"Age\", \"Variable2\": \"CholesterolHDL\", \"Correlation\": 0.006802863611082922}, {\"Variable1\": \"Gender\", \"Variable2\": \"CholesterolHDL\", \"Correlation\": -0.005846198728444937}, {\"Variable1\": \"Ethnicity\", \"Variable2\": \"CholesterolHDL\", \"Correlation\": -0.021828079604873346}, {\"Variable1\": \"EducationLevel\", \"Variable2\": \"CholesterolHDL\", \"Correlation\": -0.00812529103148051}, {\"Variable1\": \"BMI\", \"Variable2\": \"CholesterolHDL\", \"Correlation\": 0.03860469916091654}, {\"Variable1\": \"Smoking\", \"Variable2\": \"CholesterolHDL\", \"Correlation\": -0.02556685506900308}, {\"Variable1\": \"AlcoholConsumption\", \"Variable2\": \"CholesterolHDL\", \"Correlation\": -0.0019250445968104575}, {\"Variable1\": \"PhysicalActivity\", \"Variable2\": \"CholesterolHDL\", \"Correlation\": -0.001993015885279753}, {\"Variable1\": \"DietQuality\", \"Variable2\": \"CholesterolHDL\", \"Correlation\": -0.008659141691885053}, {\"Variable1\": \"SleepQuality\", \"Variable2\": \"CholesterolHDL\", \"Correlation\": 0.01545314994760347}, {\"Variable1\": \"FamilyHistoryAlzheimers\", \"Variable2\": \"CholesterolHDL\", \"Correlation\": -0.013580937576114522}, {\"Variable1\": \"CardiovascularDisease\", \"Variable2\": \"CholesterolHDL\", \"Correlation\": -0.017681057516958053}, {\"Variable1\": \"Diabetes\", \"Variable2\": \"CholesterolHDL\", \"Correlation\": 0.03853164991989017}, {\"Variable1\": \"Depression\", \"Variable2\": \"CholesterolHDL\", \"Correlation\": -0.008256393467913858}, {\"Variable1\": \"HeadInjury\", \"Variable2\": \"CholesterolHDL\", \"Correlation\": 0.0006846416444545966}, {\"Variable1\": \"Hypertension\", \"Variable2\": \"CholesterolHDL\", \"Correlation\": -0.0042048328152812725}, {\"Variable1\": \"SystolicBP\", \"Variable2\": \"CholesterolHDL\", \"Correlation\": 0.0029469640009890286}, {\"Variable1\": \"DiastolicBP\", \"Variable2\": \"CholesterolHDL\", \"Correlation\": 0.008180442869847749}, {\"Variable1\": \"CholesterolTotal\", \"Variable2\": \"CholesterolHDL\", \"Correlation\": 0.010116205934782452}, {\"Variable1\": \"CholesterolLDL\", \"Variable2\": \"CholesterolHDL\", \"Correlation\": -0.037148129412442374}, {\"Variable1\": \"CholesterolHDL\", \"Variable2\": \"CholesterolHDL\", \"Correlation\": 1.0}, {\"Variable1\": \"CholesterolTriglycerides\", \"Variable2\": \"CholesterolHDL\", \"Correlation\": 0.015234649390749758}, {\"Variable1\": \"MMSE\", \"Variable2\": \"CholesterolHDL\", \"Correlation\": -0.0052184211639362205}, {\"Variable1\": \"FunctionalAssessment\", \"Variable2\": \"CholesterolHDL\", \"Correlation\": -0.003449598570161639}, {\"Variable1\": \"MemoryComplaints\", \"Variable2\": \"CholesterolHDL\", \"Correlation\": 0.030898427889685075}, {\"Variable1\": \"BehavioralProblems\", \"Variable2\": \"CholesterolHDL\", \"Correlation\": 0.027170396061724167}, {\"Variable1\": \"ADL\", \"Variable2\": \"CholesterolHDL\", \"Correlation\": 0.0052523820516666726}, {\"Variable1\": \"Confusion\", \"Variable2\": \"CholesterolHDL\", \"Correlation\": -0.005253823968560843}, {\"Variable1\": \"Disorientation\", \"Variable2\": \"CholesterolHDL\", \"Correlation\": 0.021054229540610495}, {\"Variable1\": \"PersonalityChanges\", \"Variable2\": \"CholesterolHDL\", \"Correlation\": -0.01855309381564387}, {\"Variable1\": \"DifficultyCompletingTasks\", \"Variable2\": \"CholesterolHDL\", \"Correlation\": -0.056946778446518166}, {\"Variable1\": \"Forgetfulness\", \"Variable2\": \"CholesterolHDL\", \"Correlation\": -0.016662107839943256}, {\"Variable1\": \"Diagnosis\", \"Variable2\": \"CholesterolHDL\", \"Correlation\": 0.042584041328001386}, {\"Variable1\": \"Age\", \"Variable2\": \"CholesterolTriglycerides\", \"Correlation\": -0.0030619937854480966}, {\"Variable1\": \"Gender\", \"Variable2\": \"CholesterolTriglycerides\", \"Correlation\": -0.0124267753867129}, {\"Variable1\": \"Ethnicity\", \"Variable2\": \"CholesterolTriglycerides\", \"Correlation\": -0.007173437712651524}, {\"Variable1\": \"EducationLevel\", \"Variable2\": \"CholesterolTriglycerides\", \"Correlation\": -0.02576330744879212}, {\"Variable1\": \"BMI\", \"Variable2\": \"CholesterolTriglycerides\", \"Correlation\": -0.018000598504786396}, {\"Variable1\": \"Smoking\", \"Variable2\": \"CholesterolTriglycerides\", \"Correlation\": -0.021058150353882102}, {\"Variable1\": \"AlcoholConsumption\", \"Variable2\": \"CholesterolTriglycerides\", \"Correlation\": 0.023362286146895863}, {\"Variable1\": \"PhysicalActivity\", \"Variable2\": \"CholesterolTriglycerides\", \"Correlation\": 0.027416040579506504}, {\"Variable1\": \"DietQuality\", \"Variable2\": \"CholesterolTriglycerides\", \"Correlation\": 0.034733874682347794}, {\"Variable1\": \"SleepQuality\", \"Variable2\": \"CholesterolTriglycerides\", \"Correlation\": 0.024004193837721736}, {\"Variable1\": \"FamilyHistoryAlzheimers\", \"Variable2\": \"CholesterolTriglycerides\", \"Correlation\": 0.0010461910999012684}, {\"Variable1\": \"CardiovascularDisease\", \"Variable2\": \"CholesterolTriglycerides\", \"Correlation\": -0.0012640986614260294}, {\"Variable1\": \"Diabetes\", \"Variable2\": \"CholesterolTriglycerides\", \"Correlation\": -0.0449059878085971}, {\"Variable1\": \"Depression\", \"Variable2\": \"CholesterolTriglycerides\", \"Correlation\": 0.04318563076290848}, {\"Variable1\": \"HeadInjury\", \"Variable2\": \"CholesterolTriglycerides\", \"Correlation\": 0.016844847598574762}, {\"Variable1\": \"Hypertension\", \"Variable2\": \"CholesterolTriglycerides\", \"Correlation\": -0.01150380841443518}, {\"Variable1\": \"SystolicBP\", \"Variable2\": \"CholesterolTriglycerides\", \"Correlation\": -0.03482444077026181}, {\"Variable1\": \"DiastolicBP\", \"Variable2\": \"CholesterolTriglycerides\", \"Correlation\": -0.007928213451802179}, {\"Variable1\": \"CholesterolTotal\", \"Variable2\": \"CholesterolTriglycerides\", \"Correlation\": -0.001959256284419611}, {\"Variable1\": \"CholesterolLDL\", \"Variable2\": \"CholesterolTriglycerides\", \"Correlation\": -0.005582057992223371}, {\"Variable1\": \"CholesterolHDL\", \"Variable2\": \"CholesterolTriglycerides\", \"Correlation\": 0.015234649390749758}, {\"Variable1\": \"CholesterolTriglycerides\", \"Variable2\": \"CholesterolTriglycerides\", \"Correlation\": 1.0}, {\"Variable1\": \"MMSE\", \"Variable2\": \"CholesterolTriglycerides\", \"Correlation\": -0.007614640763685189}, {\"Variable1\": \"FunctionalAssessment\", \"Variable2\": \"CholesterolTriglycerides\", \"Correlation\": -0.009206851059024987}, {\"Variable1\": \"MemoryComplaints\", \"Variable2\": \"CholesterolTriglycerides\", \"Correlation\": -0.014484095680981366}, {\"Variable1\": \"BehavioralProblems\", \"Variable2\": \"CholesterolTriglycerides\", \"Correlation\": 0.010310072044869362}, {\"Variable1\": \"ADL\", \"Variable2\": \"CholesterolTriglycerides\", \"Correlation\": 0.02354585380505025}, {\"Variable1\": \"Confusion\", \"Variable2\": \"CholesterolTriglycerides\", \"Correlation\": -0.013630943516331541}, {\"Variable1\": \"Disorientation\", \"Variable2\": \"CholesterolTriglycerides\", \"Correlation\": -0.013221902806563417}, {\"Variable1\": \"PersonalityChanges\", \"Variable2\": \"CholesterolTriglycerides\", \"Correlation\": -0.01773335918354414}, {\"Variable1\": \"DifficultyCompletingTasks\", \"Variable2\": \"CholesterolTriglycerides\", \"Correlation\": -0.04189897822126419}, {\"Variable1\": \"Forgetfulness\", \"Variable2\": \"CholesterolTriglycerides\", \"Correlation\": 0.0035261047393676656}, {\"Variable1\": \"Diagnosis\", \"Variable2\": \"CholesterolTriglycerides\", \"Correlation\": 0.022671877013684238}, {\"Variable1\": \"Age\", \"Variable2\": \"MMSE\", \"Correlation\": -0.004234771200121256}, {\"Variable1\": \"Gender\", \"Variable2\": \"MMSE\", \"Correlation\": 0.025329890311331562}, {\"Variable1\": \"Ethnicity\", \"Variable2\": \"MMSE\", \"Correlation\": -0.012503896664434466}, {\"Variable1\": \"EducationLevel\", \"Variable2\": \"MMSE\", \"Correlation\": 0.02608992924664157}, {\"Variable1\": \"BMI\", \"Variable2\": \"MMSE\", \"Correlation\": -0.0034767068601193425}, {\"Variable1\": \"Smoking\", \"Variable2\": \"MMSE\", \"Correlation\": 0.0021388907930637705}, {\"Variable1\": \"AlcoholConsumption\", \"Variable2\": \"MMSE\", \"Correlation\": -0.011423989598521101}, {\"Variable1\": \"PhysicalActivity\", \"Variable2\": \"MMSE\", \"Correlation\": -0.008342257095075214}, {\"Variable1\": \"DietQuality\", \"Variable2\": \"MMSE\", \"Correlation\": 0.0216364080598454}, {\"Variable1\": \"SleepQuality\", \"Variable2\": \"MMSE\", \"Correlation\": 0.01250613530184643}, {\"Variable1\": \"FamilyHistoryAlzheimers\", \"Variable2\": \"MMSE\", \"Correlation\": 0.015574666836845507}, {\"Variable1\": \"CardiovascularDisease\", \"Variable2\": \"MMSE\", \"Correlation\": 0.02535063082001626}, {\"Variable1\": \"Diabetes\", \"Variable2\": \"MMSE\", \"Correlation\": -0.008905215493983822}, {\"Variable1\": \"Depression\", \"Variable2\": \"MMSE\", \"Correlation\": 0.014020468431138517}, {\"Variable1\": \"HeadInjury\", \"Variable2\": \"MMSE\", \"Correlation\": 0.006063236146772235}, {\"Variable1\": \"Hypertension\", \"Variable2\": \"MMSE\", \"Correlation\": 0.012078796062040612}, {\"Variable1\": \"SystolicBP\", \"Variable2\": \"MMSE\", \"Correlation\": -0.0035483319786235607}, {\"Variable1\": \"DiastolicBP\", \"Variable2\": \"MMSE\", \"Correlation\": -0.028585990234308377}, {\"Variable1\": \"CholesterolTotal\", \"Variable2\": \"MMSE\", \"Correlation\": -0.013638029765721326}, {\"Variable1\": \"CholesterolLDL\", \"Variable2\": \"MMSE\", \"Correlation\": 0.025382646980814452}, {\"Variable1\": \"CholesterolHDL\", \"Variable2\": \"MMSE\", \"Correlation\": -0.0052184211639362205}, {\"Variable1\": \"CholesterolTriglycerides\", \"Variable2\": \"MMSE\", \"Correlation\": -0.007614640763685189}, {\"Variable1\": \"MMSE\", \"Variable2\": \"MMSE\", \"Correlation\": 1.0}, {\"Variable1\": \"FunctionalAssessment\", \"Variable2\": \"MMSE\", \"Correlation\": 0.02493215445597607}, {\"Variable1\": \"MemoryComplaints\", \"Variable2\": \"MMSE\", \"Correlation\": 0.00765165145280744}, {\"Variable1\": \"BehavioralProblems\", \"Variable2\": \"MMSE\", \"Correlation\": 0.025408172196720234}, {\"Variable1\": \"ADL\", \"Variable2\": \"MMSE\", \"Correlation\": 0.003358908466890464}, {\"Variable1\": \"Confusion\", \"Variable2\": \"MMSE\", \"Correlation\": 0.0037627063055247567}, {\"Variable1\": \"Disorientation\", \"Variable2\": \"MMSE\", \"Correlation\": 0.0367150899676777}, {\"Variable1\": \"PersonalityChanges\", \"Variable2\": \"MMSE\", \"Correlation\": 0.03449159489856076}, {\"Variable1\": \"DifficultyCompletingTasks\", \"Variable2\": \"MMSE\", \"Correlation\": 0.0032937787329038516}, {\"Variable1\": \"Forgetfulness\", \"Variable2\": \"MMSE\", \"Correlation\": 0.011848284707492635}, {\"Variable1\": \"Diagnosis\", \"Variable2\": \"MMSE\", \"Correlation\": -0.2371256070735205}, {\"Variable1\": \"Age\", \"Variable2\": \"FunctionalAssessment\", \"Correlation\": 0.005507818902558747}, {\"Variable1\": \"Gender\", \"Variable2\": \"FunctionalAssessment\", \"Correlation\": 0.03332432172461723}, {\"Variable1\": \"Ethnicity\", \"Variable2\": \"FunctionalAssessment\", \"Correlation\": -0.00470378807226815}, {\"Variable1\": \"EducationLevel\", \"Variable2\": \"FunctionalAssessment\", \"Correlation\": 0.02026900161943213}, {\"Variable1\": \"BMI\", \"Variable2\": \"FunctionalAssessment\", \"Correlation\": -0.030500565926246913}, {\"Variable1\": \"Smoking\", \"Variable2\": \"FunctionalAssessment\", \"Correlation\": -0.03187873623104468}, {\"Variable1\": \"AlcoholConsumption\", \"Variable2\": \"FunctionalAssessment\", \"Correlation\": -0.016482803631539634}, {\"Variable1\": \"PhysicalActivity\", \"Variable2\": \"FunctionalAssessment\", \"Correlation\": -0.0024194984495427983}, {\"Variable1\": \"DietQuality\", \"Variable2\": \"FunctionalAssessment\", \"Correlation\": -0.009699872679285657}, {\"Variable1\": \"SleepQuality\", \"Variable2\": \"FunctionalAssessment\", \"Correlation\": 0.02958866260080411}, {\"Variable1\": \"FamilyHistoryAlzheimers\", \"Variable2\": \"FunctionalAssessment\", \"Correlation\": -0.004650068428926303}, {\"Variable1\": \"CardiovascularDisease\", \"Variable2\": \"FunctionalAssessment\", \"Correlation\": -0.041270195405801936}, {\"Variable1\": \"Diabetes\", \"Variable2\": \"FunctionalAssessment\", \"Correlation\": 0.043548441576230806}, {\"Variable1\": \"Depression\", \"Variable2\": \"FunctionalAssessment\", \"Correlation\": 0.019733268349414666}, {\"Variable1\": \"HeadInjury\", \"Variable2\": \"FunctionalAssessment\", \"Correlation\": 0.03465476217673443}, {\"Variable1\": \"Hypertension\", \"Variable2\": \"FunctionalAssessment\", \"Correlation\": -0.028331911421030694}, {\"Variable1\": \"SystolicBP\", \"Variable2\": \"FunctionalAssessment\", \"Correlation\": 0.013161004081827908}, {\"Variable1\": \"DiastolicBP\", \"Variable2\": \"FunctionalAssessment\", \"Correlation\": 0.031484539719414985}, {\"Variable1\": \"CholesterolTotal\", \"Variable2\": \"FunctionalAssessment\", \"Correlation\": -0.0053454594104813645}, {\"Variable1\": \"CholesterolLDL\", \"Variable2\": \"FunctionalAssessment\", \"Correlation\": -0.016214855175563387}, {\"Variable1\": \"CholesterolHDL\", \"Variable2\": \"FunctionalAssessment\", \"Correlation\": -0.003449598570161639}, {\"Variable1\": \"CholesterolTriglycerides\", \"Variable2\": \"FunctionalAssessment\", \"Correlation\": -0.009206851059024987}, {\"Variable1\": \"MMSE\", \"Variable2\": \"FunctionalAssessment\", \"Correlation\": 0.02493215445597607}, {\"Variable1\": \"FunctionalAssessment\", \"Variable2\": \"FunctionalAssessment\", \"Correlation\": 1.0}, {\"Variable1\": \"MemoryComplaints\", \"Variable2\": \"FunctionalAssessment\", \"Correlation\": 0.002320469910391885}, {\"Variable1\": \"BehavioralProblems\", \"Variable2\": \"FunctionalAssessment\", \"Correlation\": -0.021940938896560618}, {\"Variable1\": \"ADL\", \"Variable2\": \"FunctionalAssessment\", \"Correlation\": 0.053904258625624535}, {\"Variable1\": \"Confusion\", \"Variable2\": \"FunctionalAssessment\", \"Correlation\": -0.023118272270128117}, {\"Variable1\": \"Disorientation\", \"Variable2\": \"FunctionalAssessment\", \"Correlation\": -0.007192643098325585}, {\"Variable1\": \"PersonalityChanges\", \"Variable2\": \"FunctionalAssessment\", \"Correlation\": 0.02426044189764813}, {\"Variable1\": \"DifficultyCompletingTasks\", \"Variable2\": \"FunctionalAssessment\", \"Correlation\": 0.019804903963268543}, {\"Variable1\": \"Forgetfulness\", \"Variable2\": \"FunctionalAssessment\", \"Correlation\": 0.019387240126358337}, {\"Variable1\": \"Diagnosis\", \"Variable2\": \"FunctionalAssessment\", \"Correlation\": -0.36489830657691513}, {\"Variable1\": \"Age\", \"Variable2\": \"MemoryComplaints\", \"Correlation\": 0.012343325585083248}, {\"Variable1\": \"Gender\", \"Variable2\": \"MemoryComplaints\", \"Correlation\": 0.003879879123415987}, {\"Variable1\": \"Ethnicity\", \"Variable2\": \"MemoryComplaints\", \"Correlation\": 0.0036866401901921447}, {\"Variable1\": \"EducationLevel\", \"Variable2\": \"MemoryComplaints\", \"Correlation\": -0.00016518388371831725}, {\"Variable1\": \"BMI\", \"Variable2\": \"MemoryComplaints\", \"Correlation\": 0.0292928999820944}, {\"Variable1\": \"Smoking\", \"Variable2\": \"MemoryComplaints\", \"Correlation\": 0.02033923649542662}, {\"Variable1\": \"AlcoholConsumption\", \"Variable2\": \"MemoryComplaints\", \"Correlation\": -0.029418495321847857}, {\"Variable1\": \"PhysicalActivity\", \"Variable2\": \"MemoryComplaints\", \"Correlation\": 0.008709341401174785}, {\"Variable1\": \"DietQuality\", \"Variable2\": \"MemoryComplaints\", \"Correlation\": 0.012537455703595947}, {\"Variable1\": \"SleepQuality\", \"Variable2\": \"MemoryComplaints\", \"Correlation\": -0.016806812160640044}, {\"Variable1\": \"FamilyHistoryAlzheimers\", \"Variable2\": \"MemoryComplaints\", \"Correlation\": -0.028347803207418042}, {\"Variable1\": \"CardiovascularDisease\", \"Variable2\": \"MemoryComplaints\", \"Correlation\": 0.03106100217692672}, {\"Variable1\": \"Diabetes\", \"Variable2\": \"MemoryComplaints\", \"Correlation\": -0.017280088286547007}, {\"Variable1\": \"Depression\", \"Variable2\": \"MemoryComplaints\", \"Correlation\": -0.019039190290674315}, {\"Variable1\": \"HeadInjury\", \"Variable2\": \"MemoryComplaints\", \"Correlation\": -0.021328905965830473}, {\"Variable1\": \"Hypertension\", \"Variable2\": \"MemoryComplaints\", \"Correlation\": -0.02113020601332044}, {\"Variable1\": \"SystolicBP\", \"Variable2\": \"MemoryComplaints\", \"Correlation\": -0.009516871203886593}, {\"Variable1\": \"DiastolicBP\", \"Variable2\": \"MemoryComplaints\", \"Correlation\": -0.006126160395222681}, {\"Variable1\": \"CholesterolTotal\", \"Variable2\": \"MemoryComplaints\", \"Correlation\": 0.013821202113878911}, {\"Variable1\": \"CholesterolLDL\", \"Variable2\": \"MemoryComplaints\", \"Correlation\": -0.005737167675984051}, {\"Variable1\": \"CholesterolHDL\", \"Variable2\": \"MemoryComplaints\", \"Correlation\": 0.030898427889685075}, {\"Variable1\": \"CholesterolTriglycerides\", \"Variable2\": \"MemoryComplaints\", \"Correlation\": -0.014484095680981366}, {\"Variable1\": \"MMSE\", \"Variable2\": \"MemoryComplaints\", \"Correlation\": 0.00765165145280744}, {\"Variable1\": \"FunctionalAssessment\", \"Variable2\": \"MemoryComplaints\", \"Correlation\": 0.002320469910391885}, {\"Variable1\": \"MemoryComplaints\", \"Variable2\": \"MemoryComplaints\", \"Correlation\": 1.0}, {\"Variable1\": \"BehavioralProblems\", \"Variable2\": \"MemoryComplaints\", \"Correlation\": -0.009765303079089006}, {\"Variable1\": \"ADL\", \"Variable2\": \"MemoryComplaints\", \"Correlation\": -0.037510562665414506}, {\"Variable1\": \"Confusion\", \"Variable2\": \"MemoryComplaints\", \"Correlation\": -0.007748993405344937}, {\"Variable1\": \"Disorientation\", \"Variable2\": \"MemoryComplaints\", \"Correlation\": 0.013441862611318543}, {\"Variable1\": \"PersonalityChanges\", \"Variable2\": \"MemoryComplaints\", \"Correlation\": -0.03009627801140953}, {\"Variable1\": \"DifficultyCompletingTasks\", \"Variable2\": \"MemoryComplaints\", \"Correlation\": 0.04415126189042178}, {\"Variable1\": \"Forgetfulness\", \"Variable2\": \"MemoryComplaints\", \"Correlation\": -0.006960980275817329}, {\"Variable1\": \"Diagnosis\", \"Variable2\": \"MemoryComplaints\", \"Correlation\": 0.30674239370561934}, {\"Variable1\": \"Age\", \"Variable2\": \"BehavioralProblems\", \"Correlation\": 0.03897344552198197}, {\"Variable1\": \"Gender\", \"Variable2\": \"BehavioralProblems\", \"Correlation\": 0.006099420696923671}, {\"Variable1\": \"Ethnicity\", \"Variable2\": \"BehavioralProblems\", \"Correlation\": -0.019363000521973192}, {\"Variable1\": \"EducationLevel\", \"Variable2\": \"BehavioralProblems\", \"Correlation\": 0.010472623748453513}, {\"Variable1\": \"BMI\", \"Variable2\": \"BehavioralProblems\", \"Correlation\": 0.03527588105277423}, {\"Variable1\": \"Smoking\", \"Variable2\": \"BehavioralProblems\", \"Correlation\": -0.014762620658280833}, {\"Variable1\": \"AlcoholConsumption\", \"Variable2\": \"BehavioralProblems\", \"Correlation\": 0.013656963004512142}, {\"Variable1\": \"PhysicalActivity\", \"Variable2\": \"BehavioralProblems\", \"Correlation\": -0.01425322143141797}, {\"Variable1\": \"DietQuality\", \"Variable2\": \"BehavioralProblems\", \"Correlation\": -0.014032506301086732}, {\"Variable1\": \"SleepQuality\", \"Variable2\": \"BehavioralProblems\", \"Correlation\": -0.019899327289595023}, {\"Variable1\": \"FamilyHistoryAlzheimers\", \"Variable2\": \"BehavioralProblems\", \"Correlation\": -0.0235584552024697}, {\"Variable1\": \"CardiovascularDisease\", \"Variable2\": \"BehavioralProblems\", \"Correlation\": -0.016802857950516056}, {\"Variable1\": \"Diabetes\", \"Variable2\": \"BehavioralProblems\", \"Correlation\": -0.027926714861164947}, {\"Variable1\": \"Depression\", \"Variable2\": \"BehavioralProblems\", \"Correlation\": 0.0013161306672381087}, {\"Variable1\": \"HeadInjury\", \"Variable2\": \"BehavioralProblems\", \"Correlation\": 0.04764929571194906}, {\"Variable1\": \"Hypertension\", \"Variable2\": \"BehavioralProblems\", \"Correlation\": 0.03169977959370146}, {\"Variable1\": \"SystolicBP\", \"Variable2\": \"BehavioralProblems\", \"Correlation\": -0.012786862443957414}, {\"Variable1\": \"DiastolicBP\", \"Variable2\": \"BehavioralProblems\", \"Correlation\": 0.016681850046074743}, {\"Variable1\": \"CholesterolTotal\", \"Variable2\": \"BehavioralProblems\", \"Correlation\": -0.006505421649848864}, {\"Variable1\": \"CholesterolLDL\", \"Variable2\": \"BehavioralProblems\", \"Correlation\": -0.0029261246659766063}, {\"Variable1\": \"CholesterolHDL\", \"Variable2\": \"BehavioralProblems\", \"Correlation\": 0.027170396061724167}, {\"Variable1\": \"CholesterolTriglycerides\", \"Variable2\": \"BehavioralProblems\", \"Correlation\": 0.010310072044869362}, {\"Variable1\": \"MMSE\", \"Variable2\": \"BehavioralProblems\", \"Correlation\": 0.025408172196720234}, {\"Variable1\": \"FunctionalAssessment\", \"Variable2\": \"BehavioralProblems\", \"Correlation\": -0.021940938896560618}, {\"Variable1\": \"MemoryComplaints\", \"Variable2\": \"BehavioralProblems\", \"Correlation\": -0.009765303079089006}, {\"Variable1\": \"BehavioralProblems\", \"Variable2\": \"BehavioralProblems\", \"Correlation\": 1.0}, {\"Variable1\": \"ADL\", \"Variable2\": \"BehavioralProblems\", \"Correlation\": 0.0433755775793664}, {\"Variable1\": \"Confusion\", \"Variable2\": \"BehavioralProblems\", \"Correlation\": -0.022676228361728102}, {\"Variable1\": \"Disorientation\", \"Variable2\": \"BehavioralProblems\", \"Correlation\": -0.02215394274322239}, {\"Variable1\": \"PersonalityChanges\", \"Variable2\": \"BehavioralProblems\", \"Correlation\": -0.0028923562617665494}, {\"Variable1\": \"DifficultyCompletingTasks\", \"Variable2\": \"BehavioralProblems\", \"Correlation\": -0.01917438670308625}, {\"Variable1\": \"Forgetfulness\", \"Variable2\": \"BehavioralProblems\", \"Correlation\": 0.023374281082088815}, {\"Variable1\": \"Diagnosis\", \"Variable2\": \"BehavioralProblems\", \"Correlation\": 0.22435040084778998}, {\"Variable1\": \"Age\", \"Variable2\": \"ADL\", \"Correlation\": -0.038657555208668606}, {\"Variable1\": \"Gender\", \"Variable2\": \"ADL\", \"Correlation\": 0.0038651258588455356}, {\"Variable1\": \"Ethnicity\", \"Variable2\": \"ADL\", \"Correlation\": 0.010474968765271262}, {\"Variable1\": \"EducationLevel\", \"Variable2\": \"ADL\", \"Correlation\": 0.03193434578483828}, {\"Variable1\": \"BMI\", \"Variable2\": \"ADL\", \"Correlation\": -0.009788457116494202}, {\"Variable1\": \"Smoking\", \"Variable2\": \"ADL\", \"Correlation\": -0.029232601017613744}, {\"Variable1\": \"AlcoholConsumption\", \"Variable2\": \"ADL\", \"Correlation\": -0.008250355341974491}, {\"Variable1\": \"PhysicalActivity\", \"Variable2\": \"ADL\", \"Correlation\": -0.013323550722680733}, {\"Variable1\": \"DietQuality\", \"Variable2\": \"ADL\", \"Correlation\": -0.007888480119055281}, {\"Variable1\": \"SleepQuality\", \"Variable2\": \"ADL\", \"Correlation\": 0.01453468571030375}, {\"Variable1\": \"FamilyHistoryAlzheimers\", \"Variable2\": \"ADL\", \"Correlation\": 0.01404142570885478}, {\"Variable1\": \"CardiovascularDisease\", \"Variable2\": \"ADL\", \"Correlation\": -0.012918216196968662}, {\"Variable1\": \"Diabetes\", \"Variable2\": \"ADL\", \"Correlation\": 0.02223490250236085}, {\"Variable1\": \"Depression\", \"Variable2\": \"ADL\", \"Correlation\": 0.006195310558744558}, {\"Variable1\": \"HeadInjury\", \"Variable2\": \"ADL\", \"Correlation\": -0.01666884679628031}, {\"Variable1\": \"Hypertension\", \"Variable2\": \"ADL\", \"Correlation\": -0.018601748595304876}, {\"Variable1\": \"SystolicBP\", \"Variable2\": \"ADL\", \"Correlation\": 0.015447232813962328}, {\"Variable1\": \"DiastolicBP\", \"Variable2\": \"ADL\", \"Correlation\": -0.004835912057959467}, {\"Variable1\": \"CholesterolTotal\", \"Variable2\": \"ADL\", \"Correlation\": 0.0007754817733604585}, {\"Variable1\": \"CholesterolLDL\", \"Variable2\": \"ADL\", \"Correlation\": -0.01937975926259946}, {\"Variable1\": \"CholesterolHDL\", \"Variable2\": \"ADL\", \"Correlation\": 0.0052523820516666726}, {\"Variable1\": \"CholesterolTriglycerides\", \"Variable2\": \"ADL\", \"Correlation\": 0.02354585380505025}, {\"Variable1\": \"MMSE\", \"Variable2\": \"ADL\", \"Correlation\": 0.003358908466890464}, {\"Variable1\": \"FunctionalAssessment\", \"Variable2\": \"ADL\", \"Correlation\": 0.053904258625624535}, {\"Variable1\": \"MemoryComplaints\", \"Variable2\": \"ADL\", \"Correlation\": -0.037510562665414506}, {\"Variable1\": \"BehavioralProblems\", \"Variable2\": \"ADL\", \"Correlation\": 0.0433755775793664}, {\"Variable1\": \"ADL\", \"Variable2\": \"ADL\", \"Correlation\": 1.0}, {\"Variable1\": \"Confusion\", \"Variable2\": \"ADL\", \"Correlation\": 0.01237328809571973}, {\"Variable1\": \"Disorientation\", \"Variable2\": \"ADL\", \"Correlation\": 0.0022555925183163532}, {\"Variable1\": \"PersonalityChanges\", \"Variable2\": \"ADL\", \"Correlation\": -0.01612783517465807}, {\"Variable1\": \"DifficultyCompletingTasks\", \"Variable2\": \"ADL\", \"Correlation\": -0.025645636786790982}, {\"Variable1\": \"Forgetfulness\", \"Variable2\": \"ADL\", \"Correlation\": -0.00259457364075555}, {\"Variable1\": \"Diagnosis\", \"Variable2\": \"ADL\", \"Correlation\": -0.33234591625477783}, {\"Variable1\": \"Age\", \"Variable2\": \"Confusion\", \"Correlation\": 0.009001969737011395}, {\"Variable1\": \"Gender\", \"Variable2\": \"Confusion\", \"Correlation\": -0.03058325438699525}, {\"Variable1\": \"Ethnicity\", \"Variable2\": \"Confusion\", \"Correlation\": 0.02243093408025774}, {\"Variable1\": \"EducationLevel\", \"Variable2\": \"Confusion\", \"Correlation\": -0.008167762239294527}, {\"Variable1\": \"BMI\", \"Variable2\": \"Confusion\", \"Correlation\": -0.01585909614957977}, {\"Variable1\": \"Smoking\", \"Variable2\": \"Confusion\", \"Correlation\": 0.004498161605034091}, {\"Variable1\": \"AlcoholConsumption\", \"Variable2\": \"Confusion\", \"Correlation\": -0.03279816124249221}, {\"Variable1\": \"PhysicalActivity\", \"Variable2\": \"Confusion\", \"Correlation\": -0.009397329696061168}, {\"Variable1\": \"DietQuality\", \"Variable2\": \"Confusion\", \"Correlation\": 0.0026283029692712005}, {\"Variable1\": \"SleepQuality\", \"Variable2\": \"Confusion\", \"Correlation\": 0.013508295449324092}, {\"Variable1\": \"FamilyHistoryAlzheimers\", \"Variable2\": \"Confusion\", \"Correlation\": 0.017975896770663156}, {\"Variable1\": \"CardiovascularDisease\", \"Variable2\": \"Confusion\", \"Correlation\": 0.01765777400446748}, {\"Variable1\": \"Diabetes\", \"Variable2\": \"Confusion\", \"Correlation\": -0.004793437539158655}, {\"Variable1\": \"Depression\", \"Variable2\": \"Confusion\", \"Correlation\": 0.0015934319414602925}, {\"Variable1\": \"HeadInjury\", \"Variable2\": \"Confusion\", \"Correlation\": -0.031152047130002674}, {\"Variable1\": \"Hypertension\", \"Variable2\": \"Confusion\", \"Correlation\": -0.008634493600611194}, {\"Variable1\": \"SystolicBP\", \"Variable2\": \"Confusion\", \"Correlation\": 0.00840449654125659}, {\"Variable1\": \"DiastolicBP\", \"Variable2\": \"Confusion\", \"Correlation\": -0.01656730748346296}, {\"Variable1\": \"CholesterolTotal\", \"Variable2\": \"Confusion\", \"Correlation\": 0.03739044067560419}, {\"Variable1\": \"CholesterolLDL\", \"Variable2\": \"Confusion\", \"Correlation\": 0.020628959691532476}, {\"Variable1\": \"CholesterolHDL\", \"Variable2\": \"Confusion\", \"Correlation\": -0.005253823968560843}, {\"Variable1\": \"CholesterolTriglycerides\", \"Variable2\": \"Confusion\", \"Correlation\": -0.013630943516331541}, {\"Variable1\": \"MMSE\", \"Variable2\": \"Confusion\", \"Correlation\": 0.0037627063055247567}, {\"Variable1\": \"FunctionalAssessment\", \"Variable2\": \"Confusion\", \"Correlation\": -0.023118272270128117}, {\"Variable1\": \"MemoryComplaints\", \"Variable2\": \"Confusion\", \"Correlation\": -0.007748993405344937}, {\"Variable1\": \"BehavioralProblems\", \"Variable2\": \"Confusion\", \"Correlation\": -0.022676228361728102}, {\"Variable1\": \"ADL\", \"Variable2\": \"Confusion\", \"Correlation\": 0.01237328809571973}, {\"Variable1\": \"Confusion\", \"Variable2\": \"Confusion\", \"Correlation\": 1.0}, {\"Variable1\": \"Disorientation\", \"Variable2\": \"Confusion\", \"Correlation\": 0.007034482796619723}, {\"Variable1\": \"PersonalityChanges\", \"Variable2\": \"Confusion\", \"Correlation\": -0.0015733383607741663}, {\"Variable1\": \"DifficultyCompletingTasks\", \"Variable2\": \"Confusion\", \"Correlation\": -0.022002796194452008}, {\"Variable1\": \"Forgetfulness\", \"Variable2\": \"Confusion\", \"Correlation\": 0.01010005923022753}, {\"Variable1\": \"Diagnosis\", \"Variable2\": \"Confusion\", \"Correlation\": -0.01918571967575}, {\"Variable1\": \"Age\", \"Variable2\": \"Disorientation\", \"Correlation\": 0.027522985902951456}, {\"Variable1\": \"Gender\", \"Variable2\": \"Disorientation\", \"Correlation\": 0.017506147422747573}, {\"Variable1\": \"Ethnicity\", \"Variable2\": \"Disorientation\", \"Correlation\": -0.018131579915501524}, {\"Variable1\": \"EducationLevel\", \"Variable2\": \"Disorientation\", \"Correlation\": -0.01756766003353075}, {\"Variable1\": \"BMI\", \"Variable2\": \"Disorientation\", \"Correlation\": -0.031840142898545504}, {\"Variable1\": \"Smoking\", \"Variable2\": \"Disorientation\", \"Correlation\": -0.02840280127293289}, {\"Variable1\": \"AlcoholConsumption\", \"Variable2\": \"Disorientation\", \"Correlation\": 0.015521374576489335}, {\"Variable1\": \"PhysicalActivity\", \"Variable2\": \"Disorientation\", \"Correlation\": -0.020407449506840078}, {\"Variable1\": \"DietQuality\", \"Variable2\": \"Disorientation\", \"Correlation\": -0.026271271442435684}, {\"Variable1\": \"SleepQuality\", \"Variable2\": \"Disorientation\", \"Correlation\": 0.019466528800466044}, {\"Variable1\": \"FamilyHistoryAlzheimers\", \"Variable2\": \"Disorientation\", \"Correlation\": 0.03596272244340196}, {\"Variable1\": \"CardiovascularDisease\", \"Variable2\": \"Disorientation\", \"Correlation\": 0.025236923159800834}, {\"Variable1\": \"Diabetes\", \"Variable2\": \"Disorientation\", \"Correlation\": -0.004493726218964731}, {\"Variable1\": \"Depression\", \"Variable2\": \"Disorientation\", \"Correlation\": 0.005764221282078414}, {\"Variable1\": \"HeadInjury\", \"Variable2\": \"Disorientation\", \"Correlation\": 0.03305954189683301}, {\"Variable1\": \"Hypertension\", \"Variable2\": \"Disorientation\", \"Correlation\": 0.03356749109437207}, {\"Variable1\": \"SystolicBP\", \"Variable2\": \"Disorientation\", \"Correlation\": 0.03749964036697985}, {\"Variable1\": \"DiastolicBP\", \"Variable2\": \"Disorientation\", \"Correlation\": -0.015098357722410133}, {\"Variable1\": \"CholesterolTotal\", \"Variable2\": \"Disorientation\", \"Correlation\": 0.02531308327357053}, {\"Variable1\": \"CholesterolLDL\", \"Variable2\": \"Disorientation\", \"Correlation\": 0.027334695751482847}, {\"Variable1\": \"CholesterolHDL\", \"Variable2\": \"Disorientation\", \"Correlation\": 0.021054229540610495}, {\"Variable1\": \"CholesterolTriglycerides\", \"Variable2\": \"Disorientation\", \"Correlation\": -0.013221902806563417}, {\"Variable1\": \"MMSE\", \"Variable2\": \"Disorientation\", \"Correlation\": 0.0367150899676777}, {\"Variable1\": \"FunctionalAssessment\", \"Variable2\": \"Disorientation\", \"Correlation\": -0.007192643098325585}, {\"Variable1\": \"MemoryComplaints\", \"Variable2\": \"Disorientation\", \"Correlation\": 0.013441862611318543}, {\"Variable1\": \"BehavioralProblems\", \"Variable2\": \"Disorientation\", \"Correlation\": -0.02215394274322239}, {\"Variable1\": \"ADL\", \"Variable2\": \"Disorientation\", \"Correlation\": 0.0022555925183163532}, {\"Variable1\": \"Confusion\", \"Variable2\": \"Disorientation\", \"Correlation\": 0.007034482796619723}, {\"Variable1\": \"Disorientation\", \"Variable2\": \"Disorientation\", \"Correlation\": 1.0}, {\"Variable1\": \"PersonalityChanges\", \"Variable2\": \"Disorientation\", \"Correlation\": -0.022311101946926173}, {\"Variable1\": \"DifficultyCompletingTasks\", \"Variable2\": \"Disorientation\", \"Correlation\": -0.02076669971509849}, {\"Variable1\": \"Forgetfulness\", \"Variable2\": \"Disorientation\", \"Correlation\": -0.03201338437884781}, {\"Variable1\": \"Diagnosis\", \"Variable2\": \"Disorientation\", \"Correlation\": -0.024648156933488655}, {\"Variable1\": \"Age\", \"Variable2\": \"PersonalityChanges\", \"Correlation\": -0.009469633122223426}, {\"Variable1\": \"Gender\", \"Variable2\": \"PersonalityChanges\", \"Correlation\": 0.02591920754172938}, {\"Variable1\": \"Ethnicity\", \"Variable2\": \"PersonalityChanges\", \"Correlation\": -0.030034991214554635}, {\"Variable1\": \"EducationLevel\", \"Variable2\": \"PersonalityChanges\", \"Correlation\": -0.019950092859560686}, {\"Variable1\": \"BMI\", \"Variable2\": \"PersonalityChanges\", \"Correlation\": -0.015900976327826572}, {\"Variable1\": \"Smoking\", \"Variable2\": \"PersonalityChanges\", \"Correlation\": -0.0099773929048804}, {\"Variable1\": \"AlcoholConsumption\", \"Variable2\": \"PersonalityChanges\", \"Correlation\": 0.01911683852474033}, {\"Variable1\": \"PhysicalActivity\", \"Variable2\": \"PersonalityChanges\", \"Correlation\": -0.013629408453667315}, {\"Variable1\": \"DietQuality\", \"Variable2\": \"PersonalityChanges\", \"Correlation\": 0.029086947356865653}, {\"Variable1\": \"SleepQuality\", \"Variable2\": \"PersonalityChanges\", \"Correlation\": -0.01689240305338289}, {\"Variable1\": \"FamilyHistoryAlzheimers\", \"Variable2\": \"PersonalityChanges\", \"Correlation\": 0.0068390067583300905}, {\"Variable1\": \"CardiovascularDisease\", \"Variable2\": \"PersonalityChanges\", \"Correlation\": -0.032342507213817345}, {\"Variable1\": \"Diabetes\", \"Variable2\": \"PersonalityChanges\", \"Correlation\": 0.0041840013529511255}, {\"Variable1\": \"Depression\", \"Variable2\": \"PersonalityChanges\", \"Correlation\": 0.026043942850688968}, {\"Variable1\": \"HeadInjury\", \"Variable2\": \"PersonalityChanges\", \"Correlation\": -0.03141664891824186}, {\"Variable1\": \"Hypertension\", \"Variable2\": \"PersonalityChanges\", \"Correlation\": -0.011856552551336344}, {\"Variable1\": \"SystolicBP\", \"Variable2\": \"PersonalityChanges\", \"Correlation\": -0.012170146902387552}, {\"Variable1\": \"DiastolicBP\", \"Variable2\": \"PersonalityChanges\", \"Correlation\": 0.0015010273237804938}, {\"Variable1\": \"CholesterolTotal\", \"Variable2\": \"PersonalityChanges\", \"Correlation\": -0.0174689842073185}, {\"Variable1\": \"CholesterolLDL\", \"Variable2\": \"PersonalityChanges\", \"Correlation\": 0.016120032051683643}, {\"Variable1\": \"CholesterolHDL\", \"Variable2\": \"PersonalityChanges\", \"Correlation\": -0.01855309381564387}, {\"Variable1\": \"CholesterolTriglycerides\", \"Variable2\": \"PersonalityChanges\", \"Correlation\": -0.01773335918354414}, {\"Variable1\": \"MMSE\", \"Variable2\": \"PersonalityChanges\", \"Correlation\": 0.03449159489856076}, {\"Variable1\": \"FunctionalAssessment\", \"Variable2\": \"PersonalityChanges\", \"Correlation\": 0.02426044189764813}, {\"Variable1\": \"MemoryComplaints\", \"Variable2\": \"PersonalityChanges\", \"Correlation\": -0.03009627801140953}, {\"Variable1\": \"BehavioralProblems\", \"Variable2\": \"PersonalityChanges\", \"Correlation\": -0.0028923562617665494}, {\"Variable1\": \"ADL\", \"Variable2\": \"PersonalityChanges\", \"Correlation\": -0.01612783517465807}, {\"Variable1\": \"Confusion\", \"Variable2\": \"PersonalityChanges\", \"Correlation\": -0.0015733383607741663}, {\"Variable1\": \"Disorientation\", \"Variable2\": \"PersonalityChanges\", \"Correlation\": -0.022311101946926173}, {\"Variable1\": \"PersonalityChanges\", \"Variable2\": \"PersonalityChanges\", \"Correlation\": 1.0}, {\"Variable1\": \"DifficultyCompletingTasks\", \"Variable2\": \"PersonalityChanges\", \"Correlation\": 0.037685771599383626}, {\"Variable1\": \"Forgetfulness\", \"Variable2\": \"PersonalityChanges\", \"Correlation\": -0.013311424544700872}, {\"Variable1\": \"Diagnosis\", \"Variable2\": \"PersonalityChanges\", \"Correlation\": -0.020627462537192404}, {\"Variable1\": \"Age\", \"Variable2\": \"DifficultyCompletingTasks\", \"Correlation\": 0.01390041016334703}, {\"Variable1\": \"Gender\", \"Variable2\": \"DifficultyCompletingTasks\", \"Correlation\": -0.0016358012819473787}, {\"Variable1\": \"Ethnicity\", \"Variable2\": \"DifficultyCompletingTasks\", \"Correlation\": 0.019362617965243238}, {\"Variable1\": \"EducationLevel\", \"Variable2\": \"DifficultyCompletingTasks\", \"Correlation\": 0.013032749626857926}, {\"Variable1\": \"BMI\", \"Variable2\": \"DifficultyCompletingTasks\", \"Correlation\": -0.03939961904561917}, {\"Variable1\": \"Smoking\", \"Variable2\": \"DifficultyCompletingTasks\", \"Correlation\": 0.0017410132063869184}, {\"Variable1\": \"AlcoholConsumption\", \"Variable2\": \"DifficultyCompletingTasks\", \"Correlation\": -0.002712048905445025}, {\"Variable1\": \"PhysicalActivity\", \"Variable2\": \"DifficultyCompletingTasks\", \"Correlation\": 0.03116908901528341}, {\"Variable1\": \"DietQuality\", \"Variable2\": \"DifficultyCompletingTasks\", \"Correlation\": 0.04573671660474048}, {\"Variable1\": \"SleepQuality\", \"Variable2\": \"DifficultyCompletingTasks\", \"Correlation\": 0.011237088857220103}, {\"Variable1\": \"FamilyHistoryAlzheimers\", \"Variable2\": \"DifficultyCompletingTasks\", \"Correlation\": 0.00878687485028826}, {\"Variable1\": \"CardiovascularDisease\", \"Variable2\": \"DifficultyCompletingTasks\", \"Correlation\": 0.024683965832621373}, {\"Variable1\": \"Diabetes\", \"Variable2\": \"DifficultyCompletingTasks\", \"Correlation\": -0.0014657602120706364}, {\"Variable1\": \"Depression\", \"Variable2\": \"DifficultyCompletingTasks\", \"Correlation\": -0.01714478058399669}, {\"Variable1\": \"HeadInjury\", \"Variable2\": \"DifficultyCompletingTasks\", \"Correlation\": 0.010645531055471181}, {\"Variable1\": \"Hypertension\", \"Variable2\": \"DifficultyCompletingTasks\", \"Correlation\": -0.0027800859741645284}, {\"Variable1\": \"SystolicBP\", \"Variable2\": \"DifficultyCompletingTasks\", \"Correlation\": -0.0035977523072230773}, {\"Variable1\": \"DiastolicBP\", \"Variable2\": \"DifficultyCompletingTasks\", \"Correlation\": -0.026220459109564036}, {\"Variable1\": \"CholesterolTotal\", \"Variable2\": \"DifficultyCompletingTasks\", \"Correlation\": -0.017936081270071853}, {\"Variable1\": \"CholesterolLDL\", \"Variable2\": \"DifficultyCompletingTasks\", \"Correlation\": -0.011551994262783626}, {\"Variable1\": \"CholesterolHDL\", \"Variable2\": \"DifficultyCompletingTasks\", \"Correlation\": -0.056946778446518166}, {\"Variable1\": \"CholesterolTriglycerides\", \"Variable2\": \"DifficultyCompletingTasks\", \"Correlation\": -0.04189897822126419}, {\"Variable1\": \"MMSE\", \"Variable2\": \"DifficultyCompletingTasks\", \"Correlation\": 0.0032937787329038516}, {\"Variable1\": \"FunctionalAssessment\", \"Variable2\": \"DifficultyCompletingTasks\", \"Correlation\": 0.019804903963268543}, {\"Variable1\": \"MemoryComplaints\", \"Variable2\": \"DifficultyCompletingTasks\", \"Correlation\": 0.04415126189042178}, {\"Variable1\": \"BehavioralProblems\", \"Variable2\": \"DifficultyCompletingTasks\", \"Correlation\": -0.01917438670308625}, {\"Variable1\": \"ADL\", \"Variable2\": \"DifficultyCompletingTasks\", \"Correlation\": -0.025645636786790982}, {\"Variable1\": \"Confusion\", \"Variable2\": \"DifficultyCompletingTasks\", \"Correlation\": -0.022002796194452008}, {\"Variable1\": \"Disorientation\", \"Variable2\": \"DifficultyCompletingTasks\", \"Correlation\": -0.02076669971509849}, {\"Variable1\": \"PersonalityChanges\", \"Variable2\": \"DifficultyCompletingTasks\", \"Correlation\": 0.037685771599383626}, {\"Variable1\": \"DifficultyCompletingTasks\", \"Variable2\": \"DifficultyCompletingTasks\", \"Correlation\": 1.0}, {\"Variable1\": \"Forgetfulness\", \"Variable2\": \"DifficultyCompletingTasks\", \"Correlation\": -0.013386189010886689}, {\"Variable1\": \"Diagnosis\", \"Variable2\": \"DifficultyCompletingTasks\", \"Correlation\": 0.009068581809868215}, {\"Variable1\": \"Age\", \"Variable2\": \"Forgetfulness\", \"Correlation\": -0.019279351203730224}, {\"Variable1\": \"Gender\", \"Variable2\": \"Forgetfulness\", \"Correlation\": -0.02853665560666138}, {\"Variable1\": \"Ethnicity\", \"Variable2\": \"Forgetfulness\", \"Correlation\": -0.03461871016165004}, {\"Variable1\": \"EducationLevel\", \"Variable2\": \"Forgetfulness\", \"Correlation\": -0.008685107976809058}, {\"Variable1\": \"BMI\", \"Variable2\": \"Forgetfulness\", \"Correlation\": 0.07113117355945427}, {\"Variable1\": \"Smoking\", \"Variable2\": \"Forgetfulness\", \"Correlation\": 0.01801121995206261}, {\"Variable1\": \"AlcoholConsumption\", \"Variable2\": \"Forgetfulness\", \"Correlation\": -0.024121131364977386}, {\"Variable1\": \"PhysicalActivity\", \"Variable2\": \"Forgetfulness\", \"Correlation\": 0.009836798627184142}, {\"Variable1\": \"DietQuality\", \"Variable2\": \"Forgetfulness\", \"Correlation\": 0.00617526692870697}, {\"Variable1\": \"SleepQuality\", \"Variable2\": \"Forgetfulness\", \"Correlation\": 0.0029295249606487088}, {\"Variable1\": \"FamilyHistoryAlzheimers\", \"Variable2\": \"Forgetfulness\", \"Correlation\": 0.022338746633336647}, {\"Variable1\": \"CardiovascularDisease\", \"Variable2\": \"Forgetfulness\", \"Correlation\": 0.010169940129395047}, {\"Variable1\": \"Diabetes\", \"Variable2\": \"Forgetfulness\", \"Correlation\": -0.0076440146692056165}, {\"Variable1\": \"Depression\", \"Variable2\": \"Forgetfulness\", \"Correlation\": 0.017822446488998805}, {\"Variable1\": \"HeadInjury\", \"Variable2\": \"Forgetfulness\", \"Correlation\": -1.9532577363135835e-05}, {\"Variable1\": \"Hypertension\", \"Variable2\": \"Forgetfulness\", \"Correlation\": 0.029931049389626062}, {\"Variable1\": \"SystolicBP\", \"Variable2\": \"Forgetfulness\", \"Correlation\": -0.011356724412601788}, {\"Variable1\": \"DiastolicBP\", \"Variable2\": \"Forgetfulness\", \"Correlation\": 0.005857315420006538}, {\"Variable1\": \"CholesterolTotal\", \"Variable2\": \"Forgetfulness\", \"Correlation\": -0.02532610985624098}, {\"Variable1\": \"CholesterolLDL\", \"Variable2\": \"Forgetfulness\", \"Correlation\": -0.0005881425465522759}, {\"Variable1\": \"CholesterolHDL\", \"Variable2\": \"Forgetfulness\", \"Correlation\": -0.016662107839943256}, {\"Variable1\": \"CholesterolTriglycerides\", \"Variable2\": \"Forgetfulness\", \"Correlation\": 0.0035261047393676656}, {\"Variable1\": \"MMSE\", \"Variable2\": \"Forgetfulness\", \"Correlation\": 0.011848284707492635}, {\"Variable1\": \"FunctionalAssessment\", \"Variable2\": \"Forgetfulness\", \"Correlation\": 0.019387240126358337}, {\"Variable1\": \"MemoryComplaints\", \"Variable2\": \"Forgetfulness\", \"Correlation\": -0.006960980275817329}, {\"Variable1\": \"BehavioralProblems\", \"Variable2\": \"Forgetfulness\", \"Correlation\": 0.023374281082088815}, {\"Variable1\": \"ADL\", \"Variable2\": \"Forgetfulness\", \"Correlation\": -0.00259457364075555}, {\"Variable1\": \"Confusion\", \"Variable2\": \"Forgetfulness\", \"Correlation\": 0.01010005923022753}, {\"Variable1\": \"Disorientation\", \"Variable2\": \"Forgetfulness\", \"Correlation\": -0.03201338437884781}, {\"Variable1\": \"PersonalityChanges\", \"Variable2\": \"Forgetfulness\", \"Correlation\": -0.013311424544700872}, {\"Variable1\": \"DifficultyCompletingTasks\", \"Variable2\": \"Forgetfulness\", \"Correlation\": -0.013386189010886689}, {\"Variable1\": \"Forgetfulness\", \"Variable2\": \"Forgetfulness\", \"Correlation\": 1.0}, {\"Variable1\": \"Diagnosis\", \"Variable2\": \"Forgetfulness\", \"Correlation\": -0.00035428982556098756}, {\"Variable1\": \"Age\", \"Variable2\": \"Diagnosis\", \"Correlation\": -0.005488377592358493}, {\"Variable1\": \"Gender\", \"Variable2\": \"Diagnosis\", \"Correlation\": -0.02097471026094928}, {\"Variable1\": \"Ethnicity\", \"Variable2\": \"Diagnosis\", \"Correlation\": -0.01478229536935003}, {\"Variable1\": \"EducationLevel\", \"Variable2\": \"Diagnosis\", \"Correlation\": -0.04396584958332178}, {\"Variable1\": \"BMI\", \"Variable2\": \"Diagnosis\", \"Correlation\": 0.02634281302888019}, {\"Variable1\": \"Smoking\", \"Variable2\": \"Diagnosis\", \"Correlation\": -0.004865235195237045}, {\"Variable1\": \"AlcoholConsumption\", \"Variable2\": \"Diagnosis\", \"Correlation\": -0.007617968445114058}, {\"Variable1\": \"PhysicalActivity\", \"Variable2\": \"Diagnosis\", \"Correlation\": 0.0059450424530866205}, {\"Variable1\": \"DietQuality\", \"Variable2\": \"Diagnosis\", \"Correlation\": 0.00850577133339512}, {\"Variable1\": \"SleepQuality\", \"Variable2\": \"Diagnosis\", \"Correlation\": -0.056548086007109054}, {\"Variable1\": \"FamilyHistoryAlzheimers\", \"Variable2\": \"Diagnosis\", \"Correlation\": -0.03289974752274733}, {\"Variable1\": \"CardiovascularDisease\", \"Variable2\": \"Diagnosis\", \"Correlation\": 0.03149024640849238}, {\"Variable1\": \"Diabetes\", \"Variable2\": \"Diagnosis\", \"Correlation\": -0.0315076041564909}, {\"Variable1\": \"Depression\", \"Variable2\": \"Diagnosis\", \"Correlation\": -0.005892907030010054}, {\"Variable1\": \"HeadInjury\", \"Variable2\": \"Diagnosis\", \"Correlation\": -0.021411425744208398}, {\"Variable1\": \"Hypertension\", \"Variable2\": \"Diagnosis\", \"Correlation\": 0.03508003438192649}, {\"Variable1\": \"SystolicBP\", \"Variable2\": \"Diagnosis\", \"Correlation\": -0.015615231331618039}, {\"Variable1\": \"DiastolicBP\", \"Variable2\": \"Diagnosis\", \"Correlation\": 0.0052926798025988995}, {\"Variable1\": \"CholesterolTotal\", \"Variable2\": \"Diagnosis\", \"Correlation\": 0.00639446298384668}, {\"Variable1\": \"CholesterolLDL\", \"Variable2\": \"Diagnosis\", \"Correlation\": -0.03197582594293156}, {\"Variable1\": \"CholesterolHDL\", \"Variable2\": \"Diagnosis\", \"Correlation\": 0.042584041328001386}, {\"Variable1\": \"CholesterolTriglycerides\", \"Variable2\": \"Diagnosis\", \"Correlation\": 0.022671877013684238}, {\"Variable1\": \"MMSE\", \"Variable2\": \"Diagnosis\", \"Correlation\": -0.2371256070735205}, {\"Variable1\": \"FunctionalAssessment\", \"Variable2\": \"Diagnosis\", \"Correlation\": -0.36489830657691513}, {\"Variable1\": \"MemoryComplaints\", \"Variable2\": \"Diagnosis\", \"Correlation\": 0.30674239370561934}, {\"Variable1\": \"BehavioralProblems\", \"Variable2\": \"Diagnosis\", \"Correlation\": 0.22435040084778998}, {\"Variable1\": \"ADL\", \"Variable2\": \"Diagnosis\", \"Correlation\": -0.33234591625477783}, {\"Variable1\": \"Confusion\", \"Variable2\": \"Diagnosis\", \"Correlation\": -0.01918571967575}, {\"Variable1\": \"Disorientation\", \"Variable2\": \"Diagnosis\", \"Correlation\": -0.024648156933488655}, {\"Variable1\": \"PersonalityChanges\", \"Variable2\": \"Diagnosis\", \"Correlation\": -0.020627462537192404}, {\"Variable1\": \"DifficultyCompletingTasks\", \"Variable2\": \"Diagnosis\", \"Correlation\": 0.009068581809868215}, {\"Variable1\": \"Forgetfulness\", \"Variable2\": \"Diagnosis\", \"Correlation\": -0.00035428982556098756}, {\"Variable1\": \"Diagnosis\", \"Variable2\": \"Diagnosis\", \"Correlation\": 1.0}]}}, {\"mode\": \"vega-lite\"});\n",
              "</script>"
            ],
            "text/plain": [
              "alt.Chart(...)"
            ]
          },
          "metadata": {},
          "execution_count": 10
        }
      ]
    },
    {
      "cell_type": "code",
      "source": [
        "X = df.drop('Diagnosis', axis=1)\n",
        "y = df['Diagnosis']"
      ],
      "metadata": {
        "id": "Gq38Ru8PlMyV"
      },
      "execution_count": 11,
      "outputs": []
    },
    {
      "cell_type": "code",
      "source": [
        "smote = SMOTE(random_state=42)\n",
        "X_resampled, y_resampled = smote.fit_resample(X, y)\n",
        "\n",
        "X_resampled_df = pd.DataFrame(X_resampled, columns=X_resampled.columns)\n",
        "y_resampled_df = pd.DataFrame(y_resampled, columns=['Diagnosis'])\n",
        "\n",
        "new_df = pd.concat([X_resampled_df, y_resampled_df], axis=1)\n",
        "\n",
        "balanced_df = new_df['Diagnosis'].value_counts().rename_axis('Diagnosis').reset_index(name='Count')\n",
        "\n",
        "sns.barplot(x='Diagnosis', y='Count', data=balanced_df)\n",
        "plt.xlabel('Diagnosis')\n",
        "plt.ylabel('Count')\n",
        "plt.title('Distribution of Diagnosis')\n",
        "plt.show()"
      ],
      "metadata": {
        "colab": {
          "base_uri": "https://localhost:8080/",
          "height": 472
        },
        "id": "9hRla0jN7Fxw",
        "outputId": "5b2d5848-1445-4639-f68f-7eaad7c6188e"
      },
      "execution_count": 12,
      "outputs": [
        {
          "output_type": "display_data",
          "data": {
            "text/plain": [
              "<Figure size 640x480 with 1 Axes>"
            ],
            "image/png": "[encoded data removed]"
          },
          "metadata": {}
        }
      ]
    },
    {
      "cell_type": "code",
      "source": [
        "X_train, X_test, y_train, y_test = train_test_split(X_resampled, y_resampled, random_state=42, test_size=0.2)"
      ],
      "metadata": {
        "id": "2DF2IkQBlQZN"
      },
      "execution_count": 13,
      "outputs": []
    },
    {
      "cell_type": "markdown",
      "source": [
        "### Normalisasi\n",
        "\n",
        "Tujuannya yaitu supaya bobot masing-masing kolom memiliki skala yang sama, sehingga bias dapat dihindari.\n",
        "\n",
        "Pada **KNN** misalnya, skala sangat penting karena **KNN** menggunakan jarak sebagai perhitungan."
      ],
      "metadata": {
        "id": "aHCEc46GlWF6"
      }
    },
    {
      "cell_type": "code",
      "source": [
        "scaler = StandardScaler()\n",
        "X_train_scaled = scaler.fit_transform(X_train)\n",
        "X_test_scaled = scaler.transform(X_test)"
      ],
      "metadata": {
        "id": "pXtsi08klUZX"
      },
      "execution_count": 14,
      "outputs": []
    },
    {
      "cell_type": "code",
      "source": [
        "X_train_scaled"
      ],
      "metadata": {
        "id": "HaRmcxcblYKv",
        "colab": {
          "base_uri": "https://localhost:8080/"
        },
        "outputId": "10ee7129-9850-487d-d75b-4235b8260174"
      },
      "execution_count": 15,
      "outputs": [
        {
          "output_type": "execute_result",
          "data": {
            "text/plain": [
              "array([[-0.21685097,  1.11250332,  1.43674017, ...,  2.72335577,\n",
              "        -0.38666334, -0.57492514],\n",
              "       [ 0.01358559, -0.89887372,  0.37929179, ..., -0.36719404,\n",
              "        -0.38666334, -0.57492514],\n",
              "       [-0.33206926, -0.89887372, -0.67815659, ...,  2.72335577,\n",
              "        -0.38666334,  1.73935687],\n",
              "       ...,\n",
              "       [ 1.16576844, -0.89887372,  0.37929179, ..., -0.36719404,\n",
              "        -0.38666334, -0.57492514],\n",
              "       [ 1.62664157,  1.11250332, -0.67815659, ..., -0.36719404,\n",
              "        -0.38666334, -0.57492514],\n",
              "       [-0.44728754, -0.89887372,  1.43674017, ..., -0.36719404,\n",
              "        -0.38666334, -0.57492514]])"
            ]
          },
          "metadata": {},
          "execution_count": 15
        }
      ]
    },
    {
      "cell_type": "code",
      "source": [
        "def evaluate_model(model, X_train, X_test, y_train, y_test):\n",
        "    model.fit(X_train, y_train)\n",
        "    y_pred = model.predict(X_test)\n",
        "    accuracy = accuracy_score(y_test, y_pred)\n",
        "    return accuracy"
      ],
      "metadata": {
        "id": "fTAGi1NGlbLX"
      },
      "execution_count": 16,
      "outputs": []
    },
    {
      "cell_type": "markdown",
      "source": [
        "## 2. Model Construction"
      ],
      "metadata": {
        "id": "JYOvrdFpmvcB"
      }
    },
    {
      "cell_type": "code",
      "source": [
        "neighbors = 7"
      ],
      "metadata": {
        "id": "G6GvlckrlsWU"
      },
      "execution_count": 18,
      "outputs": []
    },
    {
      "cell_type": "markdown",
      "source": [
        "### Building Models\n",
        "\n",
        "Model yang akan dibuat disini adalah **XgBoost** dan **KNN (K Nearest Neighbors)**"
      ],
      "metadata": {
        "id": "K7_leZapoHRa"
      }
    },
    {
      "cell_type": "code",
      "source": [
        "xgb_model = xgb.XGBClassifier()\n",
        "\n",
        "# Parameter Grid\n",
        "param_grid = {\n",
        "    'max_depth': [3, 6, 9],\n",
        "    'learning_rate': [0.01, 0.1, 0.2],\n",
        "    'n_estimators': [50, 100, 200],\n",
        "    'subsample': [0.8, 1],\n",
        "    'colsample_bytree': [0.8, 1],\n",
        "}\n",
        "\n",
        "# Grid Search\n",
        "grid_search = GridSearchCV(estimator=xgb_model, param_grid=param_grid, cv=3, scoring='accuracy', verbose=1)\n",
        "grid_search.fit(X_train_scaled, y_train)\n",
        "\n",
        "print(\"Best Params:\", grid_search.best_params_)\n",
        "print(\"Best Score:\", grid_search.best_score_)"
      ],
      "metadata": {
        "colab": {
          "base_uri": "https://localhost:8080/"
        },
        "id": "NIaMAeqN7W_J",
        "outputId": "f0a290f4-699e-4edf-9f5d-201bb953ccb2"
      },
      "execution_count": 19,
      "outputs": [
        {
          "output_type": "stream",
          "name": "stdout",
          "text": [
            "Fitting 3 folds for each of 108 candidates, totalling 324 fits\n",
            "Best Params: {'colsample_bytree': 1, 'learning_rate': 0.1, 'max_depth': 9, 'n_estimators': 200, 'subsample': 0.8}\n",
            "Best Score: 0.9189894347789084\n"
          ]
        }
      ]
    },
    {
      "cell_type": "code",
      "source": [
        "knn_model = KNeighborsClassifier()\n",
        "\n",
        "knn_param_grid = {\n",
        "    'n_neighbors': [i for i in range(3, 100, 2)]\n",
        "}\n",
        "\n",
        "knn_grid_search = GridSearchCV(estimator=knn_model, param_grid=knn_param_grid, cv=3, scoring='accuracy', verbose=1)\n",
        "knn_grid_search.fit(X_train_scaled, y_train)\n",
        "\n",
        "print(\"Best Params:\", knn_grid_search.best_params_)\n",
        "print(\"Best Score:\", knn_grid_search.best_score_)"
      ],
      "metadata": {
        "colab": {
          "base_uri": "https://localhost:8080/"
        },
        "id": "jg6rxuea7X5f",
        "outputId": "e2a3d204-24a7-4bb3-9ca2-4f91c93a3156"
      },
      "execution_count": 20,
      "outputs": [
        {
          "output_type": "stream",
          "name": "stdout",
          "text": [
            "Fitting 3 folds for each of 49 candidates, totalling 147 fits\n",
            "Best Params: {'n_neighbors': 7}\n",
            "Best Score: 0.722320093372725\n"
          ]
        }
      ]
    },
    {
      "cell_type": "code",
      "source": [
        "models = {\n",
        "    \"XGBoost\": xgb.XGBClassifier(\n",
        "        colsample_bytree=grid_search.best_params_['colsample_bytree'],\n",
        "        learning_rate=grid_search.best_params_['learning_rate'],\n",
        "        max_depth=grid_search.best_params_['max_depth'],\n",
        "        n_estimators=grid_search.best_params_['n_estimators'],\n",
        "        subsample=grid_search.best_params_['subsample']),\n",
        "    \"KNN\": KNeighborsClassifier(n_neighbors=knn_grid_search.best_params_['n_neighbors']),\n",
        "}\n",
        "\n",
        "for model_name, model in models.items():\n",
        "    model.fit(X_train_scaled, y_train)"
      ],
      "metadata": {
        "id": "C7Xz9QfRluyQ"
      },
      "execution_count": 23,
      "outputs": []
    },
    {
      "cell_type": "markdown",
      "source": [
        "## 3. Model Evaluation"
      ],
      "metadata": {
        "id": "6ikHmPmYoLyQ"
      }
    },
    {
      "cell_type": "code",
      "source": [
        "def display_confusion_matrix(y_test, y_pred, model):\n",
        "    cm = confusion_matrix(\n",
        "        y_test, y_pred,\n",
        "        labels=model.classes_\n",
        "    )\n",
        "    disp = ConfusionMatrixDisplay(confusion_matrix=cm,\n",
        "                              display_labels=model.classes_)\n",
        "    disp.plot()\n",
        "    plt.show()"
      ],
      "metadata": {
        "id": "Nz5yTydelxP0"
      },
      "execution_count": 24,
      "outputs": []
    },
    {
      "cell_type": "code",
      "source": [
        "y_pred = {}\n",
        "y_pred['XGBoost'] = models['XGBoost'].predict(X_test_scaled)\n",
        "y_pred['KNN'] = models['KNN'].predict(X_test_scaled)"
      ],
      "metadata": {
        "id": "MN4yuIFFuOoq"
      },
      "execution_count": 25,
      "outputs": []
    },
    {
      "cell_type": "code",
      "source": [
        "def altair_confusion_matrix(y_test, y_pred, model_name):\n",
        "    cm = confusion_matrix(y_test, y_pred)\n",
        "    cm_df = pd.DataFrame(cm, index=['False', 'True'], columns=['False', 'True'])\n",
        "    cm_df = cm_df.reset_index().melt(id_vars='index', var_name='Predicted', value_name='Count')\n",
        "    cm_df.rename(columns={'index': 'Actual'}, inplace=True)\n",
        "\n",
        "    heatmap = alt.Chart(cm_df, height=400, width=400).mark_rect().encode(\n",
        "        x=alt.X('Predicted:N', title='Predicted Label', axis=alt.Axis(labelFontSize=14, titleFontSize=16, labelAngle=0)),\n",
        "        y=alt.Y('Actual:N', title='Actual Label', axis=alt.Axis(labelFontSize=14, titleFontSize=16)),\n",
        "        color=alt.Color('Count:Q', scale=alt.Scale(scheme='blues'), title='Count'),\n",
        "        tooltip=[alt.Tooltip('Actual:N'), alt.Tooltip('Predicted:N'), alt.Tooltip('Count:Q')]\n",
        "    ).properties(\n",
        "        title=f'Confusion Matrix Heatmap of {model_name} (True vs False)'\n",
        "    )\n",
        "\n",
        "    text_annotations = heatmap.mark_text(\n",
        "        align='center',\n",
        "        baseline='middle',\n",
        "        fontSize=20,\n",
        "    ).encode(\n",
        "        color=alt.value('black'),\n",
        "        text='Count:Q'\n",
        "    )\n",
        "\n",
        "    return heatmap + text_annotations"
      ],
      "metadata": {
        "id": "_bOZSuxHuQro"
      },
      "execution_count": 26,
      "outputs": []
    },
    {
      "cell_type": "markdown",
      "source": [
        "### Confusion Matrix"
      ],
      "metadata": {
        "id": "TKjKRdappBhN"
      }
    },
    {
      "cell_type": "code",
      "source": [
        "cm_xgb = altair_confusion_matrix(y_test, y_pred['XGBoost'], 'XGBoost')\n",
        "cm_knn = altair_confusion_matrix(y_test, y_pred['KNN'], 'KNN')\n",
        "\n",
        "alt.hconcat(cm_xgb, cm_knn)"
      ],
      "metadata": {
        "colab": {
          "base_uri": "https://localhost:8080/",
          "height": 491
        },
        "id": "NcgPTV32uTGc",
        "outputId": "a2389f7b-9a8c-404b-a9a2-4c8961493295"
      },
      "execution_count": 27,
      "outputs": [
        {
          "output_type": "execute_result",
          "data": {
            "text/html": [
              "\n",
              "<style>\n",
              "  #altair-viz-9b1f7f4a3c6b4065be66fa779ef06871.vega-embed {\n",
              "    width: 100%;\n",
              "    display: flex;\n",
              "  }\n",
              "\n",
              "  #altair-viz-9b1f7f4a3c6b4065be66fa779ef06871.vega-embed details,\n",
              "  #altair-viz-9b1f7f4a3c6b4065be66fa779ef06871.vega-embed details summary {\n",
              "    position: relative;\n",
              "  }\n",
              "</style>\n",
              "<div id=\"altair-viz-9b1f7f4a3c6b4065be66fa779ef06871\"></div>\n",
              "<script type=\"text/javascript\">\n",
              "  var VEGA_DEBUG = (typeof VEGA_DEBUG == \"undefined\") ? {} : VEGA_DEBUG;\n",
              "  (function(spec, embedOpt){\n",
              "    let outputDiv = document.currentScript.previousElementSibling;\n",
              "    if (outputDiv.id !== \"altair-viz-9b1f7f4a3c6b4065be66fa779ef06871\") {\n",
              "      outputDiv = document.getElementById(\"altair-viz-9b1f7f4a3c6b4065be66fa779ef06871\");\n",
              "    }\n",
              "\n",
              "    const paths = {\n",
              "      \"vega\": \"https://cdn.jsdelivr.net/npm/vega@5?noext\",\n",
              "      \"vega-lib\": \"https://cdn.jsdelivr.net/npm/vega-lib?noext\",\n",
              "      \"vega-lite\": \"https://cdn.jsdelivr.net/npm/vega-lite@5.20.1?noext\",\n",
              "      \"vega-embed\": \"https://cdn.jsdelivr.net/npm/vega-embed@6?noext\",\n",
              "    };\n",
              "\n",
              "    function maybeLoadScript(lib, version) {\n",
              "      var key = `${lib.replace(\"-\", \"\")}_version`;\n",
              "      return (VEGA_DEBUG[key] == version) ?\n",
              "        Promise.resolve(paths[lib]) :\n",
              "        new Promise(function(resolve, reject) {\n",
              "          var s = document.createElement('script');\n",
              "          document.getElementsByTagName(\"head\")[0].appendChild(s);\n",
              "          s.async = true;\n",
              "          s.onload = () => {\n",
              "            VEGA_DEBUG[key] = version;\n",
              "            return resolve(paths[lib]);\n",
              "          };\n",
              "          s.onerror = () => reject(`Error loading script: ${paths[lib]}`);\n",
              "          s.src = paths[lib];\n",
              "        });\n",
              "    }\n",
              "\n",
              "    function showError(err) {\n",
              "      outputDiv.innerHTML = `<div class=\"error\" style=\"color:red;\">${err}</div>`;\n",
              "      throw err;\n",
              "    }\n",
              "\n",
              "    function displayChart(vegaEmbed) {\n",
              "      vegaEmbed(outputDiv, spec, embedOpt)\n",
              "        .catch(err => showError(`Javascript Error: ${err.message}<br>This usually means there's a typo in your chart specification. See the javascript console for the full traceback.`));\n",
              "    }\n",
              "\n",
              "    if(typeof define === \"function\" && define.amd) {\n",
              "      requirejs.config({paths});\n",
              "      let deps = [\"vega-embed\"];\n",
              "      require(deps, displayChart, err => showError(`Error loading script: ${err.message}`));\n",
              "    } else {\n",
              "      maybeLoadScript(\"vega\", \"5\")\n",
              "        .then(() => maybeLoadScript(\"vega-lite\", \"5.20.1\"))\n",
              "        .then(() => maybeLoadScript(\"vega-embed\", \"6\"))\n",
              "        .catch(showError)\n",
              "        .then(() => displayChart(vegaEmbed));\n",
              "    }\n",
              "  })({\"config\": {\"view\": {\"continuousWidth\": 300, \"continuousHeight\": 300}}, \"hconcat\": [{\"layer\": [{\"mark\": {\"type\": \"rect\"}, \"encoding\": {\"color\": {\"field\": \"Count\", \"scale\": {\"scheme\": \"blues\"}, \"title\": \"Count\", \"type\": \"quantitative\"}, \"tooltip\": [{\"field\": \"Actual\", \"type\": \"nominal\"}, {\"field\": \"Predicted\", \"type\": \"nominal\"}, {\"field\": \"Count\", \"type\": \"quantitative\"}], \"x\": {\"axis\": {\"labelAngle\": 0, \"labelFontSize\": 14, \"titleFontSize\": 16}, \"field\": \"Predicted\", \"title\": \"Predicted Label\", \"type\": \"nominal\"}, \"y\": {\"axis\": {\"labelFontSize\": 14, \"titleFontSize\": 16}, \"field\": \"Actual\", \"title\": \"Actual Label\", \"type\": \"nominal\"}}, \"title\": \"Confusion Matrix Heatmap of XGBoost (True vs False)\"}, {\"mark\": {\"type\": \"text\", \"align\": \"center\", \"baseline\": \"middle\", \"fontSize\": 20}, \"encoding\": {\"color\": {\"value\": \"black\"}, \"text\": {\"field\": \"Count\", \"type\": \"quantitative\"}, \"tooltip\": [{\"field\": \"Actual\", \"type\": \"nominal\"}, {\"field\": \"Predicted\", \"type\": \"nominal\"}, {\"field\": \"Count\", \"type\": \"quantitative\"}], \"x\": {\"axis\": {\"labelAngle\": 0, \"labelFontSize\": 14, \"titleFontSize\": 16}, \"field\": \"Predicted\", \"title\": \"Predicted Label\", \"type\": \"nominal\"}, \"y\": {\"axis\": {\"labelFontSize\": 14, \"titleFontSize\": 16}, \"field\": \"Actual\", \"title\": \"Actual Label\", \"type\": \"nominal\"}}, \"title\": \"Confusion Matrix Heatmap of XGBoost (True vs False)\"}], \"data\": {\"name\": \"data-e473420087c26e5ef6d9615679dc064b\"}, \"height\": 400, \"width\": 400}, {\"layer\": [{\"mark\": {\"type\": \"rect\"}, \"encoding\": {\"color\": {\"field\": \"Count\", \"scale\": {\"scheme\": \"blues\"}, \"title\": \"Count\", \"type\": \"quantitative\"}, \"tooltip\": [{\"field\": \"Actual\", \"type\": \"nominal\"}, {\"field\": \"Predicted\", \"type\": \"nominal\"}, {\"field\": \"Count\", \"type\": \"quantitative\"}], \"x\": {\"axis\": {\"labelAngle\": 0, \"labelFontSize\": 14, \"titleFontSize\": 16}, \"field\": \"Predicted\", \"title\": \"Predicted Label\", \"type\": \"nominal\"}, \"y\": {\"axis\": {\"labelFontSize\": 14, \"titleFontSize\": 16}, \"field\": \"Actual\", \"title\": \"Actual Label\", \"type\": \"nominal\"}}, \"title\": \"Confusion Matrix Heatmap of KNN (True vs False)\"}, {\"mark\": {\"type\": \"text\", \"align\": \"center\", \"baseline\": \"middle\", \"fontSize\": 20}, \"encoding\": {\"color\": {\"value\": \"black\"}, \"text\": {\"field\": \"Count\", \"type\": \"quantitative\"}, \"tooltip\": [{\"field\": \"Actual\", \"type\": \"nominal\"}, {\"field\": \"Predicted\", \"type\": \"nominal\"}, {\"field\": \"Count\", \"type\": \"quantitative\"}], \"x\": {\"axis\": {\"labelAngle\": 0, \"labelFontSize\": 14, \"titleFontSize\": 16}, \"field\": \"Predicted\", \"title\": \"Predicted Label\", \"type\": \"nominal\"}, \"y\": {\"axis\": {\"labelFontSize\": 14, \"titleFontSize\": 16}, \"field\": \"Actual\", \"title\": \"Actual Label\", \"type\": \"nominal\"}}, \"title\": \"Confusion Matrix Heatmap of KNN (True vs False)\"}], \"data\": {\"name\": \"data-2599dfbdd927ae8e8992c235a5072544\"}, \"height\": 400, \"width\": 400}], \"$schema\": \"https://vega.github.io/schema/vega-lite/v5.20.1.json\", \"datasets\": {\"data-e473420087c26e5ef6d9615679dc064b\": [{\"Actual\": \"False\", \"Predicted\": \"False\", \"Count\": 262}, {\"Actual\": \"True\", \"Predicted\": \"False\", \"Count\": 40}, {\"Actual\": \"False\", \"Predicted\": \"True\", \"Count\": 11}, {\"Actual\": \"True\", \"Predicted\": \"True\", \"Count\": 243}], \"data-2599dfbdd927ae8e8992c235a5072544\": [{\"Actual\": \"False\", \"Predicted\": \"False\", \"Count\": 161}, {\"Actual\": \"True\", \"Predicted\": \"False\", \"Count\": 30}, {\"Actual\": \"False\", \"Predicted\": \"True\", \"Count\": 112}, {\"Actual\": \"True\", \"Predicted\": \"True\", \"Count\": 253}]}}, {\"mode\": \"vega-lite\"});\n",
              "</script>"
            ],
            "text/plain": [
              "alt.HConcatChart(...)"
            ]
          },
          "metadata": {},
          "execution_count": 27
        }
      ]
    },
    {
      "cell_type": "markdown",
      "source": [
        "#### Evaluation Model Report"
      ],
      "metadata": {
        "id": "3TaYo15kqFu7"
      }
    },
    {
      "cell_type": "code",
      "source": [
        "def evaluate_model_report(y_test, y_pred, model_name):\n",
        "  accuracy = \"{:.2f}%\".format(round(accuracy_score(y_test, y_pred) * 100, 2))\n",
        "  print(f'Accuracy score of {model_name}: {accuracy}')\n",
        "  print(classification_report(y_test, y_pred))"
      ],
      "metadata": {
        "id": "lbkNSOP5l1Qk"
      },
      "execution_count": 28,
      "outputs": []
    },
    {
      "cell_type": "code",
      "source": [
        "xgboost_predictions = models['XGBoost'].predict(X_test)\n",
        "knn_predictions = models['KNN'].predict(X_test)"
      ],
      "metadata": {
        "id": "SwbINA-upomw",
        "colab": {
          "base_uri": "https://localhost:8080/"
        },
        "outputId": "ceb93441-3555-49c4-ff75-28f1745d2bf0"
      },
      "execution_count": 29,
      "outputs": [
        {
          "output_type": "stream",
          "name": "stderr",
          "text": [
            "/usr/local/lib/python3.10/dist-packages/sklearn/base.py:486: UserWarning: X has feature names, but KNeighborsClassifier was fitted without feature names\n",
            "  warnings.warn(\n"
          ]
        }
      ]
    },
    {
      "cell_type": "code",
      "source": [
        "for key, value in models.items():\n",
        "    evaluate_model_report(y_test, y_pred[key], key)"
      ],
      "metadata": {
        "colab": {
          "base_uri": "https://localhost:8080/"
        },
        "id": "3cyPRR0Quh3Z",
        "outputId": "137f968a-d13a-4f4f-bae9-f3c2a0d54d99"
      },
      "execution_count": 30,
      "outputs": [
        {
          "output_type": "stream",
          "name": "stdout",
          "text": [
            "Accuracy score of XGBoost: 90.83%\n",
            "              precision    recall  f1-score   support\n",
            "\n",
            "           0       0.87      0.96      0.91       273\n",
            "           1       0.96      0.86      0.91       283\n",
            "\n",
            "    accuracy                           0.91       556\n",
            "   macro avg       0.91      0.91      0.91       556\n",
            "weighted avg       0.91      0.91      0.91       556\n",
            "\n",
            "Accuracy score of KNN: 74.46%\n",
            "              precision    recall  f1-score   support\n",
            "\n",
            "           0       0.84      0.59      0.69       273\n",
            "           1       0.69      0.89      0.78       283\n",
            "\n",
            "    accuracy                           0.74       556\n",
            "   macro avg       0.77      0.74      0.74       556\n",
            "weighted avg       0.77      0.74      0.74       556\n",
            "\n"
          ]
        }
      ]
    },
    {
      "cell_type": "code",
      "source": [
        "xgb_accuracy = \"{:.2f}\".format(round(accuracy_score(y_test, y_pred['XGBoost']) * 100, 2))\n",
        "knn_accuracy = \"{:.2f}\".format(round(accuracy_score(y_test, y_pred['KNN']) * 100, 2))\n",
        "\n",
        "results_df = pd.DataFrame(\n",
        "    {\n",
        "        'Model': ['XGBoost', 'KNN'],\n",
        "        'Accuracy': [float(xgb_accuracy), float(knn_accuracy)]\n",
        "    }\n",
        ")\n",
        "\n",
        "sns.barplot(results_df, x='Model', y='Accuracy')\n",
        "plt.show()"
      ],
      "metadata": {
        "colab": {
          "base_uri": "https://localhost:8080/",
          "height": 449
        },
        "id": "t9m6kg-Z7wNK",
        "outputId": "c2853431-7373-4bbd-bebf-26a0d61f92df"
      },
      "execution_count": 35,
      "outputs": [
        {
          "output_type": "display_data",
          "data": {
            "text/plain": [
              "<Figure size 640x480 with 1 Axes>"
            ],
            "image/png": "[encoded data removed]"
          },
          "metadata": {}
        }
      ]
    },
    {
      "cell_type": "markdown",
      "source": [
        "## 5. Kesimpulan"
      ],
      "metadata": {
        "id": "nH27-fVzoNfn"
      }
    },
    {
      "cell_type": "markdown",
      "source": [
        "Xgboost memiliki performa yang lebih baik dari KNN dengan mendapatkan akurasi sekitar 91%, sedangkan KNN hanya mendapatkan akurasi tertinggi sekitar 74%."
      ],
      "metadata": {
        "id": "A3ZbIxajnZia"
      }
    },
    {
      "cell_type": "code",
      "source": [],
      "metadata": {
        "id": "Ivc0Ta7Mnj1u"
      },
      "execution_count": null,
      "outputs": []
    }
  ]
}